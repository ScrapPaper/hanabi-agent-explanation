{
 "cells": [
  {
   "cell_type": "markdown",
   "metadata": {
    "gradient": {
     "editing": false,
     "id": "c698c2f2-1062-4cd9-8890-28ed22414726",
     "kernelId": "1b47f9e2-5f6c-4dd2-8f5b-90929e58ce89"
    }
   },
   "source": [
    "## Decision list learning\n",
    "\n",
    "#### BioHEL hyperparameter tuning\n",
    "\n",
    "* Iterations: 25, **50**, 100, 200\n",
    "* Population size: 25, **500**, 1000, 2000\n",
    "* Increasing either value improvs accuracy at the expense of interpretability and execution time \n",
    "  "
   ]
  },
  {
   "cell_type": "code",
   "execution_count": 1,
   "metadata": {
    "collapsed": false,
    "execution": {
     "iopub.execute_input": "2022-04-26T07:38:28.424091Z",
     "iopub.status.busy": "2022-04-26T07:38:28.423813Z",
     "iopub.status.idle": "2022-04-26T07:38:28.429717Z",
     "shell.execute_reply": "2022-04-26T07:38:28.428937Z",
     "shell.execute_reply.started": "2022-04-26T07:38:28.424052Z"
    },
    "gradient": {
     "editing": false,
     "id": "15d5f396-23ee-4787-a415-dcb3ebc22071",
     "kernelId": "1b47f9e2-5f6c-4dd2-8f5b-90929e58ce89",
     "source_hidden": false
    },
    "jupyter": {
     "outputs_hidden": false
    }
   },
   "outputs": [
    {
     "name": "stdout",
     "output_type": "stream",
     "text": [
      "/notebooks/BioHEL-demo/BioHEL-cuda\n"
     ]
    }
   ],
   "source": [
    "%cd /notebooks/BioHEL-demo/BioHEL-cuda"
   ]
  },
  {
   "cell_type": "code",
   "execution_count": null,
   "metadata": {
    "collapsed": false,
    "gradient": {
     "editing": false,
     "id": "06dd5591-d61f-499d-9dd2-9dd916cfa68d",
     "kernelId": "1b47f9e2-5f6c-4dd2-8f5b-90929e58ce89",
     "source_hidden": false
    },
    "jupyter": {
     "outputs_hidden": false
    }
   },
   "outputs": [
    {
     "name": "stdout",
     "output_type": "stream",
     "text": [
      "+ sed s/\\(random seed\\).*/\\1 2961189679/g base50250Outputs/test.conf\n",
      "+ ./biohelcuda - Datasets/small_train.txt Datasets/small_test.txt\n",
      "+ sed s/\\(random seed\\).*/\\1 608568075/g base50250Outputs/test.conf\n",
      "+ ./biohelcuda - Datasets/small_train.txt Datasets/small_test.txt\n",
      "+ sed s/\\(random seed\\).*/\\1 775509230/g base50250Outputs/test.conf\n",
      "+ ./biohelcuda - Datasets/small_train.txt Datasets/small_test.txt\n",
      "+ sed s/\\(random seed\\).*/\\1 1961362653/g base50250Outputs/test.conf\n",
      "+ ./biohelcuda - Datasets/small_train.txt Datasets/small_test.txt\n",
      "+ sed s/\\(random seed\\).*/\\1 2805398842/g base50250Outputs/test.conf\n",
      "+ ./biohelcuda - Datasets/small_train.txt Datasets/small_test.txt\n",
      "+ sed s/\\(random seed\\).*/\\1 2961189679/g base25250Outputs/test.conf\n",
      "+ ./biohelcuda - Datasets/small_train.txt Datasets/small_test.txt\n",
      "+ sed s/\\(random seed\\).*/\\1 608568075/g base25250Outputs/test.conf\n",
      "+ ./biohelcuda - Datasets/small_train.txt Datasets/small_test.txt\n",
      "+ sed s/\\(random seed\\).*/\\1 775509230/g base25250Outputs/test.conf\n",
      "+ ./biohelcuda - Datasets/small_train.txt Datasets/small_test.txt\n",
      "+ sed s/\\(random seed\\).*/\\1 1961362653/g base25250Outputs/test.conf\n",
      "+ ./biohelcuda - Datasets/small_train.txt Datasets/small_test.txt\n",
      "+ sed s/\\(random seed\\).*/\\1 2805398842/g base25250Outputs/test.conf\n",
      "+ ./biohelcuda - Datasets/small_train.txt Datasets/small_test.txt\n",
      "+ sed s/\\(random seed\\).*/\\1 2961189679/g base25500Outputs/test.conf\n",
      "+ ./biohelcuda - Datasets/small_train.txt Datasets/small_test.txt\n",
      "+ sed s/\\(random seed\\).*/\\1 608568075/g base25500Outputs/test.conf\n",
      "+ ./biohelcuda - Datasets/small_train.txt Datasets/small_test.txt\n",
      "+ sed s/\\(random seed\\).*/\\1 775509230/g base25500Outputs/test.conf\n",
      "+ ./biohelcuda - Datasets/small_train.txt Datasets/small_test.txt\n",
      "+ sed s/\\(random seed\\).*/\\1 1961362653/g base25500Outputs/test.conf\n",
      "+ ./biohelcuda - Datasets/small_train.txt Datasets/small_test.txt\n",
      "+ sed s/\\(random seed\\).*/\\1 2805398842/g base25500Outputs/test.conf\n",
      "+ ./biohelcuda - Datasets/small_train.txt Datasets/small_test.txt\n",
      "+ sed s/\\(random seed\\).*/\\1 2961189679/g base251000Outputs/test.conf\n",
      "+ ./biohelcuda - Datasets/small_train.txt Datasets/small_test.txt\n",
      "+ sed s/\\(random seed\\).*/\\1 608568075/g base251000Outputs/test.conf\n",
      "+ ./biohelcuda - Datasets/small_train.txt Datasets/small_test.txt\n",
      "+ sed s/\\(random seed\\).*/\\1 775509230/g base251000Outputs/test.conf\n",
      "+ ./biohelcuda - Datasets/small_train.txt Datasets/small_test.txt\n",
      "+ sed s/\\(random seed\\).*/\\1 1961362653/g base251000Outputs/test.conf\n",
      "+ ./biohelcuda - Datasets/small_train.txt Datasets/small_test.txt\n",
      "+ sed s/\\(random seed\\).*/\\1 2805398842/g base251000Outputs/test.conf\n",
      "+ ./biohelcuda - Datasets/small_train.txt Datasets/small_test.txt\n",
      "+ sed s/\\(random seed\\).*/\\1 2961189679/g base252000Outputs/test.conf\n",
      "+ ./biohelcuda - Datasets/small_train.txt Datasets/small_test.txt\n",
      "+ sed s/\\(random seed\\).*/\\1 608568075/g base252000Outputs/test.conf\n",
      "+ ./biohelcuda - Datasets/small_train.txt Datasets/small_test.txt\n",
      "+ sed s/\\(random seed\\).*/\\1 775509230/g base252000Outputs/test.conf\n",
      "+ ./biohelcuda - Datasets/small_train.txt Datasets/small_test.txt\n",
      "+ sed s/\\(random seed\\).*/\\1 1961362653/g base252000Outputs/test.conf\n",
      "+ ./biohelcuda - Datasets/small_train.txt Datasets/small_test.txt\n",
      "+ sed s/\\(random seed\\).*/\\1 2805398842/g base252000Outputs/test.conf\n",
      "+ ./biohelcuda - Datasets/small_train.txt Datasets/small_test.txt\n",
      "+ sed s/\\(random seed\\).*/\\1 2961189679/g base100250Outputs/test.conf\n",
      "+ ./biohelcuda - Datasets/small_train.txt Datasets/small_test.txt\n",
      "+ sed s/\\(random seed\\).*/\\1 608568075/g base100250Outputs/test.conf\n",
      "+ ./biohelcuda - Datasets/small_train.txt Datasets/small_test.txt\n",
      "+ sed s/\\(random seed\\).*/\\1 775509230/g base100250Outputs/test.conf\n",
      "+ ./biohelcuda - Datasets/small_train.txt Datasets/small_test.txt\n",
      "+ sed s/\\(random seed\\).*/\\1 1961362653/g base100250Outputs/test.conf\n",
      "+ ./biohelcuda - Datasets/small_train.txt Datasets/small_test.txt\n",
      "+ sed s/\\(random seed\\).*/\\1 2805398842/g base100250Outputs/test.conf\n",
      "+ ./biohelcuda - Datasets/small_train.txt Datasets/small_test.txt\n",
      "+ sed s/\\(random seed\\).*/\\1 2961189679/g base100500Outputs/test.conf\n",
      "+ ./biohelcuda - Datasets/small_train.txt Datasets/small_test.txt\n",
      "+ sed s/\\(random seed\\).*/\\1 608568075/g base100500Outputs/test.conf\n",
      "+ ./biohelcuda - Datasets/small_train.txt Datasets/small_test.txt\n",
      "+ sed s/\\(random seed\\).*/\\1 775509230/g base100500Outputs/test.conf\n",
      "+ ./biohelcuda - Datasets/small_train.txt Datasets/small_test.txt\n",
      "+ sed s/\\(random seed\\).*/\\1 1961362653/g base100500Outputs/test.conf\n",
      "+ ./biohelcuda - Datasets/small_train.txt Datasets/small_test.txt\n",
      "+ sed s/\\(random seed\\).*/\\1 2805398842/g base100500Outputs/test.conf\n",
      "+ ./biohelcuda - Datasets/small_train.txt Datasets/small_test.txt\n"
     ]
    }
   ],
   "source": [
    "# BioHEL hyperparameter tuning\n",
    "!./runAll"
   ]
  },
  {
   "cell_type": "markdown",
   "metadata": {},
   "source": [
    "## Evaluate programmatically-constructed attributes"
   ]
  },
  {
   "cell_type": "code",
   "execution_count": null,
   "metadata": {
    "collapsed": false,
    "gradient": {
     "editing": false,
     "execution_count": 6,
     "id": "61897aee-8edc-412f-ab41-3e84fc7c1282",
     "kernelId": "1b47f9e2-5f6c-4dd2-8f5b-90929e58ce89",
     "source_hidden": false
    },
    "jupyter": {
     "outputs_hidden": false
    }
   },
   "outputs": [
    {
     "name": "stdout",
     "output_type": "stream",
     "text": [
      "+ sed s/\\(random seed\\).*/\\1 2961189679/g Configs/test.conf\n",
      "+ ./biohelcuda - Datasets/small_disj_c2_65_train.txt Datasets/small_disj_c2_65_test.txt\n",
      "+ sed s/\\(random seed\\).*/\\1 608568075/g Configs/test.conf\n",
      "+ ./biohelcuda - Datasets/small_disj_c2_65_train.txt Datasets/small_disj_c2_65_test.txt\n",
      "+ sed s/\\(random seed\\).*/\\1 775509230/g Configs/test.conf\n",
      "+ ./biohelcuda - Datasets/small_disj_c2_65_train.txt Datasets/small_disj_c2_65_test.txt\n",
      "+ sed s/\\(random seed\\).*/\\1 1961362653/g Configs/test.conf\n",
      "+ ./biohelcuda - Datasets/small_disj_c2_65_train.txt Datasets/small_disj_c2_65_test.txt\n",
      "+ sed s/\\(random seed\\).*/\\1 2805398842/g Configs/test.conf\n",
      "+ ./biohelcuda - Datasets/small_disj_c2_65_train.txt Datasets/small_disj_c2_65_test.txt\n"
     ]
    }
   ],
   "source": [
    "# 55 base + 10 chi2-selected disjunction attributes\n",
    "!./run_trials Configs/test.conf Datasets/small_disj_c2_65_train.txt Datasets/small_disj_c2_65_test.txt disjC265Outputs"
   ]
  },
  {
   "cell_type": "code",
   "execution_count": null,
   "metadata": {
    "collapsed": false,
    "gradient": {
     "editing": false,
     "execution_count": 7,
     "id": "3fb527a4-99e8-4e50-a712-bc7d619ed272",
     "kernelId": "1b47f9e2-5f6c-4dd2-8f5b-90929e58ce89",
     "source_hidden": false
    },
    "jupyter": {
     "outputs_hidden": false
    }
   },
   "outputs": [
    {
     "name": "stdout",
     "output_type": "stream",
     "text": [
      "+ sed s/\\(random seed\\).*/\\1 2961189679/g Configs/test.conf\n",
      "+ ./biohelcuda - Datasets/small_disj_c2_100_train.txt Datasets/small_disj_c2_100_test.txt\n",
      "+ sed s/\\(random seed\\).*/\\1 608568075/g Configs/test.conf\n",
      "+ ./biohelcuda - Datasets/small_disj_c2_100_train.txt Datasets/small_disj_c2_100_test.txt\n",
      "+ sed s/\\(random seed\\).*/\\1 775509230/g Configs/test.conf\n",
      "+ ./biohelcuda - Datasets/small_disj_c2_100_train.txt Datasets/small_disj_c2_100_test.txt\n",
      "+ sed s/\\(random seed\\).*/\\1 1961362653/g Configs/test.conf\n",
      "+ ./biohelcuda - Datasets/small_disj_c2_100_train.txt Datasets/small_disj_c2_100_test.txt\n",
      "+ sed s/\\(random seed\\).*/\\1 2805398842/g Configs/test.conf\n",
      "+ ./biohelcuda - Datasets/small_disj_c2_100_train.txt Datasets/small_disj_c2_100_test.txt\n"
     ]
    }
   ],
   "source": [
    "# 55 base + 45 chi2-selected disjunction attributes\n",
    "!./run_trials Configs/test.conf Datasets/small_disj_c2_100_train.txt Datasets/small_disj_c2_100_test.txt disjC2100Outputs"
   ]
  },
  {
   "cell_type": "code",
   "execution_count": null,
   "metadata": {
    "collapsed": false,
    "gradient": {
     "editing": false,
     "execution_count": 8,
     "id": "b1448f45-550c-4254-bbb5-4234dacc02a4",
     "kernelId": "1b47f9e2-5f6c-4dd2-8f5b-90929e58ce89",
     "source_hidden": false
    },
    "jupyter": {
     "outputs_hidden": false
    }
   },
   "outputs": [
    {
     "name": "stdout",
     "output_type": "stream",
     "text": [
      "+ sed s/\\(random seed\\).*/\\1 2961189679/g Configs/test.conf\n",
      "+ ./biohelcuda - Datasets/small_disj_mi_65_train.txt Datasets/small_disj_mi_65_test.txt\n",
      "+ sed s/\\(random seed\\).*/\\1 608568075/g Configs/test.conf\n",
      "+ ./biohelcuda - Datasets/small_disj_mi_65_train.txt Datasets/small_disj_mi_65_test.txt\n",
      "+ sed s/\\(random seed\\).*/\\1 775509230/g Configs/test.conf\n",
      "+ ./biohelcuda - Datasets/small_disj_mi_65_train.txt Datasets/small_disj_mi_65_test.txt\n",
      "+ sed s/\\(random seed\\).*/\\1 1961362653/g Configs/test.conf\n",
      "+ ./biohelcuda - Datasets/small_disj_mi_65_train.txt Datasets/small_disj_mi_65_test.txt\n",
      "+ sed s/\\(random seed\\).*/\\1 2805398842/g Configs/test.conf\n",
      "+ ./biohelcuda - Datasets/small_disj_mi_65_train.txt Datasets/small_disj_mi_65_test.txt\n"
     ]
    }
   ],
   "source": [
    "# 55 base + 10 mutual_info-selected disjunction attributes\n",
    "!./run_trials Configs/test.conf Datasets/small_disj_mi_65_train.txt Datasets/small_disj_mi_65_test.txt disjMI65Outputs"
   ]
  },
  {
   "cell_type": "code",
   "execution_count": null,
   "metadata": {
    "collapsed": false,
    "gradient": {
     "editing": false,
     "execution_count": 9,
     "id": "85707dd5-2fe8-4218-a907-029aa587dc85",
     "kernelId": "1b47f9e2-5f6c-4dd2-8f5b-90929e58ce89",
     "source_hidden": false
    },
    "jupyter": {
     "outputs_hidden": false
    }
   },
   "outputs": [
    {
     "name": "stdout",
     "output_type": "stream",
     "text": [
      "+ sed s/\\(random seed\\).*/\\1 2961189679/g Configs/test.conf\n",
      "+ ./biohelcuda - Datasets/small_disj_mi_100_train.txt Datasets/small_disj_mi_100_test.txt\n",
      "+ sed s/\\(random seed\\).*/\\1 608568075/g Configs/test.conf\n",
      "+ ./biohelcuda - Datasets/small_disj_mi_100_train.txt Datasets/small_disj_mi_100_test.txt\n",
      "+ sed s/\\(random seed\\).*/\\1 775509230/g Configs/test.conf\n",
      "+ ./biohelcuda - Datasets/small_disj_mi_100_train.txt Datasets/small_disj_mi_100_test.txt\n",
      "+ sed s/\\(random seed\\).*/\\1 1961362653/g Configs/test.conf\n",
      "+ ./biohelcuda - Datasets/small_disj_mi_100_train.txt Datasets/small_disj_mi_100_test.txt\n",
      "+ sed s/\\(random seed\\).*/\\1 2805398842/g Configs/test.conf\n",
      "+ ./biohelcuda - Datasets/small_disj_mi_100_train.txt Datasets/small_disj_mi_100_test.txt\n"
     ]
    }
   ],
   "source": [
    "# 55 base + 45 mutual_info-selected disjunction attributes\n",
    "!./run_trials Configs/test.conf Datasets/small_disj_mi_100_train.txt Datasets/small_disj_mi_100_test.txt disjMI100Outputs"
   ]
  },
  {
   "cell_type": "markdown",
   "metadata": {},
   "source": [
    "## Evaluate inference attributes\n",
    "\n",
    "### Hanabi-Small"
   ]
  },
  {
   "cell_type": "code",
   "execution_count": 6,
   "metadata": {
    "execution": {
     "iopub.execute_input": "2022-04-10T05:51:21.697118Z",
     "iopub.status.busy": "2022-04-10T05:51:21.696824Z",
     "iopub.status.idle": "2022-04-10T06:04:08.662980Z",
     "shell.execute_reply": "2022-04-10T06:04:08.662383Z",
     "shell.execute_reply.started": "2022-04-10T05:51:21.697077Z"
    }
   },
   "outputs": [
    {
     "name": "stdout",
     "output_type": "stream",
     "text": [
      "+ sed s/\\(random seed\\).*/\\1 2961189679/g Configs/test.conf\n",
      "+ ./biohelcuda - Datasets/small_train.txt Datasets/small_test.txt\n",
      "+ sed s/\\(random seed\\).*/\\1 608568075/g Configs/test.conf\n",
      "+ ./biohelcuda - Datasets/small_train.txt Datasets/small_test.txt\n",
      "+ sed s/\\(random seed\\).*/\\1 775509230/g Configs/test.conf\n",
      "+ ./biohelcuda - Datasets/small_train.txt Datasets/small_test.txt\n",
      "+ sed s/\\(random seed\\).*/\\1 1961362653/g Configs/test.conf\n",
      "+ ./biohelcuda - Datasets/small_train.txt Datasets/small_test.txt\n",
      "+ sed s/\\(random seed\\).*/\\1 2805398842/g Configs/test.conf\n",
      "+ ./biohelcuda - Datasets/small_train.txt Datasets/small_test.txt\n"
     ]
    }
   ],
   "source": [
    "!./run_trials Configs/test.conf Datasets/small_train.txt Datasets/small_test.txt baseOutputs"
   ]
  },
  {
   "cell_type": "code",
   "execution_count": 7,
   "metadata": {
    "execution": {
     "iopub.execute_input": "2022-04-10T06:04:08.664221Z",
     "iopub.status.busy": "2022-04-10T06:04:08.664040Z",
     "iopub.status.idle": "2022-04-10T06:19:03.919978Z",
     "shell.execute_reply": "2022-04-10T06:19:03.919321Z",
     "shell.execute_reply.started": "2022-04-10T06:04:08.664195Z"
    }
   },
   "outputs": [
    {
     "name": "stdout",
     "output_type": "stream",
     "text": [
      "+ sed s/\\(random seed\\).*/\\1 2961189679/g Configs/test.conf\n",
      "+ ./biohelcuda - Datasets/small_belief_train.txt Datasets/small_belief_test.txt\n",
      "+ sed s/\\(random seed\\).*/\\1 608568075/g Configs/test.conf\n",
      "+ ./biohelcuda - Datasets/small_belief_train.txt Datasets/small_belief_test.txt\n",
      "+ sed s/\\(random seed\\).*/\\1 775509230/g Configs/test.conf\n",
      "+ ./biohelcuda - Datasets/small_belief_train.txt Datasets/small_belief_test.txt\n",
      "+ sed s/\\(random seed\\).*/\\1 1961362653/g Configs/test.conf\n",
      "+ ./biohelcuda - Datasets/small_belief_train.txt Datasets/small_belief_test.txt\n",
      "+ sed s/\\(random seed\\).*/\\1 2805398842/g Configs/test.conf\n",
      "+ ./biohelcuda - Datasets/small_belief_train.txt Datasets/small_belief_test.txt\n"
     ]
    }
   ],
   "source": [
    "!./run_trials Configs/test.conf Datasets/small_belief_train.txt Datasets/small_belief_test.txt beliefOutputs"
   ]
  },
  {
   "cell_type": "code",
   "execution_count": 21,
   "metadata": {
    "execution": {
     "iopub.execute_input": "2022-04-10T07:05:36.521723Z",
     "iopub.status.busy": "2022-04-10T07:05:36.521273Z",
     "iopub.status.idle": "2022-04-10T07:22:23.645924Z",
     "shell.execute_reply": "2022-04-10T07:22:23.645324Z",
     "shell.execute_reply.started": "2022-04-10T07:05:36.521646Z"
    }
   },
   "outputs": [
    {
     "name": "stdout",
     "output_type": "stream",
     "text": [
      "+ sed s/\\(random seed\\).*/\\1 2961189679/g Configs/test.conf\n",
      "+ ./biohelcuda - Datasets/small_deduce.txt Datasets/small_dbase1_test.txt\n",
      "+ sed s/\\(random seed\\).*/\\1 608568075/g Configs/test.conf\n",
      "+ ./biohelcuda - Datasets/small_deduce.txt Datasets/small_dbase1_test.txt\n",
      "+ sed s/\\(random seed\\).*/\\1 775509230/g Configs/test.conf\n",
      "+ ./biohelcuda - Datasets/small_deduce.txt Datasets/small_dbase1_test.txt\n",
      "+ sed s/\\(random seed\\).*/\\1 1961362653/g Configs/test.conf\n",
      "+ ./biohelcuda - Datasets/small_deduce.txt Datasets/small_dbase1_test.txt\n",
      "+ sed s/\\(random seed\\).*/\\1 2805398842/g Configs/test.conf\n",
      "+ ./biohelcuda - Datasets/small_deduce.txt Datasets/small_dbase1_test.txt\n"
     ]
    }
   ],
   "source": [
    "!./run_trials Configs/test.conf Datasets/small_deduce_train.txt Datasets/small_deduce_test.txt dbaseOutputs"
   ]
  },
  {
   "cell_type": "code",
   "execution_count": 22,
   "metadata": {
    "execution": {
     "iopub.execute_input": "2022-04-10T07:30:27.274695Z",
     "iopub.status.busy": "2022-04-10T07:30:27.274414Z",
     "iopub.status.idle": "2022-04-10T07:53:10.541903Z",
     "shell.execute_reply": "2022-04-10T07:53:10.541052Z",
     "shell.execute_reply.started": "2022-04-10T07:30:27.274660Z"
    }
   },
   "outputs": [
    {
     "name": "stdout",
     "output_type": "stream",
     "text": [
      "+ sed s/\\(random seed\\).*/\\1 2961189679/g Configs/test.conf\n",
      "+ ./biohelcuda - Datasets/small_belief_deduce_train.txt Datasets/small_belief_deduce_test.txt\n",
      "+ sed s/\\(random seed\\).*/\\1 608568075/g Configs/test.conf\n",
      "+ ./biohelcuda - Datasets/small_belief_deduce_train.txt Datasets/small_belief_deduce_test.txt\n",
      "+ sed s/\\(random seed\\).*/\\1 775509230/g Configs/test.conf\n",
      "+ ./biohelcuda - Datasets/small_belief_deduce_train.txt Datasets/small_belief_deduce_test.txt\n",
      "+ sed s/\\(random seed\\).*/\\1 1961362653/g Configs/test.conf\n",
      "+ ./biohelcuda - Datasets/small_belief_deduce_train.txt Datasets/small_belief_deduce_test.txt\n",
      "+ sed s/\\(random seed\\).*/\\1 2805398842/g Configs/test.conf\n",
      "+ ./biohelcuda - Datasets/small_belief_deduce_train.txt Datasets/small_belief_deduce_test.txt\n"
     ]
    }
   ],
   "source": [
    "!./run_trials Configs/test.conf Datasets/small_belief_deduce_train.txt Datasets/small_belief_deduce_test.txt dbeliefOutputs"
   ]
  },
  {
   "cell_type": "code",
   "execution_count": 9,
   "metadata": {
    "execution": {
     "iopub.execute_input": "2022-04-10T06:30:08.238927Z",
     "iopub.status.busy": "2022-04-10T06:30:08.238488Z",
     "iopub.status.idle": "2022-04-10T06:30:08.844039Z",
     "shell.execute_reply": "2022-04-10T06:30:08.843408Z",
     "shell.execute_reply.started": "2022-04-10T06:30:08.238889Z"
    }
   },
   "outputs": [
    {
     "name": "stdout",
     "output_type": "stream",
     "text": [
      "0.548250\n",
      "0.537100\n",
      "0.577200\n",
      "0.578500\n",
      "0.581550\n"
     ]
    }
   ],
   "source": [
    "!./accuracy baseOutputs"
   ]
  },
  {
   "cell_type": "code",
   "execution_count": 8,
   "metadata": {
    "execution": {
     "iopub.execute_input": "2022-04-10T06:29:52.131176Z",
     "iopub.status.busy": "2022-04-10T06:29:52.130901Z",
     "iopub.status.idle": "2022-04-10T06:29:52.734838Z",
     "shell.execute_reply": "2022-04-10T06:29:52.734192Z",
     "shell.execute_reply.started": "2022-04-10T06:29:52.131143Z"
    }
   },
   "outputs": [
    {
     "name": "stdout",
     "output_type": "stream",
     "text": [
      "0.549900\n",
      "0.617450\n",
      "0.586900\n",
      "0.604600\n",
      "0.602050\n"
     ]
    }
   ],
   "source": [
    "!./accuracy beliefOutputs"
   ]
  },
  {
   "cell_type": "code",
   "execution_count": 3,
   "metadata": {
    "execution": {
     "iopub.execute_input": "2022-05-10T16:04:05.081621Z",
     "iopub.status.busy": "2022-05-10T16:04:05.081322Z",
     "iopub.status.idle": "2022-05-10T16:04:05.085133Z",
     "shell.execute_reply": "2022-05-10T16:04:05.084263Z",
     "shell.execute_reply.started": "2022-05-10T16:04:05.081578Z"
    }
   },
   "outputs": [],
   "source": [
    "!./run_trials_extra Configs/test.conf Datasets/small_train.txt        Datasets/small_test.txt        baseOutputs\n",
    "!./run_trials_extra Configs/test.conf Datasets/small_deduce_train.txt Datasets/small_deduce_test.txt dbaseOutputs\n",
    "!./run_trials_extra Configs/test.conf Datasets/small_belief_train.txt Datasets/small_belief_test.txt beliefOutputs\n",
    "!./run_trials_extra Configs/test.conf Datasets/small_belief_deduce_train.txt Datasets/small_belief_deduce_test.txt dbeliefOutputs"
   ]
  },
  {
   "cell_type": "markdown",
   "metadata": {},
   "source": [
    "### Standard Hanabi"
   ]
  },
  {
   "cell_type": "code",
   "execution_count": null,
   "metadata": {},
   "outputs": [],
   "source": [
    "!./run_trials Configs/test.conf Datasets/train.txt        Datasets/test.txt        full/baseOutputs\n",
    "!./run_trials Configs/test.conf Datasets/deduce_train.txt Datasets/deduce_test.txt full/dbaseOutputs\n",
    "!./run_trials Configs/test.conf Datasets/belief_train.txt Datasets/belief_test.txt full/beliefOutputs\n",
    "!./run_trials Configs/test.conf Datasets/belief_deduce_train.txt Datasets/belief_deduce_test.txt full/dbeliefOutputs"
   ]
  },
  {
   "cell_type": "markdown",
   "metadata": {},
   "source": [
    "## Evaluate chop attributes\n",
    "\n",
    "### Hanabi-Small"
   ]
  },
  {
   "cell_type": "code",
   "execution_count": 4,
   "metadata": {
    "execution": {
     "iopub.execute_input": "2022-04-26T02:06:26.082863Z",
     "iopub.status.busy": "2022-04-26T02:06:26.082558Z",
     "iopub.status.idle": "2022-04-26T02:30:29.663892Z",
     "shell.execute_reply": "2022-04-26T02:30:29.663256Z",
     "shell.execute_reply.started": "2022-04-26T02:06:26.082831Z"
    }
   },
   "outputs": [
    {
     "name": "stdout",
     "output_type": "stream",
     "text": [
      "+ sed s/\\(random seed\\).*/\\1 2961189679/g Configs/test.conf\n",
      "+ ./biohelcuda - Datasets/small_belief_chop_train.txt Datasets/small_belief_chop_test.txt\n",
      "+ sed s/\\(random seed\\).*/\\1 608568075/g Configs/test.conf\n",
      "+ ./biohelcuda - Datasets/small_belief_chop_train.txt Datasets/small_belief_chop_test.txt\n",
      "+ sed s/\\(random seed\\).*/\\1 775509230/g Configs/test.conf\n",
      "+ ./biohelcuda - Datasets/small_belief_chop_train.txt Datasets/small_belief_chop_test.txt\n",
      "+ sed s/\\(random seed\\).*/\\1 1961362653/g Configs/test.conf\n",
      "+ ./biohelcuda - Datasets/small_belief_chop_train.txt Datasets/small_belief_chop_test.txt\n",
      "+ sed s/\\(random seed\\).*/\\1 2805398842/g Configs/test.conf\n",
      "+ ./biohelcuda - Datasets/small_belief_chop_train.txt Datasets/small_belief_chop_test.txt\n"
     ]
    }
   ],
   "source": [
    "!./run_trials Configs/test.conf Datasets/small_belief_chop_train.txt Datasets/small_belief_chop_test.txt cbeliefOutputs"
   ]
  },
  {
   "cell_type": "code",
   "execution_count": 5,
   "metadata": {
    "execution": {
     "iopub.execute_input": "2022-04-26T02:30:29.665271Z",
     "iopub.status.busy": "2022-04-26T02:30:29.665074Z",
     "iopub.status.idle": "2022-04-26T02:54:07.040102Z",
     "shell.execute_reply": "2022-04-26T02:54:07.039325Z",
     "shell.execute_reply.started": "2022-04-26T02:30:29.665243Z"
    }
   },
   "outputs": [
    {
     "name": "stdout",
     "output_type": "stream",
     "text": [
      "+ sed s/\\(random seed\\).*/\\1 2067696344/g Configs/test.conf\n",
      "+ ./biohelcuda - Datasets/small_belief_chop_train.txt Datasets/small_belief_chop_test.txt\n",
      "+ sed s/\\(random seed\\).*/\\1 89106417/g Configs/test.conf\n",
      "+ ./biohelcuda - Datasets/small_belief_chop_train.txt Datasets/small_belief_chop_test.txt\n",
      "+ sed s/\\(random seed\\).*/\\1 1866798170/g Configs/test.conf\n",
      "+ ./biohelcuda - Datasets/small_belief_chop_train.txt Datasets/small_belief_chop_test.txt\n",
      "+ sed s/\\(random seed\\).*/\\1 1179318389/g Configs/test.conf\n",
      "+ ./biohelcuda - Datasets/small_belief_chop_train.txt Datasets/small_belief_chop_test.txt\n",
      "+ sed s/\\(random seed\\).*/\\1 704022111/g Configs/test.conf\n",
      "+ ./biohelcuda - Datasets/small_belief_chop_train.txt Datasets/small_belief_chop_test.txt\n"
     ]
    }
   ],
   "source": [
    "!./run_trials_extra Configs/test.conf Datasets/small_belief_chop_train.txt Datasets/small_belief_chop_test.txt cbeliefOutputs"
   ]
  },
  {
   "cell_type": "code",
   "execution_count": 6,
   "metadata": {
    "execution": {
     "iopub.execute_input": "2022-04-26T02:54:07.041914Z",
     "iopub.status.busy": "2022-04-26T02:54:07.041680Z",
     "iopub.status.idle": "2022-04-26T03:28:39.214188Z",
     "shell.execute_reply": "2022-04-26T03:28:39.213364Z",
     "shell.execute_reply.started": "2022-04-26T02:54:07.041874Z"
    }
   },
   "outputs": [
    {
     "name": "stdout",
     "output_type": "stream",
     "text": [
      "+ sed s/\\(random seed\\).*/\\1 2961189679/g Configs/test.conf\n",
      "+ ./biohelcuda - Datasets/small_belief_deduce_chop_train.txt Datasets/small_belief_deduce_chop_test.txt\n",
      "+ sed s/\\(random seed\\).*/\\1 608568075/g Configs/test.conf\n",
      "+ ./biohelcuda - Datasets/small_belief_deduce_chop_train.txt Datasets/small_belief_deduce_chop_test.txt\n",
      "+ sed s/\\(random seed\\).*/\\1 775509230/g Configs/test.conf\n",
      "+ ./biohelcuda - Datasets/small_belief_deduce_chop_train.txt Datasets/small_belief_deduce_chop_test.txt\n",
      "+ sed s/\\(random seed\\).*/\\1 1961362653/g Configs/test.conf\n",
      "+ ./biohelcuda - Datasets/small_belief_deduce_chop_train.txt Datasets/small_belief_deduce_chop_test.txt\n",
      "+ sed s/\\(random seed\\).*/\\1 2805398842/g Configs/test.conf\n",
      "+ ./biohelcuda - Datasets/small_belief_deduce_chop_train.txt Datasets/small_belief_deduce_chop_test.txt\n"
     ]
    }
   ],
   "source": [
    "!./run_trials Configs/test.conf Datasets/small_belief_deduce_chop_train.txt Datasets/small_belief_deduce_chop_test.txt cdbeliefOutputs"
   ]
  },
  {
   "cell_type": "code",
   "execution_count": 7,
   "metadata": {
    "execution": {
     "iopub.execute_input": "2022-04-26T03:28:39.215794Z",
     "iopub.status.busy": "2022-04-26T03:28:39.215583Z",
     "iopub.status.idle": "2022-04-26T04:02:05.481587Z",
     "shell.execute_reply": "2022-04-26T04:02:05.480895Z",
     "shell.execute_reply.started": "2022-04-26T03:28:39.215758Z"
    }
   },
   "outputs": [
    {
     "name": "stdout",
     "output_type": "stream",
     "text": [
      "+ sed s/\\(random seed\\).*/\\1 2067696344/g Configs/test.conf\n",
      "+ ./biohelcuda - Datasets/small_belief_deduce_chop_train.txt Datasets/small_belief_deduce_chop_test.txt\n",
      "+ sed s/\\(random seed\\).*/\\1 89106417/g Configs/test.conf\n",
      "+ ./biohelcuda - Datasets/small_belief_deduce_chop_train.txt Datasets/small_belief_deduce_chop_test.txt\n",
      "+ sed s/\\(random seed\\).*/\\1 1866798170/g Configs/test.conf\n",
      "+ ./biohelcuda - Datasets/small_belief_deduce_chop_train.txt Datasets/small_belief_deduce_chop_test.txt\n",
      "+ sed s/\\(random seed\\).*/\\1 1179318389/g Configs/test.conf\n",
      "+ ./biohelcuda - Datasets/small_belief_deduce_chop_train.txt Datasets/small_belief_deduce_chop_test.txt\n",
      "+ sed s/\\(random seed\\).*/\\1 704022111/g Configs/test.conf\n",
      "+ ./biohelcuda - Datasets/small_belief_deduce_chop_train.txt Datasets/small_belief_deduce_chop_test.txt\n"
     ]
    }
   ],
   "source": [
    "!./run_trials_extra Configs/test.conf Datasets/small_belief_deduce_chop_train.txt Datasets/small_belief_deduce_chop_test.txt cdbeliefOutputs"
   ]
  },
  {
   "cell_type": "code",
   "execution_count": 8,
   "metadata": {
    "execution": {
     "iopub.execute_input": "2022-04-26T04:02:05.483207Z",
     "iopub.status.busy": "2022-04-26T04:02:05.482893Z",
     "iopub.status.idle": "2022-04-26T04:44:56.473355Z",
     "shell.execute_reply": "2022-04-26T04:44:56.472558Z",
     "shell.execute_reply.started": "2022-04-26T04:02:05.483175Z"
    }
   },
   "outputs": [
    {
     "name": "stdout",
     "output_type": "stream",
     "text": [
      "+ sed s/\\(random seed\\).*/\\1 2961189679/g Configs/test.conf\n",
      "+ ./biohelcuda - Datasets/belief_chop_train.txt Datasets/belief_chop_test.txt\n",
      "+ sed s/\\(random seed\\).*/\\1 608568075/g Configs/test.conf\n",
      "+ ./biohelcuda - Datasets/belief_chop_train.txt Datasets/belief_chop_test.txt\n",
      "+ sed s/\\(random seed\\).*/\\1 775509230/g Configs/test.conf\n",
      "+ ./biohelcuda - Datasets/belief_chop_train.txt Datasets/belief_chop_test.txt\n",
      "+ sed s/\\(random seed\\).*/\\1 1961362653/g Configs/test.conf\n",
      "+ ./biohelcuda - Datasets/belief_chop_train.txt Datasets/belief_chop_test.txt\n",
      "+ sed s/\\(random seed\\).*/\\1 2805398842/g Configs/test.conf\n",
      "+ ./biohelcuda - Datasets/belief_chop_train.txt Datasets/belief_chop_test.txt\n"
     ]
    }
   ],
   "source": [
    "!./run_trials Configs/test.conf Datasets/belief_chop_train.txt Datasets/belief_chop_test.txt full/cbeliefOutputs"
   ]
  },
  {
   "cell_type": "code",
   "execution_count": 9,
   "metadata": {
    "execution": {
     "iopub.execute_input": "2022-04-26T04:44:56.477145Z",
     "iopub.status.busy": "2022-04-26T04:44:56.476961Z",
     "iopub.status.idle": "2022-04-26T05:29:10.540330Z",
     "shell.execute_reply": "2022-04-26T05:29:10.539586Z",
     "shell.execute_reply.started": "2022-04-26T04:44:56.477113Z"
    }
   },
   "outputs": [
    {
     "name": "stdout",
     "output_type": "stream",
     "text": [
      "+ sed s/\\(random seed\\).*/\\1 2067696344/g Configs/test.conf\n",
      "+ ./biohelcuda - Datasets/belief_chop_train.txt Datasets/belief_chop_test.txt\n",
      "+ sed s/\\(random seed\\).*/\\1 89106417/g Configs/test.conf\n",
      "+ ./biohelcuda - Datasets/belief_chop_train.txt Datasets/belief_chop_test.txt\n",
      "+ sed s/\\(random seed\\).*/\\1 1866798170/g Configs/test.conf\n",
      "+ ./biohelcuda - Datasets/belief_chop_train.txt Datasets/belief_chop_test.txt\n",
      "+ sed s/\\(random seed\\).*/\\1 1179318389/g Configs/test.conf\n",
      "+ ./biohelcuda - Datasets/belief_chop_train.txt Datasets/belief_chop_test.txt\n",
      "+ sed s/\\(random seed\\).*/\\1 704022111/g Configs/test.conf\n",
      "+ ./biohelcuda - Datasets/belief_chop_train.txt Datasets/belief_chop_test.txt\n"
     ]
    }
   ],
   "source": [
    "!./run_trials_extra Configs/test.conf Datasets/belief_chop_train.txt Datasets/belief_chop_test.txt full/cbeliefOutputs"
   ]
  },
  {
   "cell_type": "code",
   "execution_count": null,
   "metadata": {
    "execution": {
     "iopub.execute_input": "2022-04-26T05:29:10.542134Z",
     "iopub.status.busy": "2022-04-26T05:29:10.541862Z"
    }
   },
   "outputs": [
    {
     "name": "stdout",
     "output_type": "stream",
     "text": [
      "+ sed s/\\(random seed\\).*/\\1 2961189679/g Configs/test.conf\n",
      "+ ./biohelcuda - Datasets/belief_deduce_chop_train.txt Datasets/belief_deduce_chop_test.txt\n",
      "+ sed s/\\(random seed\\).*/\\1 608568075/g Configs/test.conf\n",
      "+ ./biohelcuda - Datasets/belief_deduce_chop_train.txt Datasets/belief_deduce_chop_test.txt\n",
      "+ sed s/\\(random seed\\).*/\\1 775509230/g Configs/test.conf\n",
      "+ ./biohelcuda - Datasets/belief_deduce_chop_train.txt Datasets/belief_deduce_chop_test.txt\n",
      "+ sed s/\\(random seed\\).*/\\1 1961362653/g Configs/test.conf\n",
      "+ ./biohelcuda - Datasets/belief_deduce_chop_train.txt Datasets/belief_deduce_chop_test.txt\n",
      "+ sed s/\\(random seed\\).*/\\1 2805398842/g Configs/test.conf\n",
      "+ ./biohelcuda - Datasets/belief_deduce_chop_train.txt Datasets/belief_deduce_chop_test.txt\n"
     ]
    }
   ],
   "source": [
    "!./run_trials Configs/test.conf Datasets/belief_deduce_chop_train.txt Datasets/belief_deduce_chop_test.txt full/cdbeliefOutputs"
   ]
  },
  {
   "cell_type": "code",
   "execution_count": 11,
   "metadata": {
    "execution": {
     "iopub.execute_input": "2022-04-26T07:51:52.579816Z",
     "iopub.status.busy": "2022-04-26T07:51:52.579628Z",
     "iopub.status.idle": "2022-04-26T08:35:02.519390Z",
     "shell.execute_reply": "2022-04-26T08:35:02.518569Z",
     "shell.execute_reply.started": "2022-04-26T07:51:52.579784Z"
    }
   },
   "outputs": [
    {
     "name": "stdout",
     "output_type": "stream",
     "text": [
      "+ sed s/\\(random seed\\).*/\\1 2067696344/g Configs/test.conf\n",
      "+ ./biohelcuda - Datasets/belief_deduce_chop_train.txt Datasets/belief_deduce_chop_test.txt\n",
      "+ sed s/\\(random seed\\).*/\\1 89106417/g Configs/test.conf\n",
      "+ ./biohelcuda - Datasets/belief_deduce_chop_train.txt Datasets/belief_deduce_chop_test.txt\n",
      "+ sed s/\\(random seed\\).*/\\1 1866798170/g Configs/test.conf\n",
      "+ ./biohelcuda - Datasets/belief_deduce_chop_train.txt Datasets/belief_deduce_chop_test.txt\n",
      "+ sed s/\\(random seed\\).*/\\1 1179318389/g Configs/test.conf\n",
      "+ ./biohelcuda - Datasets/belief_deduce_chop_train.txt Datasets/belief_deduce_chop_test.txt\n",
      "+ sed s/\\(random seed\\).*/\\1 704022111/g Configs/test.conf\n",
      "+ ./biohelcuda - Datasets/belief_deduce_chop_train.txt Datasets/belief_deduce_chop_test.txt\n"
     ]
    }
   ],
   "source": [
    "!./run_trials_extra Configs/test.conf Datasets/belief_deduce_chop_train.txt Datasets/belief_deduce_chop_test.txt full/cdbeliefOutputs"
   ]
  },
  {
   "cell_type": "markdown",
   "metadata": {},
   "source": [
    "## Limiting rule learning\n",
    "\n",
    "* By increasing the [coverage breakpoint](https://ico2s.org/software/tutorials/biohel.html) hyperparameter from the default 0.01 value to 0.05, rules need to cover a substantially greater number of instances\n",
    "\n",
    "* Since rules must be more general, there are fewer suitable rules, making it more likely for the rule learning process to terminate earlier, unable to generate any futher rules\n",
    "\n",
    "* This tends to improve execution time and interpretability (reduce rule count) at the expense of accuracy"
   ]
  },
  {
   "cell_type": "code",
   "execution_count": 2,
   "metadata": {
    "execution": {
     "iopub.execute_input": "2022-05-10T21:31:37.442786Z",
     "iopub.status.busy": "2022-05-10T21:31:37.442513Z",
     "iopub.status.idle": "2022-05-10T21:32:57.053876Z",
     "shell.execute_reply": "2022-05-10T21:32:57.053308Z",
     "shell.execute_reply.started": "2022-05-10T21:31:37.442747Z"
    }
   },
   "outputs": [
    {
     "name": "stdout",
     "output_type": "stream",
     "text": [
      "+ sed s/\\(random seed\\).*/\\1 2961189679/g limit/baseOutputs/test.conf\n",
      "+ ./biohelcuda - Datasets/train.txt Datasets/test.txt\n",
      "+ sed s/\\(random seed\\).*/\\1 608568075/g limit/baseOutputs/test.conf\n",
      "+ ./biohelcuda - Datasets/train.txt Datasets/test.txt\n",
      "+ sed s/\\(random seed\\).*/\\1 775509230/g limit/baseOutputs/test.conf\n",
      "+ ./biohelcuda - Datasets/train.txt Datasets/test.txt\n",
      "+ sed s/\\(random seed\\).*/\\1 1961362653/g limit/baseOutputs/test.conf\n",
      "+ ./biohelcuda - Datasets/train.txt Datasets/test.txt\n",
      "+ sed s/\\(random seed\\).*/\\1 2805398842/g limit/baseOutputs/test.conf\n",
      "+ ./biohelcuda - Datasets/train.txt Datasets/test.txt\n"
     ]
    }
   ],
   "source": [
    "# coverage breakpoint = 0.05, base attributes\n",
    "!sed 's/\\(coverage breakpoint\\).*/\\1 0.05/g' Configs/test.conf | ./run_trials - Datasets/train.txt Datasets/test.txt limit/baseOutputs"
   ]
  },
  {
   "cell_type": "code",
   "execution_count": 4,
   "metadata": {
    "execution": {
     "iopub.execute_input": "2022-05-10T21:33:27.491083Z",
     "iopub.status.busy": "2022-05-10T21:33:27.490799Z",
     "iopub.status.idle": "2022-05-10T21:35:18.187207Z",
     "shell.execute_reply": "2022-05-10T21:35:18.186566Z",
     "shell.execute_reply.started": "2022-05-10T21:33:27.491042Z"
    }
   },
   "outputs": [
    {
     "name": "stdout",
     "output_type": "stream",
     "text": [
      "+ sed s/\\(random seed\\).*/\\1 2961189679/g limit/beliefOutputs/test.conf\n",
      "+ ./biohelcuda - Datasets/belief_train.txt Datasets/belief_test.txt\n",
      "+ sed s/\\(random seed\\).*/\\1 608568075/g limit/beliefOutputs/test.conf\n",
      "+ ./biohelcuda - Datasets/belief_train.txt Datasets/belief_test.txt\n",
      "+ sed s/\\(random seed\\).*/\\1 775509230/g limit/beliefOutputs/test.conf\n",
      "+ ./biohelcuda - Datasets/belief_train.txt Datasets/belief_test.txt\n",
      "+ sed s/\\(random seed\\).*/\\1 1961362653/g limit/beliefOutputs/test.conf\n",
      "+ ./biohelcuda - Datasets/belief_train.txt Datasets/belief_test.txt\n",
      "+ sed s/\\(random seed\\).*/\\1 2805398842/g limit/beliefOutputs/test.conf\n",
      "+ ./biohelcuda - Datasets/belief_train.txt Datasets/belief_test.txt\n"
     ]
    }
   ],
   "source": [
    "# coverage breakpoint = 0.05, belief attributes\n",
    "!sed 's/\\(coverage breakpoint\\).*/\\1 0.05/g' Configs/test.conf | ./run_trials - Datasets/belief_train.txt Datasets/belief_test.txt limit/beliefOutputs"
   ]
  },
  {
   "cell_type": "code",
   "execution_count": 5,
   "metadata": {
    "execution": {
     "iopub.execute_input": "2022-05-10T21:35:18.190604Z",
     "iopub.status.busy": "2022-05-10T21:35:18.190381Z",
     "iopub.status.idle": "2022-05-10T21:38:23.687103Z",
     "shell.execute_reply": "2022-05-10T21:38:23.686533Z",
     "shell.execute_reply.started": "2022-05-10T21:35:18.190574Z"
    }
   },
   "outputs": [
    {
     "name": "stdout",
     "output_type": "stream",
     "text": [
      "+ sed s/\\(random seed\\).*/\\1 2961189679/g limit/dbeliefOutputs/test.conf\n",
      "+ ./biohelcuda - Datasets/belief_deduce_train.txt Datasets/belief_deduce_test.txt\n",
      "+ sed s/\\(random seed\\).*/\\1 608568075/g limit/dbeliefOutputs/test.conf\n",
      "+ ./biohelcuda - Datasets/belief_deduce_train.txt Datasets/belief_deduce_test.txt\n",
      "+ sed s/\\(random seed\\).*/\\1 775509230/g limit/dbeliefOutputs/test.conf\n",
      "+ ./biohelcuda - Datasets/belief_deduce_train.txt Datasets/belief_deduce_test.txt\n",
      "+ sed s/\\(random seed\\).*/\\1 1961362653/g limit/dbeliefOutputs/test.conf\n",
      "+ ./biohelcuda - Datasets/belief_deduce_train.txt Datasets/belief_deduce_test.txt\n",
      "+ sed s/\\(random seed\\).*/\\1 2805398842/g limit/dbeliefOutputs/test.conf\n",
      "+ ./biohelcuda - Datasets/belief_deduce_train.txt Datasets/belief_deduce_test.txt\n"
     ]
    }
   ],
   "source": [
    "# coverage breakpoint = 0.05, belief + deductions\n",
    "!sed 's/\\(coverage breakpoint\\).*/\\1 0.05/g' Configs/test.conf | ./run_trials - Datasets/belief_deduce_train.txt Datasets/belief_deduce_test.txt limit/dbeliefOutputs"
   ]
  },
  {
   "cell_type": "code",
   "execution_count": 6,
   "metadata": {
    "execution": {
     "iopub.execute_input": "2022-05-10T21:38:23.688551Z",
     "iopub.status.busy": "2022-05-10T21:38:23.688375Z",
     "iopub.status.idle": "2022-05-10T21:43:20.106549Z",
     "shell.execute_reply": "2022-05-10T21:43:20.105964Z",
     "shell.execute_reply.started": "2022-05-10T21:38:23.688526Z"
    }
   },
   "outputs": [
    {
     "name": "stdout",
     "output_type": "stream",
     "text": [
      "+ sed s/\\(random seed\\).*/\\1 2961189679/g limit/cdbeliefOutputs/test.conf\n",
      "+ ./biohelcuda - Datasets/belief_deduce_chop_train.txt Datasets/belief_deduce_chop_test.txt\n",
      "+ sed s/\\(random seed\\).*/\\1 608568075/g limit/cdbeliefOutputs/test.conf\n",
      "+ ./biohelcuda - Datasets/belief_deduce_chop_train.txt Datasets/belief_deduce_chop_test.txt\n",
      "+ sed s/\\(random seed\\).*/\\1 775509230/g limit/cdbeliefOutputs/test.conf\n",
      "+ ./biohelcuda - Datasets/belief_deduce_chop_train.txt Datasets/belief_deduce_chop_test.txt\n",
      "+ sed s/\\(random seed\\).*/\\1 1961362653/g limit/cdbeliefOutputs/test.conf\n",
      "+ ./biohelcuda - Datasets/belief_deduce_chop_train.txt Datasets/belief_deduce_chop_test.txt\n",
      "+ sed s/\\(random seed\\).*/\\1 2805398842/g limit/cdbeliefOutputs/test.conf\n",
      "+ ./biohelcuda - Datasets/belief_deduce_chop_train.txt Datasets/belief_deduce_chop_test.txt\n"
     ]
    }
   ],
   "source": [
    "# coverage breakpoint = 0.05, belief + deductions\n",
    "!sed 's/\\(coverage breakpoint\\).*/\\1 0.05/g' Configs/test.conf | ./run_trials - Datasets/belief_deduce_chop_train.txt Datasets/belief_deduce_chop_test.txt limit/cdbeliefOutputs"
   ]
  },
  {
   "cell_type": "code",
   "execution_count": 2,
   "metadata": {
    "execution": {
     "iopub.execute_input": "2022-05-10T22:03:28.000560Z",
     "iopub.status.busy": "2022-05-10T22:03:28.000288Z",
     "iopub.status.idle": "2022-05-10T22:03:29.193627Z",
     "shell.execute_reply": "2022-05-10T22:03:29.192973Z",
     "shell.execute_reply.started": "2022-05-10T22:03:28.000522Z"
    }
   },
   "outputs": [
    {
     "name": "stdout",
     "output_type": "stream",
     "text": [
      "0.253143\n",
      "0.132667\n",
      "0.253143\n",
      "0.253143\n",
      "0.253143\n",
      "Rule count: 2\n",
      "Average complexity: 0.500000\n",
      "Rule count: 1\n",
      "Average complexity: 0.000000\n",
      "Rule count: 2\n",
      "Average complexity: 0.500000\n",
      "Rule count: 2\n",
      "Average complexity: 0.500000\n",
      "Rule count: 2\n",
      "Average complexity: 0.500000\n"
     ]
    }
   ],
   "source": [
    "!./accuracy limit/baseOutputs\n",
    "!./statistics limit/baseOutputs/*"
   ]
  },
  {
   "cell_type": "code",
   "execution_count": 3,
   "metadata": {
    "execution": {
     "iopub.execute_input": "2022-05-10T22:03:31.353963Z",
     "iopub.status.busy": "2022-05-10T22:03:31.353663Z",
     "iopub.status.idle": "2022-05-10T22:03:32.553973Z",
     "shell.execute_reply": "2022-05-10T22:03:32.553227Z",
     "shell.execute_reply.started": "2022-05-10T22:03:31.353919Z"
    }
   },
   "outputs": [
    {
     "name": "stdout",
     "output_type": "stream",
     "text": [
      "0.132667\n",
      "0.132667\n",
      "0.253143\n",
      "0.253143\n",
      "0.253143\n",
      "Rule count: 1\n",
      "Average complexity: 0.000000\n",
      "Rule count: 1\n",
      "Average complexity: 0.000000\n",
      "Rule count: 2\n",
      "Average complexity: 0.500000\n",
      "Rule count: 2\n",
      "Average complexity: 0.500000\n",
      "Rule count: 2\n",
      "Average complexity: 0.500000\n"
     ]
    }
   ],
   "source": [
    "!./accuracy limit/beliefOutputs\n",
    "!./statistics limit/beliefOutputs/*"
   ]
  },
  {
   "cell_type": "code",
   "execution_count": 4,
   "metadata": {
    "execution": {
     "iopub.execute_input": "2022-05-10T22:03:34.457669Z",
     "iopub.status.busy": "2022-05-10T22:03:34.457378Z",
     "iopub.status.idle": "2022-05-10T22:03:35.662852Z",
     "shell.execute_reply": "2022-05-10T22:03:35.662216Z",
     "shell.execute_reply.started": "2022-05-10T22:03:34.457627Z"
    }
   },
   "outputs": [
    {
     "name": "stdout",
     "output_type": "stream",
     "text": [
      "0.321095\n",
      "0.183048\n",
      "0.312524\n",
      "0.263857\n",
      "0.350333\n",
      "Rule count: 8\n",
      "Average complexity: 2.125000\n",
      "Rule count: 17\n",
      "Average complexity: 1.941176\n",
      "Rule count: 7\n",
      "Average complexity: 0.857143\n",
      "Rule count: 7\n",
      "Average complexity: 1.428571\n",
      "Rule count: 7\n",
      "Average complexity: 1.285714\n"
     ]
    }
   ],
   "source": [
    "!./accuracy limit/dbeliefOutputs\n",
    "!./statistics limit/dbeliefOutputs/*"
   ]
  },
  {
   "cell_type": "code",
   "execution_count": 5,
   "metadata": {
    "execution": {
     "iopub.execute_input": "2022-05-10T22:03:39.819158Z",
     "iopub.status.busy": "2022-05-10T22:03:39.818872Z",
     "iopub.status.idle": "2022-05-10T22:03:41.013259Z",
     "shell.execute_reply": "2022-05-10T22:03:41.012587Z",
     "shell.execute_reply.started": "2022-05-10T22:03:39.819118Z"
    }
   },
   "outputs": [
    {
     "name": "stdout",
     "output_type": "stream",
     "text": [
      "0.384667\n",
      "0.394048\n",
      "0.348143\n",
      "0.393048\n",
      "0.361905\n",
      "Rule count: 7\n",
      "Average complexity: 1.428571\n",
      "Rule count: 6\n",
      "Average complexity: 2.000000\n",
      "Rule count: 6\n",
      "Average complexity: 1.833333\n",
      "Rule count: 7\n",
      "Average complexity: 2.142857\n",
      "Rule count: 6\n",
      "Average complexity: 2.000000\n"
     ]
    }
   ],
   "source": [
    "!./accuracy limit/cdbeliefOutputs\n",
    "!./statistics limit/cdbeliefOutputs/*"
   ]
  },
  {
   "cell_type": "code",
   "execution_count": 6,
   "metadata": {
    "execution": {
     "iopub.execute_input": "2022-05-10T22:03:43.335467Z",
     "iopub.status.busy": "2022-05-10T22:03:43.335141Z",
     "iopub.status.idle": "2022-05-10T22:03:43.921239Z",
     "shell.execute_reply": "2022-05-10T22:03:43.920468Z",
     "shell.execute_reply.started": "2022-05-10T22:03:43.335424Z"
    }
   },
   "outputs": [
    {
     "name": "stdout",
     "output_type": "stream",
     "text": [
      "Att sfP_c1 is 1|PLAY_1\n",
      "Att wasTouched_c5 is 0|Att info is [<7.875291]|DISCARD_5\n",
      "Att Rnk_c5 is 2,3,4,5,X|Att Kps1_c2 is 1|Att ds_B5 is [<0.992476]|Att info is [>4.007897]|RANK_1\n",
      "Att sfP_c2 is 1|PLAY_2\n",
      "Att sfP_c3 is 1|PLAY_3\n",
      "Att sfP_c4 is 1|PLAY_4\n",
      "Att is2_c2 is 0|Att KCol_c4 is B,R,W,X,Y|Att ds_R2 is [<1.995732]|Att KsfD_c3 is 0|Att sfD_c3 is 0|Att sfD_c5 is 1|Att usfD_c1 is 1|DISCARD_5\n",
      "Default rule -> PLAY_5\n"
     ]
    }
   ],
   "source": [
    "# accuracy 0.321095\n",
    "!../scripts/extractRules.pl < limit/dbeliefOutputs/Statistics1.txt"
   ]
  },
  {
   "cell_type": "code",
   "execution_count": 7,
   "metadata": {
    "execution": {
     "iopub.execute_input": "2022-05-10T22:03:45.618040Z",
     "iopub.status.busy": "2022-05-10T22:03:45.617742Z",
     "iopub.status.idle": "2022-05-10T22:03:46.209999Z",
     "shell.execute_reply": "2022-05-10T22:03:46.209318Z",
     "shell.execute_reply.started": "2022-05-10T22:03:45.617998Z"
    }
   },
   "outputs": [
    {
     "name": "stdout",
     "output_type": "stream",
     "text": [
      "Att Col_c5 is B,G,R,W,Y|Att wasTouched_c5 is 1|Att sfP_c1 is 0|Att sfP_c4 is 0|PLAY_5\n",
      "Att Rnk_c5 is 1,2,3|Att wasTouched_c5 is 1|Att usfD_c5 is 0|Att usfP_c5 is 0|PLAY_5\n",
      "Att sfP_c2 is 1|PLAY_2\n",
      "Att RANK is 0|Att isCritical_c5 is 1|RANK_CHOP\n",
      "Att sfP_c1 is 1|PLAY_1\n",
      "Default rule -> DISCARD_CHOP\n"
     ]
    }
   ],
   "source": [
    "# accuracy 0.394048\n",
    "!../scripts/extractRules.pl < limit/cdbeliefOutputs/Statistics2.txt"
   ]
  }
 ],
 "metadata": {
  "kernelspec": {
   "display_name": "Python 3",
   "language": "python",
   "name": "python3"
  },
  "language_info": {
   "codemirror_mode": {
    "name": "ipython",
    "version": 3
   },
   "file_extension": ".py",
   "mimetype": "text/x-python",
   "name": "python",
   "nbconvert_exporter": "python",
   "pygments_lexer": "ipython3",
   "version": "3.6.8"
  }
 },
 "nbformat": 4,
 "nbformat_minor": 4
}
