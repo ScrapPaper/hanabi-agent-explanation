{
 "cells": [
  {
   "cell_type": "markdown",
   "metadata": {
    "gradient": {
     "editing": false,
     "id": "7e46ed22-9a8a-47cd-b5a3-6f5ba6266c48",
     "kernelId": "45d7d3ba-2e93-4fa3-9801-4228e2d66dd7"
    }
   },
   "source": [
    "## Environment setup\n",
    "\n",
    "Prepare `pytorch-1.5.1`, `cuda-10.1`, and `cudnn-v7.6.5`"
   ]
  },
  {
   "cell_type": "code",
   "execution_count": 1,
   "metadata": {
    "collapsed": false,
    "execution": {
     "iopub.execute_input": "2022-04-09T05:53:51.037169Z",
     "iopub.status.busy": "2022-04-09T05:53:51.036709Z",
     "iopub.status.idle": "2022-04-09T05:53:51.730092Z",
     "shell.execute_reply": "2022-04-09T05:53:51.729188Z",
     "shell.execute_reply.started": "2022-04-09T05:53:51.037099Z"
    },
    "gradient": {
     "editing": false,
     "id": "cf97ab4e-fb5d-4f7b-87a3-7e056fb84503",
     "kernelId": "45d7d3ba-2e93-4fa3-9801-4228e2d66dd7",
     "source_hidden": false
    },
    "jupyter": {
     "outputs_hidden": false
    }
   },
   "outputs": [
    {
     "name": "stdout",
     "output_type": "stream",
     "text": [
      "Sat Apr  9 05:53:51 2022       \n",
      "+-----------------------------------------------------------------------------+\n",
      "| NVIDIA-SMI 460.91.03    Driver Version: 460.91.03    CUDA Version: 11.2     |\n",
      "|-------------------------------+----------------------+----------------------+\n",
      "| GPU  Name        Persistence-M| Bus-Id        Disp.A | Volatile Uncorr. ECC |\n",
      "| Fan  Temp  Perf  Pwr:Usage/Cap|         Memory-Usage | GPU-Util  Compute M. |\n",
      "|                               |                      |               MIG M. |\n",
      "|===============================+======================+======================|\n",
      "|   0  Quadro RTX 5000     Off  | 00000000:00:05.0 Off |                  Off |\n",
      "| 33%   28C    P8     8W / 230W |      0MiB / 16125MiB |      0%      Default |\n",
      "|                               |                      |                  N/A |\n",
      "+-------------------------------+----------------------+----------------------+\n",
      "                                                                               \n",
      "+-----------------------------------------------------------------------------+\n",
      "| Processes:                                                                  |\n",
      "|  GPU   GI   CI        PID   Type   Process name                  GPU Memory |\n",
      "|        ID   ID                                                   Usage      |\n",
      "|=============================================================================|\n",
      "|  No running processes found                                                 |\n",
      "+-----------------------------------------------------------------------------+\n"
     ]
    }
   ],
   "source": [
    "!nvidia-smi"
   ]
  },
  {
   "cell_type": "code",
   "execution_count": null,
   "metadata": {
    "collapsed": false,
    "gradient": {
     "editing": false,
     "id": "8968cf20-7c52-4d3f-9044-5c318a718317",
     "kernelId": "45d7d3ba-2e93-4fa3-9801-4228e2d66dd7",
     "source_hidden": false
    },
    "jupyter": {
     "outputs_hidden": false
    }
   },
   "outputs": [
    {
     "name": "stdout",
     "output_type": "stream",
     "text": [
      "Cloning into 'off-belief-small'...\n",
      "remote: Enumerating objects: 242, done.\u001b[K\n",
      "remote: Counting objects: 100% (242/242), done.\u001b[K\n",
      "remote: Compressing objects: 100% (173/173), done.\u001b[K\n",
      "remote: Total 242 (delta 69), reused 235 (delta 62), pack-reused 0\u001b[K\n",
      "Receiving objects: 100% (242/242), 15.10 MiB | 15.80 MiB/s, done.\n",
      "Resolving deltas: 100% (69/69), done.\n",
      "Submodule 'third_party/pybind11' (https://github.com/pybind/pybind11.git) registered for path 'third_party/pybind11'\n",
      "Cloning into '/notebooks/off-belief-small/third_party/pybind11'...\n",
      "remote: Enumerating objects: 23417, done.        \n",
      "remote: Counting objects: 100% (1292/1292), done.        \n",
      "remote: Compressing objects: 100% (505/505), done.        \n",
      "remote: Total 23417 (delta 808), reused 1053 (delta 716), pack-reused 22125        \n",
      "Receiving objects: 100% (23417/23417), 8.56 MiB | 12.98 MiB/s, done.\n",
      "Resolving deltas: 100% (16232/16232), done.\n",
      "Submodule path 'third_party/pybind11': checked out 'a1b71df137e015d44f7e31f7b6d4807253fb7871'\n",
      "Submodule 'tools/clang' (https://github.com/wjakob/clang-cindex-python3) registered for path 'third_party/pybind11/tools/clang'\n",
      "Cloning into '/notebooks/off-belief-small/third_party/pybind11/tools/clang'...\n",
      "remote: Enumerating objects: 368, done.        \n",
      "remote: Counting objects: 100% (13/13), done.        \n",
      "remote: Compressing objects: 100% (12/12), done.        \n",
      "remote: Total 368 (delta 3), reused 6 (delta 1), pack-reused 355        \n",
      "Receiving objects: 100% (368/368), 159.34 KiB | 1.43 MiB/s, done.\n",
      "Resolving deltas: 100% (154/154), done.\n",
      "Submodule path 'third_party/pybind11/tools/clang': checked out '6a00cbc4a9b8e68b71caf7f774b3f9c753ae84d5'\n"
     ]
    }
   ],
   "source": [
    "!git clone --recursive git@github.com:ScrapPaper/off-belief-small.git"
   ]
  },
  {
   "cell_type": "code",
   "execution_count": null,
   "metadata": {
    "collapsed": false,
    "gradient": {
     "editing": false,
     "id": "9dad9a65-9dae-44c9-b937-c1ea5851abf8",
     "kernelId": "45d7d3ba-2e93-4fa3-9801-4228e2d66dd7",
     "source_hidden": false
    },
    "jupyter": {
     "outputs_hidden": false
    }
   },
   "outputs": [
    {
     "name": "stdout",
     "output_type": "stream",
     "text": [
      "nvcc: NVIDIA (R) Cuda compiler driver\n",
      "Copyright (c) 2005-2018 NVIDIA Corporation\n",
      "Built on Sat_Aug_25_21:08:01_CDT_2018\n",
      "Cuda compilation tools, release 10.0, V10.0.130\n",
      "#define CUDNN_MAJOR 7\n",
      "#define CUDNN_MINOR 6\n",
      "#define CUDNN_PATCHLEVEL 2\n",
      "--\n",
      "#define CUDNN_VERSION (CUDNN_MAJOR * 1000 + CUDNN_MINOR * 100 + CUDNN_PATCHLEVEL)\n",
      "\n",
      "#include \"driver_types.h\"\n",
      "-rw-r--r-- 1 root root 15672664 Feb  6  2019 /usr/local/cuda-10.0/compat/libcuda.so.410.104\n"
     ]
    }
   ],
   "source": [
    "!nvcc --version # cuda-10.1\n",
    "!cat /usr/include/cudnn.h | grep CUDNN_MAJOR -A 2 # cudnn-v7.6.5\n",
    "!ls -al /usr/local/cuda-10.0/compat/libcuda.so.410.104"
   ]
  },
  {
   "cell_type": "code",
   "execution_count": 1,
   "metadata": {
    "collapsed": false,
    "execution": {
     "iopub.execute_input": "2022-05-10T08:17:20.012065Z",
     "iopub.status.busy": "2022-05-10T08:17:20.011581Z",
     "iopub.status.idle": "2022-05-10T08:17:20.522715Z",
     "shell.execute_reply": "2022-05-10T08:17:20.521589Z",
     "shell.execute_reply.started": "2022-05-10T08:17:20.012011Z"
    },
    "gradient": {
     "editing": false,
     "id": "87a1f28d-7d68-42ff-8307-c5326f4b268d",
     "kernelId": "45d7d3ba-2e93-4fa3-9801-4228e2d66dd7",
     "source_hidden": false
    },
    "jupyter": {
     "outputs_hidden": false
    }
   },
   "outputs": [
    {
     "name": "stdout",
     "output_type": "stream",
     "text": [
      "lrwxrwxrwx 1 root root       20 Nov 24  2020 /usr/lib/x86_64-linux-gnu/libcuda.so.1 -> libcuda.so.450.36.06\n",
      "-rw-r--r-- 1 root root 15672664 Feb  6  2019 /usr/lib/x86_64-linux-gnu/libcuda.so.410.104\n",
      "-rw-r--r-- 1 root root 18948104 Jun  1  2020 /usr/lib/x86_64-linux-gnu/libcuda.so.450.36.06\n"
     ]
    }
   ],
   "source": [
    "!ls -al /usr/lib/x86_64-linux-gnu/libcuda.so.*"
   ]
  },
  {
   "cell_type": "code",
   "execution_count": 2,
   "metadata": {
    "collapsed": false,
    "execution": {
     "iopub.execute_input": "2022-05-10T08:17:23.889565Z",
     "iopub.status.busy": "2022-05-10T08:17:23.889114Z",
     "iopub.status.idle": "2022-05-10T08:19:28.753111Z",
     "shell.execute_reply": "2022-05-10T08:19:28.751798Z",
     "shell.execute_reply.started": "2022-05-10T08:17:23.889492Z"
    },
    "gradient": {
     "editing": false,
     "id": "87ebcc50-d499-4f7d-a930-9e50d80b68f4",
     "kernelId": "45d7d3ba-2e93-4fa3-9801-4228e2d66dd7",
     "source_hidden": false
    },
    "jupyter": {
     "outputs_hidden": false
    }
   },
   "outputs": [
    {
     "name": "stdout",
     "output_type": "stream",
     "text": [
      "Get:1 http://security.ubuntu.com/ubuntu bionic-security InRelease [88.7 kB]\n",
      "Get:2 http://archive.ubuntu.com/ubuntu bionic InRelease [242 kB]               \u001b[0m\u001b[33m\n",
      "Get:3 http://ppa.launchpad.net/deadsnakes/ppa/ubuntu bionic InRelease [15.9 kB]\u001b[0m\n",
      "Get:4 http://security.ubuntu.com/ubuntu bionic-security/universe amd64 Packages [1498 kB][33m\n",
      "Get:5 http://security.ubuntu.com/ubuntu bionic-security/restricted amd64 Packages [909 kB]\n",
      "Get:6 http://security.ubuntu.com/ubuntu bionic-security/main amd64 Packages [2734 kB]33m\n",
      "Get:7 http://security.ubuntu.com/ubuntu bionic-security/multiverse amd64 Packages [21.1 kB]3m\n",
      "Get:8 http://ppa.launchpad.net/deadsnakes/ppa/ubuntu bionic/main amd64 Packages [45.3 kB]\n",
      "Get:9 http://archive.ubuntu.com/ubuntu bionic-updates InRelease [88.7 kB]      \u001b[0m\u001b[33m\n",
      "Get:10 http://archive.ubuntu.com/ubuntu bionic-backports InRelease [74.6 kB]0m \u001b[0m\u001b[33m\u001b[33m\u001b[33m\n",
      "Get:11 http://archive.ubuntu.com/ubuntu bionic/main amd64 Packages [1344 kB]   \u001b[0m\u001b[33m\n",
      "Get:12 http://archive.ubuntu.com/ubuntu bionic/restricted amd64 Packages [13.5 kB]m\u001b[33m\u001b[33m\u001b[33m\n",
      "Get:13 http://archive.ubuntu.com/ubuntu bionic/universe amd64 Packages [11.3 MB]\n",
      "Get:14 http://archive.ubuntu.com/ubuntu bionic/multiverse amd64 Packages [186 kB]\n",
      "Get:15 http://archive.ubuntu.com/ubuntu bionic-updates/main amd64 Packages [3168 kB]\n",
      "Get:16 http://archive.ubuntu.com/ubuntu bionic-updates/multiverse amd64 Packages [29.8 kB]\n",
      "Get:17 http://archive.ubuntu.com/ubuntu bionic-updates/restricted amd64 Packages [942 kB]\n",
      "Get:18 http://archive.ubuntu.com/ubuntu bionic-updates/universe amd64 Packages [2272 kB]\n",
      "Get:19 http://archive.ubuntu.com/ubuntu bionic-backports/main amd64 Packages [12.2 kB]\n",
      "Get:20 http://archive.ubuntu.com/ubuntu bionic-backports/universe amd64 Packages [12.9 kB]\n",
      "Fetched 25.0 MB in 4s (6569 kB/s)33m                        \u001b[0m\u001b[33m\u001b[33m\u001b[33m\u001b[33m\u001b[33m\u001b[33m\n",
      "Reading package lists... Done\n",
      "Building dependency tree       \n",
      "Reading state information... Done\n",
      "144 packages can be upgraded. Run 'apt list --upgradable' to see them.\n",
      "Reading package lists... Done\n",
      "Building dependency tree       \n",
      "Reading state information... Done\n",
      "build-essential is already the newest version (12.4ubuntu1).\n",
      "The following additional packages will be installed:\n",
      "  libpq5 libssl1.1\n",
      "Suggested packages:\n",
      "  postgresql-doc-10 libssl-doc\n",
      "The following NEW packages will be installed:\n",
      "  libffi-dev libpq-dev libpq5\n",
      "The following packages will be upgraded:\n",
      "  libssl-dev libssl1.1 openssl\n",
      "3 upgraded, 3 newly installed, 0 to remove and 141 not upgraded.\n",
      "Need to get 3967 kB of archives.\n",
      "After this operation, 1858 kB of additional disk space will be used.\n",
      "Get:1 http://archive.ubuntu.com/ubuntu bionic-updates/main amd64 libssl-dev amd64 1.1.1-1ubuntu2.1~18.04.17 [1568 kB]\n",
      "Get:2 http://archive.ubuntu.com/ubuntu bionic-updates/main amd64 libssl1.1 amd64 1.1.1-1ubuntu2.1~18.04.17 [1302 kB]\n",
      "Get:3 http://archive.ubuntu.com/ubuntu bionic-updates/main amd64 openssl amd64 1.1.1-1ubuntu2.1~18.04.17 [614 kB]\n",
      "Get:4 http://archive.ubuntu.com/ubuntu bionic-updates/main amd64 libpq5 amd64 10.19-0ubuntu0.18.04.1 [108 kB]\n",
      "Get:5 http://archive.ubuntu.com/ubuntu bionic-updates/main amd64 libpq-dev amd64 10.19-0ubuntu0.18.04.1 [219 kB]\n",
      "Get:6 http://archive.ubuntu.com/ubuntu bionic/main amd64 libffi-dev amd64 3.2.1-8 [156 kB]\n",
      "Fetched 3967 kB in 1s (4510 kB/s)    \u001b[0m\u001b[33m\n",
      "debconf: unable to initialize frontend: Dialog\n",
      "debconf: (No usable dialog-like program is installed, so the dialog based frontend cannot be used. at /usr/share/perl5/Debconf/FrontEnd/Dialog.pm line 76, <> line 6.)\n",
      "debconf: falling back to frontend: Readline\n",
      "Preconfiguring packages ...\n",
      "\n",
      "(Reading database ... 18426 files and directories currently installed.)\n",
      "Preparing to unpack .../0-libssl-dev_1.1.1-1ubuntu2.1~18.04.17_amd64.deb ...\n",
      "\u001b7\u001b[24;0f\u001b[42m\u001b[30mProgress: [  0%]\u001b[49m\u001b[39m [..........................................................] \u001b8\u001b7\u001b[24;0f\u001b[42m\u001b[30mProgress: [  3%]\u001b[49m\u001b[39m [#.........................................................] \u001b8Unpacking libssl-dev:amd64 (1.1.1-1ubuntu2.1~18.04.17) over (1.1.1-1ubuntu2.1~18.04.4) ...\n",
      "\u001b7\u001b[24;0f\u001b[42m\u001b[30mProgress: [  6%]\u001b[49m\u001b[39m [###.......................................................] \u001b8\u001b7\u001b[24;0f\u001b[42m\u001b[30mProgress: [ 10%]\u001b[49m\u001b[39m [#####.....................................................] \u001b8Preparing to unpack .../1-libssl1.1_1.1.1-1ubuntu2.1~18.04.17_amd64.deb ...\n",
      "\u001b7\u001b[24;0f\u001b[42m\u001b[30mProgress: [ 13%]\u001b[49m\u001b[39m [#######...................................................] \u001b8Unpacking libssl1.1:amd64 (1.1.1-1ubuntu2.1~18.04.17) over (1.1.1-1ubuntu2.1~18.04.4) ...\n",
      "\u001b7\u001b[24;0f\u001b[42m\u001b[30mProgress: [ 16%]\u001b[49m\u001b[39m [#########.................................................] \u001b8\u001b7\u001b[24;0f\u001b[42m\u001b[30mProgress: [ 19%]\u001b[49m\u001b[39m [###########...............................................] \u001b8Preparing to unpack .../2-openssl_1.1.1-1ubuntu2.1~18.04.17_amd64.deb ...\n",
      "\u001b7\u001b[24;0f\u001b[42m\u001b[30mProgress: [ 23%]\u001b[49m\u001b[39m [#############.............................................] \u001b8Unpacking openssl (1.1.1-1ubuntu2.1~18.04.17) over (1.1.1-1ubuntu2.1~18.04.4) ...\n",
      "\u001b7\u001b[24;0f\u001b[42m\u001b[30mProgress: [ 26%]\u001b[49m\u001b[39m [##############............................................] \u001b8\u001b7\u001b[24;0f\u001b[42m\u001b[30mProgress: [ 29%]\u001b[49m\u001b[39m [################..........................................] \u001b8Selecting previously unselected package libpq5:amd64.\n",
      "Preparing to unpack .../3-libpq5_10.19-0ubuntu0.18.04.1_amd64.deb ...\n",
      "\u001b7\u001b[24;0f\u001b[42m\u001b[30mProgress: [ 32%]\u001b[49m\u001b[39m [##################........................................] \u001b8Unpacking libpq5:amd64 (10.19-0ubuntu0.18.04.1) ...\n",
      "\u001b7\u001b[24;0f\u001b[42m\u001b[30mProgress: [ 35%]\u001b[49m\u001b[39m [####################......................................] \u001b8\u001b7\u001b[24;0f\u001b[42m\u001b[30mProgress: [ 39%]\u001b[49m\u001b[39m [######################....................................] \u001b8Selecting previously unselected package libpq-dev.\n",
      "Preparing to unpack .../4-libpq-dev_10.19-0ubuntu0.18.04.1_amd64.deb ...\n",
      "\u001b7\u001b[24;0f\u001b[42m\u001b[30mProgress: [ 42%]\u001b[49m\u001b[39m [########################..................................] \u001b8Unpacking libpq-dev (10.19-0ubuntu0.18.04.1) ...\n",
      "\u001b7\u001b[24;0f\u001b[42m\u001b[30mProgress: [ 45%]\u001b[49m\u001b[39m [##########################................................] \u001b8\u001b7\u001b[24;0f\u001b[42m\u001b[30mProgress: [ 48%]\u001b[49m\u001b[39m [############################..............................] \u001b8Selecting previously unselected package libffi-dev:amd64.\n",
      "Preparing to unpack .../5-libffi-dev_3.2.1-8_amd64.deb ...\n",
      "\u001b7\u001b[24;0f\u001b[42m\u001b[30mProgress: [ 52%]\u001b[49m\u001b[39m [#############################.............................] \u001b8Unpacking libffi-dev:amd64 (3.2.1-8) ...\n",
      "\u001b7\u001b[24;0f\u001b[42m\u001b[30mProgress: [ 55%]\u001b[49m\u001b[39m [###############################...........................] \u001b8\u001b7\u001b[24;0f\u001b[42m\u001b[30mProgress: [ 58%]\u001b[49m\u001b[39m [#################################.........................] \u001b8Setting up libffi-dev:amd64 (3.2.1-8) ...\n",
      "\u001b7\u001b[24;0f\u001b[42m\u001b[30mProgress: [ 61%]\u001b[49m\u001b[39m [###################################.......................] \u001b8\u001b7\u001b[24;0f\u001b[42m\u001b[30mProgress: [ 65%]\u001b[49m\u001b[39m [#####################################.....................] \u001b8Processing triggers for libc-bin (2.27-3ubuntu1) ...\n",
      "/sbin/ldconfig.real: File /usr/lib/x86_64-linux-gnu/libvdpau_nvidia.so.450.36.06 is empty, not checked.\n",
      "/sbin/ldconfig.real: File /usr/lib/x86_64-linux-gnu/libvdpau_nvidia.so.1 is empty, not checked.\n",
      "Setting up libssl1.1:amd64 (1.1.1-1ubuntu2.1~18.04.17) ...\n",
      "\u001b7\u001b[24;0f\u001b[42m\u001b[30mProgress: [ 68%]\u001b[49m\u001b[39m [#######################################...................] \u001b8debconf: unable to initialize frontend: Dialog\n",
      "debconf: (No usable dialog-like program is installed, so the dialog based frontend cannot be used. at /usr/share/perl5/Debconf/FrontEnd/Dialog.pm line 76.)\n",
      "debconf: falling back to frontend: Readline\n",
      "\u001b7\u001b[24;0f\u001b[42m\u001b[30mProgress: [ 71%]\u001b[49m\u001b[39m [#########################################.................] \u001b8Setting up openssl (1.1.1-1ubuntu2.1~18.04.17) ...\n",
      "\u001b7\u001b[24;0f\u001b[42m\u001b[30mProgress: [ 74%]\u001b[49m\u001b[39m [###########################################...............] \u001b8\u001b7\u001b[24;0f\u001b[42m\u001b[30mProgress: [ 77%]\u001b[49m\u001b[39m [############################################..............] \u001b8Setting up libssl-dev:amd64 (1.1.1-1ubuntu2.1~18.04.17) ...\n",
      "\u001b7\u001b[24;0f\u001b[42m\u001b[30mProgress: [ 81%]\u001b[49m\u001b[39m [##############################################............] \u001b8\u001b7\u001b[24;0f\u001b[42m\u001b[30mProgress: [ 84%]\u001b[49m\u001b[39m [################################################..........] \u001b8Setting up libpq5:amd64 (10.19-0ubuntu0.18.04.1) ...\n",
      "\u001b7\u001b[24;0f\u001b[42m\u001b[30mProgress: [ 87%]\u001b[49m\u001b[39m [##################################################........] \u001b8\u001b7\u001b[24;0f\u001b[42m\u001b[30mProgress: [ 90%]\u001b[49m\u001b[39m [####################################################......] \u001b8Setting up libpq-dev (10.19-0ubuntu0.18.04.1) ...\n",
      "\u001b7\u001b[24;0f\u001b[42m\u001b[30mProgress: [ 94%]\u001b[49m\u001b[39m [######################################################....] \u001b8\u001b7\u001b[24;0f\u001b[42m\u001b[30mProgress: [ 97%]\u001b[49m\u001b[39m [########################################################..] \u001b8Processing triggers for libc-bin (2.27-3ubuntu1) ...\n",
      "/sbin/ldconfig.real: File /usr/lib/x86_64-linux-gnu/libvdpau_nvidia.so.450.36.06 is empty, not checked.\n",
      "/sbin/ldconfig.real: File /usr/lib/x86_64-linux-gnu/libvdpau_nvidia.so.1 is empty, not checked.\n",
      "\n",
      "Reading package lists... Done\n",
      "Building dependency tree       \n",
      "Reading state information... Done\n",
      "The following additional packages will be installed:\n",
      "  dbus dh-python libapparmor1 libdbus-1-3 libpython3-dev libpython3.7\n",
      "  libpython3.7-dev libpython3.7-minimal libpython3.7-stdlib python-pip-whl\n",
      "  python3-asn1crypto python3-cffi-backend python3-crypto python3-cryptography\n",
      "  python3-dev python3-idna python3-keyring python3-keyrings.alt\n",
      "  python3-pkg-resources python3-secretstorage python3-setuptools python3-six\n",
      "  python3-wheel python3-xdg python3.7 python3.7-minimal\n",
      "Suggested packages:\n",
      "  default-dbus-session-bus | dbus-session-bus python-crypto-doc\n",
      "  python-cryptography-doc python3-cryptography-vectors gnome-keyring\n",
      "  libkf5wallet-bin gir1.2-gnomekeyring-1.0 python-secretstorage-doc\n",
      "  python-setuptools-doc python3.7-venv binfmt-support\n",
      "The following NEW packages will be installed:\n",
      "  dbus dh-python libapparmor1 libpython3-dev libpython3.7 libpython3.7-dev\n",
      "  libpython3.7-minimal libpython3.7-stdlib python-pip-whl python3-asn1crypto\n",
      "  python3-cffi-backend python3-crypto python3-cryptography python3-dev\n",
      "  python3-idna python3-keyring python3-keyrings.alt python3-pip\n",
      "  python3-pkg-resources python3-secretstorage python3-setuptools python3-six\n",
      "  python3-wheel python3-xdg python3.7 python3.7-dev python3.7-minimal\n",
      "The following packages will be upgraded:\n",
      "  libdbus-1-3\n",
      "1 upgraded, 27 newly installed, 0 to remove and 140 not upgraded.\n",
      "Need to get 52.7 MB of archives.\n",
      "After this operation, 99.8 MB of additional disk space will be used.\n",
      "Get:1 http://archive.ubuntu.com/ubuntu bionic-updates/main amd64 libdbus-1-3 amd64 1.12.2-1ubuntu1.3 [175 kB]\n",
      "Get:2 http://archive.ubuntu.com/ubuntu bionic-updates/main amd64 libapparmor1 amd64 2.12-4ubuntu5.1 [31.3 kB]\n",
      "Get:3 http://archive.ubuntu.com/ubuntu bionic-updates/main amd64 dbus amd64 1.12.2-1ubuntu1.3 [150 kB]\n",
      "Get:4 http://archive.ubuntu.com/ubuntu bionic/main amd64 dh-python all 3.20180325ubuntu2 [89.2 kB]\n",
      "Get:5 http://archive.ubuntu.com/ubuntu bionic-updates/main amd64 libpython3-dev amd64 3.6.7-1~18.04 [7328 B]\n",
      "Get:6 http://archive.ubuntu.com/ubuntu bionic-updates/universe amd64 python-pip-whl all 9.0.1-2.3~ubuntu1.18.04.5 [1653 kB]\n",
      "Get:7 http://ppa.launchpad.net/deadsnakes/ppa/ubuntu bionic/main amd64 libpython3.7-minimal amd64 3.7.13-1+bionic3 [589 kB]\n",
      "Get:8 http://archive.ubuntu.com/ubuntu bionic/main amd64 python3-asn1crypto all 0.24.0-1 [72.8 kB]\n",
      "Get:9 http://archive.ubuntu.com/ubuntu bionic/main amd64 python3-cffi-backend amd64 1.11.5-1 [64.6 kB]\n",
      "Get:10 http://archive.ubuntu.com/ubuntu bionic/main amd64 python3-crypto amd64 2.6.1-8ubuntu2 [244 kB]\n",
      "Get:11 http://archive.ubuntu.com/ubuntu bionic/main amd64 python3-idna all 2.6-1 [32.5 kB]\n",
      "Get:12 http://archive.ubuntu.com/ubuntu bionic/main amd64 python3-six all 1.11.0-2 [11.4 kB]\n",
      "Get:13 http://archive.ubuntu.com/ubuntu bionic-updates/main amd64 python3-cryptography amd64 2.1.4-1ubuntu1.4 [220 kB]\n",
      "Get:14 http://archive.ubuntu.com/ubuntu bionic-updates/main amd64 python3-dev amd64 3.6.7-1~18.04 [1288 B]\n",
      "Get:15 http://archive.ubuntu.com/ubuntu bionic/main amd64 python3-secretstorage all 2.3.1-2 [12.1 kB]\n",
      "Get:16 http://archive.ubuntu.com/ubuntu bionic/main amd64 python3-keyring all 10.6.0-1 [26.7 kB]\n",
      "Get:17 http://archive.ubuntu.com/ubuntu bionic/main amd64 python3-keyrings.alt all 3.0-1 [16.6 kB]\n",
      "Get:18 http://archive.ubuntu.com/ubuntu bionic-updates/universe amd64 python3-pip all 9.0.1-2.3~ubuntu1.18.04.5 [114 kB]\n",
      "Get:19 http://archive.ubuntu.com/ubuntu bionic/main amd64 python3-pkg-resources all 39.0.1-2 [98.8 kB]\n",
      "Get:20 http://archive.ubuntu.com/ubuntu bionic/main amd64 python3-setuptools all 39.0.1-2 [248 kB]\n",
      "Get:21 http://archive.ubuntu.com/ubuntu bionic/universe amd64 python3-wheel all 0.30.0-0.2 [36.5 kB]\n",
      "Get:22 http://archive.ubuntu.com/ubuntu bionic-updates/main amd64 python3-xdg all 0.25-4ubuntu1.1 [31.3 kB]\n",
      "Get:23 http://ppa.launchpad.net/deadsnakes/ppa/ubuntu bionic/main amd64 python3.7-minimal amd64 3.7.13-1+bionic3 [1725 kB]\n",
      "Get:24 http://ppa.launchpad.net/deadsnakes/ppa/ubuntu bionic/main amd64 libpython3.7-stdlib amd64 3.7.13-1+bionic3 [1772 kB]\n",
      "Get:25 http://ppa.launchpad.net/deadsnakes/ppa/ubuntu bionic/main amd64 libpython3.7 amd64 3.7.13-1+bionic3 [1526 kB]\n",
      "Get:26 http://ppa.launchpad.net/deadsnakes/ppa/ubuntu bionic/main amd64 libpython3.7-dev amd64 3.7.13-1+bionic3 [42.9 MB]\n",
      "Get:27 http://ppa.launchpad.net/deadsnakes/ppa/ubuntu bionic/main amd64 python3.7 amd64 3.7.13-1+bionic3 [359 kB]\n",
      "Get:28 http://ppa.launchpad.net/deadsnakes/ppa/ubuntu bionic/main amd64 python3.7-dev amd64 3.7.13-1+bionic3 [501 kB]\n",
      "Fetched 52.7 MB in 7s (7979 kB/s)                                              \u001b[0m\u001b[33m\n",
      "debconf: unable to initialize frontend: Dialog\n",
      "debconf: (No usable dialog-like program is installed, so the dialog based frontend cannot be used. at /usr/share/perl5/Debconf/FrontEnd/Dialog.pm line 76, <> line 28.)\n",
      "debconf: falling back to frontend: Readline\n",
      "\n",
      "\u001b7\u001b[0;23r\u001b8\u001b[1ASelecting previously unselected package libpython3.7-minimal:amd64.\n",
      "(Reading database ... 18495 files and directories currently installed.)\n",
      "Preparing to unpack .../00-libpython3.7-minimal_3.7.13-1+bionic3_amd64.deb ...\n",
      "\u001b7\u001b[24;0f\u001b[42m\u001b[30mProgress: [  0%]\u001b[49m\u001b[39m [..........................................................] \u001b8Unpacking libpython3.7-minimal:amd64 (3.7.13-1+bionic3) ...\n",
      "\u001b7\u001b[24;0f\u001b[42m\u001b[30mProgress: [  1%]\u001b[49m\u001b[39m [..........................................................] \u001b8\u001b7\u001b[24;0f\u001b[42m\u001b[30mProgress: [  2%]\u001b[49m\u001b[39m [#.........................................................] \u001b8Selecting previously unselected package python3.7-minimal.\n",
      "Preparing to unpack .../01-python3.7-minimal_3.7.13-1+bionic3_amd64.deb ...\n",
      "Unpacking python3.7-minimal (3.7.13-1+bionic3) ...\n",
      "\u001b7\u001b[24;0f\u001b[42m\u001b[30mProgress: [  4%]\u001b[49m\u001b[39m [##........................................................] \u001b8\u001b7\u001b[24;0f\u001b[42m\u001b[30mProgress: [  4%]\u001b[49m\u001b[39m [##........................................................] \u001b8Preparing to unpack .../02-libdbus-1-3_1.12.2-1ubuntu1.3_amd64.deb ...\n",
      "Unpacking libdbus-1-3:amd64 (1.12.2-1ubuntu1.3) over (1.12.2-1ubuntu1.1) ...\n",
      "\u001b7\u001b[24;0f\u001b[42m\u001b[30mProgress: [  6%]\u001b[49m\u001b[39m [###.......................................................] \u001b8\u001b7\u001b[24;0f\u001b[42m\u001b[30mProgress: [  6%]\u001b[49m\u001b[39m [###.......................................................] \u001b8Selecting previously unselected package libapparmor1:amd64.\n",
      "Preparing to unpack .../03-libapparmor1_2.12-4ubuntu5.1_amd64.deb ...\n",
      "\u001b7\u001b[24;0f\u001b[42m\u001b[30mProgress: [  7%]\u001b[49m\u001b[39m [####......................................................] \u001b8Unpacking libapparmor1:amd64 (2.12-4ubuntu5.1) ...\n",
      "\u001b7\u001b[24;0f\u001b[42m\u001b[30mProgress: [  9%]\u001b[49m\u001b[39m [####......................................................] \u001b8Selecting previously unselected package dbus.\n",
      "Preparing to unpack .../04-dbus_1.12.2-1ubuntu1.3_amd64.deb ...\n",
      "\u001b7\u001b[24;0f\u001b[42m\u001b[30mProgress: [  9%]\u001b[49m\u001b[39m [#####.....................................................] \u001b8Unpacking dbus (1.12.2-1ubuntu1.3) ...\n",
      "\u001b7\u001b[24;0f\u001b[42m\u001b[30mProgress: [ 11%]\u001b[49m\u001b[39m [######....................................................] \u001b8Selecting previously unselected package dh-python.\n",
      "Preparing to unpack .../05-dh-python_3.20180325ubuntu2_all.deb ...\n",
      "\u001b7\u001b[24;0f\u001b[42m\u001b[30mProgress: [ 11%]\u001b[49m\u001b[39m [######....................................................] \u001b8Unpacking dh-python (3.20180325ubuntu2) ...\n",
      "\u001b7\u001b[24;0f\u001b[42m\u001b[30mProgress: [ 12%]\u001b[49m\u001b[39m [######....................................................] \u001b8Selecting previously unselected package libpython3-dev:amd64.\n",
      "Preparing to unpack .../06-libpython3-dev_3.6.7-1~18.04_amd64.deb ...\n",
      "\u001b7\u001b[24;0f\u001b[42m\u001b[30mProgress: [ 13%]\u001b[49m\u001b[39m [#######...................................................] \u001b8Unpacking libpython3-dev:amd64 (3.6.7-1~18.04) ...\n",
      "\u001b7\u001b[24;0f\u001b[42m\u001b[30mProgress: [ 14%]\u001b[49m\u001b[39m [########..................................................] \u001b8Selecting previously unselected package libpython3.7-stdlib:amd64.\n",
      "Preparing to unpack .../07-libpython3.7-stdlib_3.7.13-1+bionic3_amd64.deb ...\n",
      "\u001b7\u001b[24;0f\u001b[42m\u001b[30mProgress: [ 16%]\u001b[49m\u001b[39m [#########.................................................] \u001b8Unpacking libpython3.7-stdlib:amd64 (3.7.13-1+bionic3) ...\n",
      "\u001b7\u001b[24;0f\u001b[42m\u001b[30mProgress: [ 16%]\u001b[49m\u001b[39m [#########.................................................] \u001b8\u001b7\u001b[24;0f\u001b[42m\u001b[30mProgress: [ 17%]\u001b[49m\u001b[39m [#########.................................................] \u001b8Selecting previously unselected package libpython3.7:amd64.\n",
      "Preparing to unpack .../08-libpython3.7_3.7.13-1+bionic3_amd64.deb ...\n",
      "Unpacking libpython3.7:amd64 (3.7.13-1+bionic3) ...\n",
      "\u001b7\u001b[24;0f\u001b[42m\u001b[30mProgress: [ 18%]\u001b[49m\u001b[39m [##########................................................] \u001b8\u001b7\u001b[24;0f\u001b[42m\u001b[30mProgress: [ 19%]\u001b[49m\u001b[39m [###########...............................................] \u001b8Selecting previously unselected package libpython3.7-dev:amd64.\n",
      "Preparing to unpack .../09-libpython3.7-dev_3.7.13-1+bionic3_amd64.deb ...\n",
      "Unpacking libpython3.7-dev:amd64 (3.7.13-1+bionic3) ...\n",
      "\u001b7\u001b[24;0f\u001b[42m\u001b[30mProgress: [ 21%]\u001b[49m\u001b[39m [###########...............................................] \u001b8\u001b7\u001b[24;0f\u001b[42m\u001b[30mProgress: [ 21%]\u001b[49m\u001b[39m [############..............................................] \u001b8Selecting previously unselected package python-pip-whl.\n",
      "Preparing to unpack .../10-python-pip-whl_9.0.1-2.3~ubuntu1.18.04.5_all.deb ...\n",
      "Unpacking python-pip-whl (9.0.1-2.3~ubuntu1.18.04.5) ...\n",
      "\u001b7\u001b[24;0f\u001b[42m\u001b[30mProgress: [ 23%]\u001b[49m\u001b[39m [#############.............................................] \u001b8\u001b7\u001b[24;0f\u001b[42m\u001b[30mProgress: [ 23%]\u001b[49m\u001b[39m [#############.............................................] \u001b8Selecting previously unselected package python3-asn1crypto.\n",
      "Preparing to unpack .../11-python3-asn1crypto_0.24.0-1_all.deb ...\n",
      "\u001b7\u001b[24;0f\u001b[42m\u001b[30mProgress: [ 24%]\u001b[49m\u001b[39m [#############.............................................] \u001b8Unpacking python3-asn1crypto (0.24.0-1) ...\n",
      "\u001b7\u001b[24;0f\u001b[42m\u001b[30mProgress: [ 26%]\u001b[49m\u001b[39m [##############............................................] \u001b8Selecting previously unselected package python3-cffi-backend.\n",
      "Preparing to unpack .../12-python3-cffi-backend_1.11.5-1_amd64.deb ...\n",
      "\u001b7\u001b[24;0f\u001b[42m\u001b[30mProgress: [ 26%]\u001b[49m\u001b[39m [###############...........................................] \u001b8Unpacking python3-cffi-backend (1.11.5-1) ...\n",
      "\u001b7\u001b[24;0f\u001b[42m\u001b[30mProgress: [ 28%]\u001b[49m\u001b[39m [################..........................................] \u001b8Selecting previously unselected package python3-crypto.\n",
      "Preparing to unpack .../13-python3-crypto_2.6.1-8ubuntu2_amd64.deb ...\n",
      "\u001b7\u001b[24;0f\u001b[42m\u001b[30mProgress: [ 28%]\u001b[49m\u001b[39m [################..........................................] \u001b8Unpacking python3-crypto (2.6.1-8ubuntu2) ...\n",
      "\u001b7\u001b[24;0f\u001b[42m\u001b[30mProgress: [ 29%]\u001b[49m\u001b[39m [################..........................................] \u001b8Selecting previously unselected package python3-idna.\n",
      "Preparing to unpack .../14-python3-idna_2.6-1_all.deb ...\n",
      "\u001b7\u001b[24;0f\u001b[42m\u001b[30mProgress: [ 30%]\u001b[49m\u001b[39m [#################.........................................] \u001b8Unpacking python3-idna (2.6-1) ...\n",
      "\u001b7\u001b[24;0f\u001b[42m\u001b[30mProgress: [ 31%]\u001b[49m\u001b[39m [##################........................................] \u001b8Selecting previously unselected package python3-six.\n",
      "Preparing to unpack .../15-python3-six_1.11.0-2_all.deb ...\n",
      "\u001b7\u001b[24;0f\u001b[42m\u001b[30mProgress: [ 33%]\u001b[49m\u001b[39m [##################........................................] \u001b8Unpacking python3-six (1.11.0-2) ...\n",
      "\u001b7\u001b[24;0f\u001b[42m\u001b[30mProgress: [ 33%]\u001b[49m\u001b[39m [###################.......................................] \u001b8\u001b7\u001b[24;0f\u001b[42m\u001b[30mProgress: [ 34%]\u001b[49m\u001b[39m [###################.......................................] \u001b8Selecting previously unselected package python3-cryptography.\n",
      "Preparing to unpack .../16-python3-cryptography_2.1.4-1ubuntu1.4_amd64.deb ...\n",
      "Unpacking python3-cryptography (2.1.4-1ubuntu1.4) ...\n",
      "\u001b7\u001b[24;0f\u001b[42m\u001b[30mProgress: [ 35%]\u001b[49m\u001b[39m [####################......................................] \u001b8\u001b7\u001b[24;0f\u001b[42m\u001b[30mProgress: [ 36%]\u001b[49m\u001b[39m [####################......................................] \u001b8Selecting previously unselected package python3-dev.\n",
      "Preparing to unpack .../17-python3-dev_3.6.7-1~18.04_amd64.deb ...\n",
      "Unpacking python3-dev (3.6.7-1~18.04) ...\n",
      "\u001b7\u001b[24;0f\u001b[42m\u001b[30mProgress: [ 38%]\u001b[49m\u001b[39m [#####################.....................................] \u001b8\u001b7\u001b[24;0f\u001b[42m\u001b[30mProgress: [ 38%]\u001b[49m\u001b[39m [######################....................................] \u001b8Selecting previously unselected package python3-secretstorage.\n",
      "Preparing to unpack .../18-python3-secretstorage_2.3.1-2_all.deb ...\n",
      "\u001b7\u001b[24;0f\u001b[42m\u001b[30mProgress: [ 39%]\u001b[49m\u001b[39m [######################....................................] \u001b8Unpacking python3-secretstorage (2.3.1-2) ...\n",
      "\u001b7\u001b[24;0f\u001b[42m\u001b[30mProgress: [ 40%]\u001b[49m\u001b[39m [#######################...................................] \u001b8Selecting previously unselected package python3-keyring.\n",
      "Preparing to unpack .../19-python3-keyring_10.6.0-1_all.deb ...\n",
      "\u001b7\u001b[24;0f\u001b[42m\u001b[30mProgress: [ 41%]\u001b[49m\u001b[39m [#######################...................................] \u001b8Unpacking python3-keyring (10.6.0-1) ...\n",
      "\u001b7\u001b[24;0f\u001b[42m\u001b[30mProgress: [ 43%]\u001b[49m\u001b[39m [########################..................................] \u001b8Selecting previously unselected package python3-keyrings.alt.\n",
      "Preparing to unpack .../20-python3-keyrings.alt_3.0-1_all.deb ...\n",
      "\u001b7\u001b[24;0f\u001b[42m\u001b[30mProgress: [ 43%]\u001b[49m\u001b[39m [#########################.................................] \u001b8Unpacking python3-keyrings.alt (3.0-1) ...\n",
      "\u001b7\u001b[24;0f\u001b[42m\u001b[30mProgress: [ 45%]\u001b[49m\u001b[39m [#########################.................................] \u001b8Selecting previously unselected package python3-pip.\n",
      "Preparing to unpack .../21-python3-pip_9.0.1-2.3~ubuntu1.18.04.5_all.deb ...\n",
      "\u001b7\u001b[24;0f\u001b[42m\u001b[30mProgress: [ 45%]\u001b[49m\u001b[39m [##########################................................] \u001b8Unpacking python3-pip (9.0.1-2.3~ubuntu1.18.04.5) ...\n",
      "\u001b7\u001b[24;0f\u001b[42m\u001b[30mProgress: [ 46%]\u001b[49m\u001b[39m [##########################................................] \u001b8Selecting previously unselected package python3-pkg-resources.\n",
      "Preparing to unpack .../22-python3-pkg-resources_39.0.1-2_all.deb ...\n",
      "\u001b7\u001b[24;0f\u001b[42m\u001b[30mProgress: [ 48%]\u001b[49m\u001b[39m [###########################...............................] \u001b8Unpacking python3-pkg-resources (39.0.1-2) ...\n",
      "\u001b7\u001b[24;0f\u001b[42m\u001b[30mProgress: [ 48%]\u001b[49m\u001b[39m [###########################...............................] \u001b8Selecting previously unselected package python3-setuptools.\n",
      "Preparing to unpack .../23-python3-setuptools_39.0.1-2_all.deb ...\n",
      "\u001b7\u001b[24;0f\u001b[42m\u001b[30mProgress: [ 50%]\u001b[49m\u001b[39m [############################..............................] \u001b8Unpacking python3-setuptools (39.0.1-2) ...\n",
      "\u001b7\u001b[24;0f\u001b[42m\u001b[30mProgress: [ 50%]\u001b[49m\u001b[39m [#############################.............................] \u001b8\u001b7\u001b[24;0f\u001b[42m\u001b[30mProgress: [ 51%]\u001b[49m\u001b[39m [#############################.............................] \u001b8Selecting previously unselected package python3-wheel.\n",
      "Preparing to unpack .../24-python3-wheel_0.30.0-0.2_all.deb ...\n",
      "Unpacking python3-wheel (0.30.0-0.2) ...\n",
      "\u001b7\u001b[24;0f\u001b[42m\u001b[30mProgress: [ 52%]\u001b[49m\u001b[39m [##############################............................] \u001b8\u001b7\u001b[24;0f\u001b[42m\u001b[30mProgress: [ 53%]\u001b[49m\u001b[39m [##############################............................] \u001b8Selecting previously unselected package python3-xdg.\n",
      "Preparing to unpack .../25-python3-xdg_0.25-4ubuntu1.1_all.deb ...\n",
      "Unpacking python3-xdg (0.25-4ubuntu1.1) ...\n",
      "\u001b7\u001b[24;0f\u001b[42m\u001b[30mProgress: [ 55%]\u001b[49m\u001b[39m [###############################...........................] \u001b8\u001b7\u001b[24;0f\u001b[42m\u001b[30mProgress: [ 55%]\u001b[49m\u001b[39m [################################..........................] \u001b8Selecting previously unselected package python3.7.\n",
      "Preparing to unpack .../26-python3.7_3.7.13-1+bionic3_amd64.deb ...\n",
      "\u001b7\u001b[24;0f\u001b[42m\u001b[30mProgress: [ 56%]\u001b[49m\u001b[39m [################################..........................] \u001b8Unpacking python3.7 (3.7.13-1+bionic3) ...\n",
      "\u001b7\u001b[24;0f\u001b[42m\u001b[30mProgress: [ 57%]\u001b[49m\u001b[39m [#################################.........................] \u001b8Selecting previously unselected package python3.7-dev.\n",
      "Preparing to unpack .../27-python3.7-dev_3.7.13-1+bionic3_amd64.deb ...\n",
      "\u001b7\u001b[24;0f\u001b[42m\u001b[30mProgress: [ 58%]\u001b[49m\u001b[39m [#################################.........................] \u001b8Unpacking python3.7-dev (3.7.13-1+bionic3) ...\n",
      "\u001b7\u001b[24;0f\u001b[42m\u001b[30mProgress: [ 60%]\u001b[49m\u001b[39m [##################################........................] \u001b8Setting up python-pip-whl (9.0.1-2.3~ubuntu1.18.04.5) ...\n",
      "\u001b7\u001b[24;0f\u001b[42m\u001b[30mProgress: [ 60%]\u001b[49m\u001b[39m [##################################........................] \u001b8Processing triggers for mime-support (3.60ubuntu1) ...\n",
      "Setting up python3-cffi-backend (1.11.5-1) ...\n",
      "\u001b7\u001b[24;0f\u001b[42m\u001b[30mProgress: [ 62%]\u001b[49m\u001b[39m [###################################.......................] \u001b8\u001b7\u001b[24;0f\u001b[42m\u001b[30mProgress: [ 62%]\u001b[49m\u001b[39m [####################################......................] \u001b8Setting up python3-crypto (2.6.1-8ubuntu2) ...\n",
      "\u001b7\u001b[24;0f\u001b[42m\u001b[30mProgress: [ 63%]\u001b[49m\u001b[39m [####################################......................] \u001b8Setting up python3-idna (2.6-1) ...\n",
      "\u001b7\u001b[24;0f\u001b[42m\u001b[30mProgress: [ 65%]\u001b[49m\u001b[39m [#####################################.....................] \u001b8\u001b7\u001b[24;0f\u001b[42m\u001b[30mProgress: [ 65%]\u001b[49m\u001b[39m [#####################################.....................] \u001b8Setting up python3-xdg (0.25-4ubuntu1.1) ...\n",
      "\u001b7\u001b[24;0f\u001b[42m\u001b[30mProgress: [ 67%]\u001b[49m\u001b[39m [######################################....................] \u001b8Setting up python3-six (1.11.0-2) ...\n",
      "\u001b7\u001b[24;0f\u001b[42m\u001b[30mProgress: [ 67%]\u001b[49m\u001b[39m [#######################################...................] \u001b8\u001b7\u001b[24;0f\u001b[42m\u001b[30mProgress: [ 68%]\u001b[49m\u001b[39m [#######################################...................] \u001b8Setting up python3-wheel (0.30.0-0.2) ...\n",
      "\u001b7\u001b[24;0f\u001b[42m\u001b[30mProgress: [ 70%]\u001b[49m\u001b[39m [########################################..................] \u001b8Setting up libpython3.7-minimal:amd64 (3.7.13-1+bionic3) ...\n",
      "\u001b7\u001b[24;0f\u001b[42m\u001b[30mProgress: [ 70%]\u001b[49m\u001b[39m [########################################..................] \u001b8Setting up python3-pkg-resources (39.0.1-2) ...\n",
      "\u001b7\u001b[24;0f\u001b[42m\u001b[30mProgress: [ 72%]\u001b[49m\u001b[39m [#########################################.................] \u001b8\u001b7\u001b[24;0f\u001b[42m\u001b[30mProgress: [ 72%]\u001b[49m\u001b[39m [#########################################.................] \u001b8Setting up python3.7-minimal (3.7.13-1+bionic3) ...\n",
      "\u001b7\u001b[24;0f\u001b[42m\u001b[30mProgress: [ 73%]\u001b[49m\u001b[39m [##########################################................] \u001b8Setting up python3-asn1crypto (0.24.0-1) ...\n",
      "\u001b7\u001b[24;0f\u001b[42m\u001b[30mProgress: [ 74%]\u001b[49m\u001b[39m [###########################################...............] \u001b8\u001b7\u001b[24;0f\u001b[42m\u001b[30mProgress: [ 75%]\u001b[49m\u001b[39m [###########################################...............] \u001b8Processing triggers for libc-bin (2.27-3ubuntu1) ...\n",
      "/sbin/ldconfig.real: File /usr/lib/x86_64-linux-gnu/libvdpau_nvidia.so.450.36.06 is empty, not checked.\n",
      "/sbin/ldconfig.real: File /usr/lib/x86_64-linux-gnu/libvdpau_nvidia.so.1 is empty, not checked.\n",
      "Setting up libapparmor1:amd64 (2.12-4ubuntu5.1) ...\n",
      "\u001b7\u001b[24;0f\u001b[42m\u001b[30mProgress: [ 77%]\u001b[49m\u001b[39m [############################################..............] \u001b8Setting up python3-pip (9.0.1-2.3~ubuntu1.18.04.5) ...\n",
      "\u001b7\u001b[24;0f\u001b[42m\u001b[30mProgress: [ 77%]\u001b[49m\u001b[39m [############################################..............] \u001b8\u001b7\u001b[24;0f\u001b[42m\u001b[30mProgress: [ 78%]\u001b[49m\u001b[39m [#############################################.............] \u001b8Setting up python3-setuptools (39.0.1-2) ...\n",
      "\u001b7\u001b[24;0f\u001b[42m\u001b[30mProgress: [ 79%]\u001b[49m\u001b[39m [##############################################............] \u001b8Setting up dh-python (3.20180325ubuntu2) ...\n",
      "\u001b7\u001b[24;0f\u001b[42m\u001b[30mProgress: [ 80%]\u001b[49m\u001b[39m [##############################################............] \u001b8Setting up libdbus-1-3:amd64 (1.12.2-1ubuntu1.3) ...\n",
      "\u001b7\u001b[24;0f\u001b[42m\u001b[30mProgress: [ 82%]\u001b[49m\u001b[39m [###############################################...........] \u001b8\u001b7\u001b[24;0f\u001b[42m\u001b[30mProgress: [ 82%]\u001b[49m\u001b[39m [###############################################...........] \u001b8Setting up libpython3-dev:amd64 (3.6.7-1~18.04) ...\n",
      "\u001b7\u001b[24;0f\u001b[42m\u001b[30mProgress: [ 84%]\u001b[49m\u001b[39m [################################################..........] \u001b8Setting up python3-cryptography (2.1.4-1ubuntu1.4) ...\n",
      "\u001b7\u001b[24;0f\u001b[42m\u001b[30mProgress: [ 84%]\u001b[49m\u001b[39m [################################################..........] \u001b8\u001b7\u001b[24;0f\u001b[42m\u001b[30mProgress: [ 85%]\u001b[49m\u001b[39m [#################################################.........] \u001b8Setting up libpython3.7-stdlib:amd64 (3.7.13-1+bionic3) ...\n",
      "\u001b7\u001b[24;0f\u001b[42m\u001b[30mProgress: [ 87%]\u001b[49m\u001b[39m [##################################################........] \u001b8Setting up python3-keyrings.alt (3.0-1) ...\n",
      "\u001b7\u001b[24;0f\u001b[42m\u001b[30mProgress: [ 87%]\u001b[49m\u001b[39m [##################################################........] \u001b8Setting up python3-dev (3.6.7-1~18.04) ...\n",
      "\u001b7\u001b[24;0f\u001b[42m\u001b[30mProgress: [ 89%]\u001b[49m\u001b[39m [###################################################.......] \u001b8\u001b7\u001b[24;0f\u001b[42m\u001b[30mProgress: [ 89%]\u001b[49m\u001b[39m [###################################################.......] \u001b8Setting up python3.7 (3.7.13-1+bionic3) ...\n",
      "\u001b7\u001b[24;0f\u001b[42m\u001b[30mProgress: [ 90%]\u001b[49m\u001b[39m [####################################################......] \u001b8Setting up libpython3.7:amd64 (3.7.13-1+bionic3) ...\n",
      "\u001b7\u001b[24;0f\u001b[42m\u001b[30mProgress: [ 91%]\u001b[49m\u001b[39m [#####################################################.....] \u001b8\u001b7\u001b[24;0f\u001b[42m\u001b[30mProgress: [ 92%]\u001b[49m\u001b[39m [#####################################################.....] \u001b8Setting up libpython3.7-dev:amd64 (3.7.13-1+bionic3) ...\n",
      "\u001b7\u001b[24;0f\u001b[42m\u001b[30mProgress: [ 94%]\u001b[49m\u001b[39m [######################################################....] \u001b8Setting up dbus (1.12.2-1ubuntu1.3) ...\n",
      "\u001b7\u001b[24;0f\u001b[42m\u001b[30mProgress: [ 94%]\u001b[49m\u001b[39m [######################################################....] \u001b8\u001b7\u001b[24;0f\u001b[42m\u001b[30mProgress: [ 95%]\u001b[49m\u001b[39m [#######################################################...] \u001b8Setting up python3-secretstorage (2.3.1-2) ...\n",
      "\u001b7\u001b[24;0f\u001b[42m\u001b[30mProgress: [ 96%]\u001b[49m\u001b[39m [#######################################################...] \u001b8Setting up python3-keyring (10.6.0-1) ...\n",
      "\u001b7\u001b[24;0f\u001b[42m\u001b[30mProgress: [ 97%]\u001b[49m\u001b[39m [########################################################..] \u001b8Setting up python3.7-dev (3.7.13-1+bionic3) ...\n",
      "\u001b7\u001b[24;0f\u001b[42m\u001b[30mProgress: [ 99%]\u001b[49m\u001b[39m [#########################################################.] \u001b8\u001b7\u001b[24;0f\u001b[42m\u001b[30mProgress: [ 99%]\u001b[49m\u001b[39m [#########################################################.] \u001b8Processing triggers for libc-bin (2.27-3ubuntu1) ...\n",
      "/sbin/ldconfig.real: File /usr/lib/x86_64-linux-gnu/libvdpau_nvidia.so.450.36.06 is empty, not checked.\n",
      "/sbin/ldconfig.real: File /usr/lib/x86_64-linux-gnu/libvdpau_nvidia.so.1 is empty, not checked.\n",
      "\n",
      "Reading package lists... Done\n",
      "Building dependency tree       \n",
      "Reading state information... Done\n",
      "python3.7 is already the newest version (3.7.13-1+bionic3).\n",
      "python3.7 set to manually installed.\n",
      "0 upgraded, 0 newly installed, 0 to remove and 140 not upgraded.\n",
      "update-alternatives: using /usr/bin/python3.6 to provide /usr/bin/python3 (python3) in auto mode\n",
      "update-alternatives: using /usr/bin/python3.7 to provide /usr/bin/python3 (python3) in auto mode\n",
      "\u001b[33mCache entry deserialization failed, entry ignored\u001b[0m\n",
      "Collecting pip\n",
      "  Downloading https://files.pythonhosted.org/packages/4d/16/0a14ca596f30316efd412a60bdfac02a7259bf8673d4d917dc60b9a21812/pip-22.0.4-py3-none-any.whl (2.1MB)\n",
      "\u001b[K    100% |████████████████████████████████| 2.1MB 530kB/s eta 0:00:01\n",
      "\u001b[?25hInstalling collected packages: pip\n",
      "  Found existing installation: pip 9.0.1\n",
      "    Not uninstalling pip at /usr/lib/python3/dist-packages, outside environment /usr\n",
      "Successfully installed pip-22.0.4\n",
      "Collecting cython\n",
      "  Downloading Cython-0.29.28-cp37-cp37m-manylinux_2_17_x86_64.manylinux2014_x86_64.manylinux_2_24_x86_64.whl (1.9 MB)\n",
      "\u001b[2K     \u001b[90m━━━━━━━━━━━━━━━━━━━━━━━━━━━━━━━━━━━━━━━━\u001b[0m \u001b[32m1.9/1.9 MB\u001b[0m \u001b[31m20.0 MB/s\u001b[0m eta \u001b[36m0:00:00\u001b[0ma \u001b[36m0:00:01\u001b[0m\n",
      "\u001b[?25hInstalling collected packages: cython\n",
      "Successfully installed cython-0.29.28\n",
      "\u001b[33mWARNING: Running pip as the 'root' user can result in broken permissions and conflicting behaviour with the system package manager. It is recommended to use a virtual environment instead: https://pip.pypa.io/warnings/venv\u001b[0m\u001b[33m\n",
      "\u001b[0mLooking in links: https://download.pytorch.org/whl/torch_stable.html\n",
      "Collecting torch==1.5.1+cu101\n",
      "  Downloading https://download.pytorch.org/whl/cu101/torch-1.5.1%2Bcu101-cp37-cp37m-linux_x86_64.whl (704.4 MB)\n",
      "Collecting torchvision==0.6.1+cu101\n",
      "  Downloading https://download.pytorch.org/whl/cu101/torchvision-0.6.1%2Bcu101-cp37-cp37m-linux_x86_64.whl (6.6 MB)\n",
      "Collecting numpy\n",
      "  Downloading numpy-1.21.6-cp37-cp37m-manylinux_2_12_x86_64.manylinux2010_x86_64.whl (15.7 MB)\n",
      "Collecting future\n",
      "  Downloading future-0.18.2.tar.gz (829 kB)\n",
      "  Preparing metadata (setup.py) ... \u001b[?25ldone\n",
      "\u001b[?25hCollecting pillow>=4.1.1\n",
      "  Downloading Pillow-9.1.0-cp37-cp37m-manylinux_2_17_x86_64.manylinux2014_x86_64.whl (4.3 MB)\n",
      "Building wheels for collected packages: future\n",
      "  Building wheel for future (setup.py) ... \u001b[?25ldone\n",
      "\u001b[?25h  Created wheel for future: filename=future-0.18.2-py3-none-any.whl size=493275 sha256=8a65c041cb25d0211f30a16f812f14ff8c135e842959170b55dda3ecbcddbca8\n",
      "  Stored in directory: /root/.cache/pip/wheels/56/b0/fe/4410d17b32f1f0c3cf54cdfb2bc04d7b4b8f4ae377e2229ba0\n",
      "Successfully built future\n",
      "Installing collected packages: pillow, numpy, future, torch, torchvision\n",
      "Successfully installed future-0.18.2 numpy-1.21.6 pillow-9.1.0 torch-1.5.1+cu101 torchvision-0.6.1+cu101\n",
      "\u001b[33mWARNING: Running pip as the 'root' user can result in broken permissions and conflicting behaviour with the system package manager. It is recommended to use a virtual environment instead: https://pip.pypa.io/warnings/venv\u001b[0m\u001b[33m\n",
      "\u001b[0mCollecting psutil\n",
      "  Downloading psutil-5.9.0-cp37-cp37m-manylinux_2_12_x86_64.manylinux2010_x86_64.manylinux_2_17_x86_64.manylinux2014_x86_64.whl (280 kB)\n",
      "\u001b[2K     \u001b[90m━━━━━━━━━━━━━━━━━━━━━━━━━━━━━━━━━━━━━━\u001b[0m \u001b[32m280.7/280.7 KB\u001b[0m \u001b[31m17.9 MB/s\u001b[0m eta \u001b[36m0:00:00\u001b[0m\n",
      "\u001b[?25hCollecting cmake==3.15.3\n",
      "  Downloading cmake-3.15.3-py3-none-manylinux2010_x86_64.whl (16.5 MB)\n",
      "\u001b[2K     \u001b[90m━━━━━━━━━━━━━━━━━━━━━━━━━━━━━━━━━━━━━━━━\u001b[0m \u001b[32m16.5/16.5 MB\u001b[0m \u001b[31m18.5 MB/s\u001b[0m eta \u001b[36m0:00:00\u001b[0m00:01\u001b[0m00:01\u001b[0m\n",
      "\u001b[?25hInstalling collected packages: cmake, psutil\n",
      "Successfully installed cmake-3.15.3 psutil-5.9.0\n",
      "\u001b[33mWARNING: Running pip as the 'root' user can result in broken permissions and conflicting behaviour with the system package manager. It is recommended to use a virtual environment instead: https://pip.pypa.io/warnings/venv\u001b[0m\u001b[33m\n",
      "\u001b[0m"
     ]
    }
   ],
   "source": [
    "!apt update\n",
    "!apt install -y build-essential libpq-dev libssl-dev openssl libffi-dev\n",
    "!apt install -y python3-pip python3.7-dev\n",
    "!apt install python3.7\n",
    "!update-alternatives --install /usr/bin/python3 python3 /usr/bin/python3.6 1\n",
    "!update-alternatives --install /usr/bin/python3 python3 /usr/bin/python3.7 2\n",
    "!update-alternatives --set python3 /usr/bin/python3.7\n",
    "!ln -sf /usr/bin/python3 /usr/local/bin/python\n",
    "!ln -sf /usr/bin/python3 /usr/local/bin/python3\n",
    "!python -m pip install --upgrade pip\n",
    "!python -m pip install cython\n",
    "!python -m pip install torch==1.5.1+cu101 torchvision==0.6.1+cu101 -f https://download.pytorch.org/whl/torch_stable.html --progress-bar off\n",
    "!python -m pip install psutil cmake==3.15.3"
   ]
  },
  {
   "cell_type": "code",
   "execution_count": 8,
   "metadata": {
    "collapsed": false,
    "execution": {
     "iopub.execute_input": "2022-04-05T15:24:55.521316Z",
     "iopub.status.busy": "2022-04-05T15:24:55.520959Z",
     "iopub.status.idle": "2022-04-05T15:24:55.527007Z",
     "shell.execute_reply": "2022-04-05T15:24:55.526049Z",
     "shell.execute_reply.started": "2022-04-05T15:24:55.521270Z"
    },
    "gradient": {
     "editing": false,
     "id": "a24b9eca-d5b0-472d-a032-1e7675343956",
     "kernelId": "45d7d3ba-2e93-4fa3-9801-4228e2d66dd7",
     "source_hidden": false
    },
    "jupyter": {
     "outputs_hidden": false
    }
   },
   "outputs": [
    {
     "name": "stdout",
     "output_type": "stream",
     "text": [
      "env: OMP_NUM_THREADS=1\n"
     ]
    }
   ],
   "source": [
    "# avoid tensor operation using all cpu cores\n",
    "%env OMP_NUM_THREADS 1"
   ]
  },
  {
   "cell_type": "markdown",
   "metadata": {
    "gradient": {
     "editing": false,
     "id": "682b4d39-350b-4571-b0dc-c255cbcd7d09",
     "kernelId": "45d7d3ba-2e93-4fa3-9801-4228e2d66dd7"
    }
   },
   "source": [
    "## Enable observation logging\n",
    "\n",
    "* Incorporate basic observation logging functionality to the `verbose` option in `HanabiEnv` "
   ]
  },
  {
   "cell_type": "code",
   "execution_count": 3,
   "metadata": {
    "collapsed": false,
    "execution": {
     "iopub.execute_input": "2022-05-10T08:22:24.209661Z",
     "iopub.status.busy": "2022-05-10T08:22:24.209205Z",
     "iopub.status.idle": "2022-05-10T08:22:24.217483Z",
     "shell.execute_reply": "2022-05-10T08:22:24.216023Z",
     "shell.execute_reply.started": "2022-05-10T08:22:24.209580Z"
    },
    "gradient": {
     "editing": false,
     "id": "c947b8d8-3989-4948-9f25-7c9fa40f4c30",
     "kernelId": "45d7d3ba-2e93-4fa3-9801-4228e2d66dd7",
     "source_hidden": false
    },
    "jupyter": {
     "outputs_hidden": false
    }
   },
   "outputs": [
    {
     "name": "stdout",
     "output_type": "stream",
     "text": [
      "/notebooks/off-belief-small\n"
     ]
    }
   ],
   "source": [
    "%cd /notebooks/off-belief-small/"
   ]
  },
  {
   "cell_type": "code",
   "execution_count": 4,
   "metadata": {
    "collapsed": false,
    "execution": {
     "iopub.execute_input": "2022-05-10T08:22:28.509752Z",
     "iopub.status.busy": "2022-05-10T08:22:28.509351Z",
     "iopub.status.idle": "2022-05-10T08:22:29.934574Z",
     "shell.execute_reply": "2022-05-10T08:22:29.933577Z",
     "shell.execute_reply.started": "2022-05-10T08:22:28.509688Z"
    },
    "gradient": {
     "editing": false,
     "id": "e60e987b-0cca-4732-b671-999f728e0834",
     "kernelId": "45d7d3ba-2e93-4fa3-9801-4228e2d66dd7",
     "source_hidden": false
    },
    "jupyter": {
     "outputs_hidden": false
    }
   },
   "outputs": [
    {
     "name": "stdout",
     "output_type": "stream",
     "text": [
      "sed: can't read  : No such file or directory\n",
      "sed: can't read  : No such file or directory\n"
     ]
    }
   ],
   "source": [
    "# insert logging code\n",
    "!cp -n rlcc/hanabi_env.h rlcc/hanabi_env.h.old\n",
    "!sed -r -e 's/^( *numStep_ = 0;)$/\\1\\n    if (verbose_) std::cout << \"STATE\\\\nCurrent player: \" << state_->CurPlayer() << \"\\\\n\" << state_->ToString() << \"\\\\n\\\\n\";/' \\\\\n",
    "        -e 's/^(.*applyMove.*)$/    if (verbose_) std::cout << \"MOVE: \" << move.ToString() << \"\\\\n\\\\n\";\\n\\1\\n    if (verbose_) std::cout << \"STATE\\\\nCurrent player: \" << state_->CurPlayer() << \"\\\\n\" << state_->ToString() << \"\\\\n\\\\n\";/g' \\\\\n",
    "        rlcc/hanabi_env.h.old > rlcc/hanabi_env.h"
   ]
  },
  {
   "cell_type": "code",
   "execution_count": 5,
   "metadata": {
    "collapsed": false,
    "execution": {
     "iopub.execute_input": "2022-05-10T08:22:32.799736Z",
     "iopub.status.busy": "2022-05-10T08:22:32.799450Z",
     "iopub.status.idle": "2022-05-10T08:22:34.233487Z",
     "shell.execute_reply": "2022-05-10T08:22:34.232210Z",
     "shell.execute_reply.started": "2022-05-10T08:22:32.799693Z"
    },
    "gradient": {
     "editing": false,
     "id": "1e5441e2-ed7c-4f83-8dcf-c7ea756c587e",
     "kernelId": "45d7d3ba-2e93-4fa3-9801-4228e2d66dd7",
     "source_hidden": false
    },
    "jupyter": {
     "outputs_hidden": false
    }
   },
   "outputs": [
    {
     "name": "stdout",
     "output_type": "stream",
     "text": [
      "sed: can't read  : No such file or directory\n"
     ]
    }
   ],
   "source": [
    "# hide card ID output (std::to_string(Id()) + \" \")\n",
    "!cp -n hanabi-learning-environment/hanabi_lib/hanabi_card.cc hanabi-learning-environment/hanabi_lib/hanabi_card.cc.old\n",
    "!sed -r 's/std.*\" \"/std::string\\(\\)/g' \\\\\n",
    "        hanabi-learning-environment/hanabi_lib/hanabi_card.cc.old > hanabi-learning-environment/hanabi_lib/hanabi_card.cc"
   ]
  },
  {
   "cell_type": "markdown",
   "metadata": {
    "gradient": {
     "editing": false,
     "id": "dd678b16-6eef-4ebb-9cbf-de5d192bf339",
     "kernelId": "45d7d3ba-2e93-4fa3-9801-4228e2d66dd7"
    }
   },
   "source": [
    "## Compile learning environment"
   ]
  },
  {
   "cell_type": "code",
   "execution_count": 6,
   "metadata": {
    "collapsed": false,
    "execution": {
     "iopub.execute_input": "2022-05-10T08:23:06.270885Z",
     "iopub.status.busy": "2022-05-10T08:23:06.270594Z",
     "iopub.status.idle": "2022-05-10T08:26:02.443753Z",
     "shell.execute_reply": "2022-05-10T08:26:02.442480Z",
     "shell.execute_reply.started": "2022-05-10T08:23:06.270843Z"
    },
    "gradient": {
     "editing": false,
     "id": "2526d287-6cd8-429f-abe4-797b28cccd5a",
     "kernelId": "45d7d3ba-2e93-4fa3-9801-4228e2d66dd7",
     "source_hidden": false
    },
    "jupyter": {
     "outputs_hidden": false
    }
   },
   "outputs": [
    {
     "name": "stdout",
     "output_type": "stream",
     "text": [
      "/notebooks/off-belief-small/build\n",
      "-- The C compiler identification is GNU 7.4.0\n",
      "-- The CXX compiler identification is GNU 7.4.0\n",
      "-- Check for working C compiler: /usr/bin/cc\n",
      "-- Check for working C compiler: /usr/bin/cc -- works\n",
      "-- Detecting C compiler ABI info\n",
      "-- Detecting C compiler ABI info - done\n",
      "-- Detecting C compile features\n",
      "-- Detecting C compile features - done\n",
      "-- Check for working CXX compiler: /usr/bin/c++\n",
      "-- Check for working CXX compiler: /usr/bin/c++ -- works\n",
      "-- Detecting CXX compiler ABI info\n",
      "-- Detecting CXX compiler ABI info - done\n",
      "-- Detecting CXX compile features\n",
      "-- Detecting CXX compile features - done\n",
      "Traceback (most recent call last):\n",
      "  File \"/notebooks/off-belief-small/get_pybind_flags.py\", line 5, in <module>\n",
      "    val = getattr(torch._C, f\"_PYBIND11_{name}\")\n",
      "AttributeError: module 'torch._C' has no attribute '_PYBIND11_COMPILER_TYPE'\n",
      "-- Found PythonInterp: /usr/bin/python3.7 (found suitable version \"3.7.13\", minimum required is \"3.7\") \n",
      "-- Found PythonLibs: /usr/lib/x86_64-linux-gnu/libpython3.7m.so (found suitable version \"3.7.13\", minimum required is \"3.7\") \n",
      "-- Looking for pthread.h\n",
      "-- Looking for pthread.h - found\n",
      "-- Performing Test CMAKE_HAVE_LIBC_PTHREAD\n",
      "-- Performing Test CMAKE_HAVE_LIBC_PTHREAD - Failed\n",
      "-- Looking for pthread_create in pthreads\n",
      "-- Looking for pthread_create in pthreads - not found\n",
      "-- Looking for pthread_create in pthread\n",
      "-- Looking for pthread_create in pthread - found\n",
      "-- Found Threads: TRUE  \n",
      "-- Found CUDA: /usr/local/cuda (found version \"10.0\") \n",
      "-- Caffe2: CUDA detected: 10.0\n",
      "-- Caffe2: CUDA nvcc is: /usr/local/cuda/bin/nvcc\n",
      "-- Caffe2: CUDA toolkit directory: /usr/local/cuda\n",
      "-- Caffe2: Header version is: 10.0\n",
      "-- Found CUDNN: /usr/lib/x86_64-linux-gnu/libcudnn.so  \n",
      "-- Found cuDNN: v7.6.2  (include: /usr/include, library: /usr/lib/x86_64-linux-gnu/libcudnn.so)\n",
      "-- Autodetected CUDA architecture(s):  5.2\n",
      "-- Added CUDA NVCC flags for: -gencode;arch=compute_52,code=sm_52\n",
      "-- Found torch: /usr/local/lib/python3.7/dist-packages/torch/lib/libtorch.so  \n",
      "-- Found PythonInterp: /usr/bin/python3.7 (found version \"3.7.13\") \n",
      "-- Found PythonLibs: /usr/lib/x86_64-linux-gnu/libpython3.7m.so\n",
      "-- pybind11 v2.3.dev1\n",
      "-- Performing Test HAS_FLTO\n",
      "-- Performing Test HAS_FLTO - Success\n",
      "-- LTO enabled\n",
      "-- Caffe2: CUDA detected: 10.0\n",
      "-- Caffe2: CUDA nvcc is: /usr/local/cuda/bin/nvcc\n",
      "-- Caffe2: CUDA toolkit directory: /usr/local/cuda\n",
      "-- Caffe2: Header version is: 10.0\n",
      "-- Found cuDNN: v7.6.2  (include: /usr/include, library: /usr/lib/x86_64-linux-gnu/libcudnn.so)\n",
      "-- Autodetected CUDA architecture(s):  5.2\n",
      "-- Added CUDA NVCC flags for: -gencode;arch=compute_52,code=sm_52\n",
      "-- Configuring done\n",
      "-- Generating done\n",
      "-- Build files have been written to: /notebooks/off-belief-small/build\n",
      "\u001b[35m\u001b[1mScanning dependencies of target rela_lib\u001b[0m\n",
      "\u001b[35m\u001b[1mScanning dependencies of target hanabi\u001b[0m\n",
      "[ 38%] \u001b[32mBuilding CXX object hanabi-learning-environment/hanabi_lib/CMakeFiles/hanabi.dir/hanabi_card.cc.o\u001b[0m\n",
      "[ 38%] \u001b[32mBuilding CXX object hanabi-learning-environment/hanabi_lib/CMakeFiles/hanabi.dir/hanabi_history_item.cc.o\u001b[0m\n",
      "[ 38%] \u001b[32mBuilding CXX object hanabi-learning-environment/hanabi_lib/CMakeFiles/hanabi.dir/hanabi_move.cc.o\u001b[0m\n",
      "[ 38%] \u001b[32mBuilding CXX object hanabi-learning-environment/hanabi_lib/CMakeFiles/hanabi.dir/hanabi_observation.cc.o\u001b[0m\n",
      "[ 38%] \u001b[32mBuilding CXX object hanabi-learning-environment/hanabi_lib/CMakeFiles/hanabi.dir/hanabi_state.cc.o\u001b[0m\n",
      "[ 38%] \u001b[32mBuilding CXX object hanabi-learning-environment/hanabi_lib/CMakeFiles/hanabi.dir/canonical_encoders.cc.o\u001b[0m\n",
      "[ 38%] \u001b[32mBuilding CXX object hanabi-learning-environment/hanabi_lib/CMakeFiles/hanabi.dir/util.cc.o\u001b[0m\n",
      "[ 38%] \u001b[32mBuilding CXX object hanabi-learning-environment/hanabi_lib/CMakeFiles/hanabi.dir/hanabi_hand.cc.o\u001b[0m\n",
      "[ 38%] \u001b[32mBuilding CXX object hanabi-learning-environment/hanabi_lib/CMakeFiles/hanabi.dir/hanabi_game.cc.o\u001b[0m\n",
      "[ 38%] \u001b[32mBuilding CXX object rela/CMakeFiles/rela_lib.dir/transition.cc.o\u001b[0m\n",
      "[ 42%] \u001b[32mBuilding CXX object rela/CMakeFiles/rela_lib.dir/batcher.cc.o\u001b[0m\n",
      "[ 50%] \u001b[32mBuilding CXX object rela/CMakeFiles/rela_lib.dir/batch_runner.cc.o\u001b[0m\n",
      "[ 50%] \u001b[32mBuilding CXX object rela/CMakeFiles/rela_lib.dir/context.cc.o\u001b[0m\n",
      "[ 53%] \u001b[32m\u001b[1mLinking CXX static library libhanabi.a\u001b[0m\n",
      "[ 53%] Built target hanabi\n",
      "\u001b[35m\u001b[1mScanning dependencies of target game_example\u001b[0m\n",
      "\u001b[35m\u001b[1mScanning dependencies of target pyhanabi\u001b[0m\n",
      "[ 61%] \u001b[32mBuilding CXX object hanabi-learning-environment/CMakeFiles/pyhanabi.dir/pyhanabi.cc.o\u001b[0m\n",
      "[ 61%] \u001b[32mBuilding CXX object hanabi-learning-environment/CMakeFiles/game_example.dir/game_example.cc.o\u001b[0m\n",
      "[ 65%] \u001b[32m\u001b[1mLinking CXX executable game_example\u001b[0m\n",
      "In file included from \u001b[01m\u001b[K/notebooks/off-belief-small/rela/batch_runner.cc:7:0\u001b[m\u001b[K:\n",
      "\u001b[01m\u001b[K/notebooks/off-belief-small/rela/batch_runner.h:17:7:\u001b[m\u001b[K \u001b[01;35m\u001b[Kwarning: \u001b[m\u001b[K‘\u001b[01m\u001b[Krela::BatchRunner\u001b[m\u001b[K’ declared with greater visibility than the type of its field ‘\u001b[01m\u001b[Krela::BatchRunner::pyModel_\u001b[m\u001b[K’ [\u001b[01;35m\u001b[K-Wattributes\u001b[m\u001b[K]\n",
      " class \u001b[01;35m\u001b[KBatchRunner\u001b[m\u001b[K {\n",
      "       \u001b[01;35m\u001b[K^~~~~~~~~~~\u001b[m\u001b[K\n",
      "[ 69%] \u001b[32m\u001b[1mLinking CXX shared library libpyhanabi.so\u001b[0m\n",
      "[ 69%] Built target pyhanabi\n",
      "[ 69%] Built target game_example\n",
      "[ 73%] \u001b[32m\u001b[1mLinking CXX static library librela_lib.a\u001b[0m\n",
      "[ 73%] Built target rela_lib\n",
      "\u001b[35m\u001b[1mScanning dependencies of target hanalearn\u001b[0m\n",
      "\u001b[35m\u001b[1mScanning dependencies of target rela\u001b[0m\n",
      "[ 76%] \u001b[32mBuilding CXX object rela/CMakeFiles/rela.dir/pybind.cc.o\u001b[0m\n",
      "[ 92%] \u001b[32mBuilding CXX object CMakeFiles/hanalearn.dir/rlcc/utils.cc.o\u001b[0m\n",
      "[ 92%] \u001b[32mBuilding CXX object CMakeFiles/hanalearn.dir/rlcc/clone_data_generator.cc.o\u001b[0m\n",
      "[ 92%] \u001b[32mBuilding CXX object CMakeFiles/hanalearn.dir/rlcc/r2d2_actor.cc.o\u001b[0m\n",
      "[ 92%] \u001b[32mBuilding CXX object CMakeFiles/hanalearn.dir/rlcc/pybind.cc.o\u001b[0m\n",
      "\u001b[01m\u001b[K/notebooks/off-belief-small/rlcc/r2d2_actor.cc:\u001b[m\u001b[K In member function ‘\u001b[01m\u001b[Kvoid R2D2Actor::observeBeforeAct(const HanabiEnv&)\u001b[m\u001b[K’:\n",
      "\u001b[01m\u001b[K/notebooks/off-belief-small/rlcc/r2d2_actor.cc:222:28:\u001b[m\u001b[K \u001b[01;35m\u001b[Kwarning: \u001b[m\u001b[Kunused variable ‘\u001b[01m\u001b[KcardCount\u001b[m\u001b[K’ [\u001b[01;35m\u001b[K-Wunused-variable\u001b[m\u001b[K]\n",
      "     auto [privV0, cardCount\u001b[01;35m\u001b[K]\u001b[m\u001b[K =\n",
      "                            \u001b[01;35m\u001b[K^\u001b[m\u001b[K\n",
      "[ 96%] \u001b[32m\u001b[1mLinking CXX shared module rela.cpython-37m-x86_64-linux-gnu.so\u001b[0m\n",
      "[100%] \u001b[32m\u001b[1mLinking CXX shared module hanalearn.cpython-37m-x86_64-linux-gnu.so\u001b[0m\n",
      "[100%] Built target rela\n",
      "[100%] Built target hanalearn\n"
     ]
    }
   ],
   "source": [
    "!rm -rf build\n",
    "!mkdir build\n",
    "%cd build\n",
    "!cmake ..\n",
    "!make -j10"
   ]
  },
  {
   "cell_type": "markdown",
   "metadata": {
    "gradient": {
     "editing": false,
     "id": "9839be2f-b884-41ff-818c-41d35740f9c5",
     "kernelId": "45d7d3ba-2e93-4fa3-9801-4228e2d66dd7"
    }
   },
   "source": [
    "## Generate observation log\n",
    "\n",
    "* Evaluate the agent in Hanabi games with the `verbose` option to produce a log"
   ]
  },
  {
   "cell_type": "code",
   "execution_count": null,
   "metadata": {},
   "outputs": [],
   "source": [
    "# extract log from 'start' to 'end' games\n",
    "def extract_log(log_path, start, end, out_path):\n",
    "    with open(log_path) as log:\n",
    "        with open(out_path, 'w') as out:\n",
    "            game = -1\n",
    "            for line in log:\n",
    "                if line.startswith('Hanabi game created'):\n",
    "                    game += 1\n",
    "                    if end <= game:\n",
    "                        break\n",
    "                if start <= game:\n",
    "                    out.write(line)"
   ]
  },
  {
   "cell_type": "code",
   "execution_count": null,
   "metadata": {
    "collapsed": false,
    "gradient": {
     "editing": false,
     "id": "c7757ea6-da8e-4ace-9745-3411eafac18a",
     "kernelId": "45d7d3ba-2e93-4fa3-9801-4228e2d66dd7",
     "source_hidden": false
    },
    "jupyter": {
     "outputs_hidden": false
    }
   },
   "outputs": [
    {
     "name": "stdout",
     "output_type": "stream",
     "text": [
      "/notebooks/off-belief-small/pyhanabi\n"
     ]
    }
   ],
   "source": [
    "%cd ../pyhanabi\n",
    "!sed -i -r \"s/^( *)False/\\1True/g\" create.py # enable verbose logging"
   ]
  },
  {
   "cell_type": "markdown",
   "metadata": {},
   "source": [
    "### Hanabi-Small\n",
    "\n",
    "* **States per game**: ~31\n",
    "* **Sampled states per game**: 4 (~13%)\n",
    "* **Train set**: 25,000 games (100,000 states)\n",
    "* **Test set**: 5,000 games (20,000 states)"
   ]
  },
  {
   "cell_type": "code",
   "execution_count": null,
   "metadata": {
    "collapsed": false,
    "gradient": {
     "editing": false,
     "id": "5e8aef95-3547-4f51-b624-4bcbf344581a",
     "kernelId": "45d7d3ba-2e93-4fa3-9801-4228e2d66dd7",
     "source_hidden": false
    },
    "jupyter": {
     "outputs_hidden": false
    }
   },
   "outputs": [],
   "source": [
    "!python tools/eval_model.py --weight1 exps/obl1/model0.pthw --num_game 1 --num_run 30000 > small.log"
   ]
  },
  {
   "cell_type": "code",
   "execution_count": null,
   "metadata": {},
   "outputs": [],
   "source": [
    "extract_log('small.log',     0, 25000, 'small_train.log')\n",
    "extract_log('small.log', 25000, 30000, 'small_test.log')"
   ]
  },
  {
   "cell_type": "markdown",
   "metadata": {},
   "source": [
    "### Standard Hanabi\n",
    "\n",
    "* **States per game**: ~69\n",
    "* **Sampled states per game**: 7 (~10%)\n",
    "* **Train set**: 15,000 games (105,000 states)\n",
    "* **Test set**: 3,000 games (21,000 states)"
   ]
  },
  {
   "cell_type": "code",
   "execution_count": null,
   "metadata": {},
   "outputs": [],
   "source": [
    "!python tools/eval_model.py --paper obl --num_game 1 --num_run 18000 > standard.log"
   ]
  },
  {
   "cell_type": "code",
   "execution_count": null,
   "metadata": {},
   "outputs": [],
   "source": [
    "extract_log('standard.log',     0, 15000, 'train.log')\n",
    "extract_log('standard.log', 15000, 18000, 'test.log')"
   ]
  },
  {
   "cell_type": "markdown",
   "metadata": {},
   "source": [
    "## Parse logs to datasets\n",
    "\n",
    "* An example of an observation is shown below:\n",
    "\n",
    "  ```\n",
    "  ...\n",
    "  MOVE: (Reveal player +1 color R)\n",
    "  \n",
    "  STATE\n",
    "  Current player: 1\n",
    "  Life tokens: 1\n",
    "  Info tokens: 1\n",
    "  Fireworks: R3 Y0\n",
    "  Hands:\n",
    "  Y2 || X2|RY2\n",
    "  Y1 || XX|RY12345\n",
    "  -----\n",
    "  Cur player\n",
    "  Y1 || X1|Y1\n",
    "  R2 || RX|R12345\n",
    "  Deck size: 8\n",
    "  Discards: R3 R5 Y2 R1 Y3\n",
    "  \n",
    "  MOVE: (Play 0)\n",
    "  ...\n",
    "  ```\n",
    "  \n",
    "* **An observation of the above state from the perspective of `Cur player` contains the following information**:\n",
    "  \n",
    "  * **Identities of their partner's cards** (i.e., their partner's first (oldest) card is `Y2`:\n",
    "    \n",
    "    $\\lnot is(R, c_1)\\land is(Y, c_1)\\land \\lnot is(1, c_1)\\land is(2, c_1)\\land \\lnot is(3\\ldots5, c_1)$\n",
    "    \n",
    "  * **Plausible identities of their own cards from previously obtained clues** (i.e., their second (newest) card can be `R12345`:\n",
    "    \n",
    "    $ps(R, c_2)\\land \\lnot ps(Y, c_2)\\land ps(1\\ldots 5, c_2)$\n",
    "    \n",
    "  * **State of the firework stacks**:\n",
    "    \n",
    "    $\\ fw(R)=3\\land fw(Y)=0$\n",
    "    \n",
    "  * **Number of discarded cards**:\n",
    "    \n",
    "    $ds(R,1)=1\\land ds(R,2)=0\\land ds(R,3)=1\\land ds(R,4)=0\\land ds(R,5)=1\\land ds(Y,1)=0\\land\\ldots\\land ds(Y,5)=0$\n",
    "    \n",
    "  * **The most recent action** (i.e., `Reveal player +1 color R`):\n",
    "    \n",
    "    $\\ COLOUR\\land\\lnot RANK\\land\\lnot DISCARD \\land\\lnot PLAY$\n",
    "\n",
    "* `log_to_csv.py` can extract such information from observation logs to form instances in oracle and test datasets\n",
    "* Atomic formulae (e.g. $\\lnot is(R, c_1)$) are translated into propositional variables (e.g. $\\lnot isR\\_c1$)\n",
    "* The instances are labelled with the observed action of the agent (e.g. `(Play 0)`), converted to 1-based card indexing (e.g., `PLAY_1`)"
   ]
  },
  {
   "cell_type": "code",
   "execution_count": null,
   "metadata": {},
   "outputs": [],
   "source": [
    "!python3 log_to_csv.py train.csv < train.log\n",
    "!python3 log_to_csv.py test.csv  < test.log"
   ]
  },
  {
   "cell_type": "code",
   "execution_count": null,
   "metadata": {},
   "outputs": [],
   "source": [
    "!sed -r -e \"s/^(HAND_SIZE =).*/\\1 2/g\" \\\\\n",
    "        -e \"s/^(N_COLOURS =).*/\\1 2/g\" \\\\\n",
    "        -e \"s/^(N_RANKS =).*/\\1 5/g\" \\\\\n",
    "        -e \"s/^(N_LIVES =).*/\\1 1/g\" \\\\\n",
    "        -e \"s/^(N_SAMPLES =).*/\\1 4/g\" \\\\\n",
    "        log_to_csv.py > log_to_csv_small.py\n",
    "!python3 log_to_csv_small.py small_train.csv < small_train.log\n",
    "!python3 log_to_csv_small.py small_test.csv  < small_test.log"
   ]
  }
 ],
 "metadata": {
  "kernelspec": {
   "display_name": "Python 3",
   "language": "python",
   "name": "python3"
  },
  "language_info": {
   "codemirror_mode": {
    "name": "ipython",
    "version": 3
   },
   "file_extension": ".py",
   "mimetype": "text/x-python",
   "name": "python",
   "nbconvert_exporter": "python",
   "pygments_lexer": "ipython3",
   "version": "3.6.8"
  }
 },
 "nbformat": 4,
 "nbformat_minor": 4
}
