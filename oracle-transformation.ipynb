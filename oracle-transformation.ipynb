{
 "cells": [
  {
   "cell_type": "markdown",
   "metadata": {
    "gradient": {
     "editing": false,
     "id": "bef5ea66-6d94-4f24-b6a6-9819d5c0971b",
     "kernelId": "45d7d3ba-2e93-4fa3-9801-4228e2d66dd7"
    }
   },
   "source": [
    "## Construct attributes programmatically\n",
    "\n",
    "#### Simple conjunctions/disjunctions\n",
    "\n",
    "* Conjunctions and disjunctions are generated from all combinations of two binary atoms – $\\{(p \\land q), (p\\land r), (q \\land r), \\dots\\}$\n",
    "\n",
    "  * 51 (binary atoms) choose 2 = 1275 additional atoms\n",
    "\n",
    "* Combinations of literals with negations can also be considered – $\\{(p \\land q), (\\lnot p \\land q), (p \\land\\lnot q), (\\lnot p \\land\\lnot q), \\dots\\}$.\n",
    "\n",
    "  * 1275 * 4 = 5100 additional atoms\n",
    "\n",
    "#### Filtering\n",
    "\n",
    "* $\\textbf{is1}(c_1) \\land \\textbf{is2}(c_1)$ is a contradiction – card 1 will never be both ranks 1 and 2\n",
    "* $\\textbf{isR}(c_1) \\land \\textbf{isY}(c_1)$ is a contradiction – card 1 will never be both red and yellow\n",
    "* Discard attributes which provide little information (e.g. tautologies and contradictions) – [mutual information filtering](https://scikit-learn.org/stable/modules/generated/sklearn.feature_selection.mutual_info_classif.html#sklearn.feature_selection.mutual_info_classif)"
   ]
  },
  {
   "cell_type": "code",
   "execution_count": 53,
   "metadata": {
    "execution": {
     "iopub.execute_input": "2022-04-26T02:20:22.286065Z",
     "iopub.status.busy": "2022-04-26T02:20:22.285747Z",
     "iopub.status.idle": "2022-04-26T02:20:24.081406Z",
     "shell.execute_reply": "2022-04-26T02:20:24.080474Z",
     "shell.execute_reply.started": "2022-04-26T02:20:22.286015Z"
    },
    "gradient": {
     "editing": false,
     "id": "2fc6aa9c-2141-466f-80d4-76e34a3981da",
     "kernelId": "45d7d3ba-2e93-4fa3-9801-4228e2d66dd7",
     "source_hidden": false
    }
   },
   "outputs": [],
   "source": [
    "import pandas as pd\n",
    "\n",
    "train = pd.read_csv('train.csv', sep='\\t', true_values = ['T'], false_values= ['F'])\n",
    "test  = pd.read_csv('test.csv',  sep='\\t', true_values = ['T'], false_values= ['F'])"
   ]
  },
  {
   "cell_type": "code",
   "execution_count": 54,
   "metadata": {
    "collapsed": false,
    "execution": {
     "iopub.execute_input": "2022-04-26T02:20:24.543434Z",
     "iopub.status.busy": "2022-04-26T02:20:24.543125Z",
     "iopub.status.idle": "2022-04-26T02:20:24.588300Z",
     "shell.execute_reply": "2022-04-26T02:20:24.587416Z",
     "shell.execute_reply.started": "2022-04-26T02:20:24.543381Z"
    },
    "gradient": {
     "editing": false,
     "id": "d3c21df1-9783-4720-9233-33a6156bd781",
     "kernelId": "45d7d3ba-2e93-4fa3-9801-4228e2d66dd7",
     "source_hidden": false
    },
    "jupyter": {
     "outputs_hidden": false
    }
   },
   "outputs": [
    {
     "data": {
      "text/plain": [
       "165"
      ]
     },
     "execution_count": 54,
     "metadata": {},
     "output_type": "execute_result"
    }
   ],
   "source": [
    "train.select_dtypes(include='bool').columns.shape[0]"
   ]
  },
  {
   "cell_type": "code",
   "execution_count": 4,
   "metadata": {
    "execution": {
     "iopub.execute_input": "2022-04-18T13:44:33.207372Z",
     "iopub.status.busy": "2022-04-18T13:44:33.207105Z",
     "iopub.status.idle": "2022-04-18T13:44:33.218108Z",
     "shell.execute_reply": "2022-04-18T13:44:33.217514Z",
     "shell.execute_reply.started": "2022-04-18T13:44:33.207332Z"
    },
    "gradient": {
     "editing": false,
     "id": "35c15b35-e4fb-466a-bc73-de8151a914ee",
     "kernelId": "45d7d3ba-2e93-4fa3-9801-4228e2d66dd7",
     "source_hidden": false
    }
   },
   "outputs": [],
   "source": [
    "from itertools import combinations\n",
    "\n",
    "def combinationCols(df, level=2):\n",
    "    return list(map(list, combinations(df.select_dtypes(include='bool').columns, 2)))\n",
    "\n",
    "def filterBinaryCols(df):\n",
    "    return df.loc[:, (df == True).any()].loc[:, (df == False).any()]\n",
    "\n",
    "def conjunctionCols(df):\n",
    "    return pd.DataFrame({'&'.join(cols) : df[cols].all(axis=1) for cols in combinationCols(df)})\n",
    "\n",
    "def disjunctionCols(df):\n",
    "    return pd.DataFrame({'|'.join(cols) : df[cols].any(axis=1) for cols in combinationCols(df)})\n",
    "\n",
    "def conjunctionNegCols(df):\n",
    "    comb = combinationCols(df)\n",
    "    return   (pd.DataFrame({f'{p}&{q}'   : df[p] & df[q]   for p, q in comb})) \\\n",
    "        .join(pd.DataFrame({f'~{p}&{q}'  : ~df[p] & df[q]  for p, q in comb})) \\\n",
    "        .join(pd.DataFrame({f'{p}&~{q}'  : df[p] & ~df[q]  for p, q in comb})) \\\n",
    "        .join(pd.DataFrame({f'~{p}&~{q}' : ~df[p] & ~df[q] for p, q in comb}))\n",
    "\n",
    "def disjunctionNegCols(df):\n",
    "    comb = combinationCols(df)\n",
    "    return   (pd.DataFrame({f'{p}|{q}'   : df[p] | df[q]   for p, q in comb})) \\\n",
    "        .join(pd.DataFrame({f'~{p}|{q}'  : ~df[p] | df[q]  for p, q in comb})) \\\n",
    "        .join(pd.DataFrame({f'{p}|~{q}'  : df[p] | ~df[q]  for p, q in comb})) \\\n",
    "        .join(pd.DataFrame({f'~{p}|~{q}' : ~df[p] | ~df[q] for p, q in comb}))"
   ]
  },
  {
   "cell_type": "markdown",
   "metadata": {
    "execution": {
     "iopub.execute_input": "2022-05-10T14:28:25.427767Z",
     "iopub.status.busy": "2022-05-10T14:28:25.427462Z",
     "iopub.status.idle": "2022-05-10T14:28:25.433446Z",
     "shell.execute_reply": "2022-05-10T14:28:25.432149Z",
     "shell.execute_reply.started": "2022-05-10T14:28:25.427721Z"
    }
   },
   "source": [
    "## Construct attributes from inferences\n",
    "\n",
    "#### Human conventions\n",
    "\n",
    "* Chop card – the oldest unclued card\n",
    "\n",
    "#### Informative inferences\n",
    "\n",
    "* Existing `ps...` (plausible) attributes only incorporate information from previously received clues, but agents can examine the discard pile and their partner's hand and consider the maximum copies of each card to further eliminate possibilities\n",
    "\n",
    "* Agents can sometimes infer whether playing or discarding a card is rewarding or dangerous, if its rank is known and the firework stacks are considered – such rules involve many atomic attributes and are challenging for rule learners to produce"
   ]
  },
  {
   "cell_type": "code",
   "execution_count": 55,
   "metadata": {
    "execution": {
     "iopub.execute_input": "2022-04-26T02:20:32.930284Z",
     "iopub.status.busy": "2022-04-26T02:20:32.929764Z",
     "iopub.status.idle": "2022-04-26T02:20:32.950484Z",
     "shell.execute_reply": "2022-04-26T02:20:32.949782Z",
     "shell.execute_reply.started": "2022-04-26T02:20:32.930229Z"
    }
   },
   "outputs": [],
   "source": [
    "def chopCols(df):\n",
    "    ch = pd.DataFrame({'Chop_c5'  : (df[['Col_c5',  'Rnk_c5' ]] == 'X').all(axis=1),\n",
    "                       'Chop_c4'  : (df[['Col_c5',  'Rnk_c5' ]] != 'X').any(axis=1) & (df[['Col_c4',  'Rnk_c4' ]] == 'X').all(axis=1),\n",
    "                       'Chop_c3'  : (df[['Col_c5',  'Rnk_c5' ]] != 'X').any(axis=1) & (df[['Col_c4',  'Rnk_c4' ]] != 'X').any(axis=1) & (df[['Col_c3',  'Rnk_c3' ]] == 'X').all(axis=1),\n",
    "                       'Chop_c2'  : (df[['Col_c5',  'Rnk_c5' ]] != 'X').any(axis=1) & (df[['Col_c4',  'Rnk_c4' ]] != 'X').any(axis=1) & (df[['Col_c3',  'Rnk_c3' ]] != 'X').any(axis=1) & (df[['Col_c2',  'Rnk_c2' ]] == 'X').all(axis=1),\n",
    "                       'Chop_c1'  : (df[['Col_c5',  'Rnk_c5' ]] != 'X').any(axis=1) & (df[['Col_c4',  'Rnk_c4' ]] != 'X').any(axis=1) & (df[['Col_c3',  'Rnk_c3' ]] != 'X').any(axis=1) & (df[['Col_c2',  'Rnk_c2' ]] != 'X').any(axis=1) & (df[['Col_c1',  'Rnk_c1' ]] == 'X').all(axis=1),\n",
    "                       'KChop_c5' : (df[['KCol_c5', 'KRnk_c5']] == 'X').all(axis=1),\n",
    "                       'KChop_c4' : (df[['KCol_c5', 'KRnk_c5']] != 'X').any(axis=1) & (df[['KCol_c4', 'KRnk_c4']] == 'X').all(axis=1),\n",
    "                       'KChop_c3' : (df[['KCol_c5', 'KRnk_c5']] != 'X').any(axis=1) & (df[['KCol_c4', 'KRnk_c4']] != 'X').any(axis=1) & (df[['KCol_c3', 'KRnk_c3']] == 'X').all(axis=1),\n",
    "                       'KChop_c2' : (df[['KCol_c5', 'KRnk_c5']] != 'X').any(axis=1) & (df[['KCol_c4', 'KRnk_c4']] != 'X').any(axis=1) & (df[['KCol_c3', 'KRnk_c3']] != 'X').any(axis=1) & (df[['KCol_c2', 'KRnk_c2']] == 'X').all(axis=1),\n",
    "                       'KChop_c1' : (df[['KCol_c5', 'KRnk_c5']] != 'X').any(axis=1) & (df[['KCol_c4', 'KRnk_c4']] != 'X').any(axis=1) & (df[['KCol_c3', 'KRnk_c3']] != 'X').any(axis=1) & (df[['KCol_c2', 'KRnk_c2']] != 'X').any(axis=1) & (df[['KCol_c1', 'KRnk_c1']] == 'X').all(axis=1)})\n",
    "    return ch.join(pd.DataFrame({f'is{x}_chop' : ch['KChop_c1'] & df[f'is{x}_c1'] |\n",
    "                                                 ch['KChop_c2'] & df[f'is{x}_c2'] |\n",
    "                                                 ch['KChop_c3'] & df[f'is{x}_c3'] |\n",
    "                                                 ch['KChop_c4'] & df[f'is{x}_c4'] |\n",
    "                                                 ch['KChop_c5'] & df[f'is{x}_c5'] for x in ('R','Y','G','W','B','1','2','3','4','5')}))\n",
    "\n",
    "def chopAction(df):\n",
    "    df.loc[(df['class'] == 'COLOR_R') & df['isR_chop'] |\n",
    "           (df['class'] == 'COLOR_Y') & df['isY_chop'] |\n",
    "           (df['class'] == 'COLOR_G') & df['isG_chop'] |\n",
    "           (df['class'] == 'COLOR_W') & df['isW_chop'] |\n",
    "           (df['class'] == 'COLOR_B') & df['isB_chop'], 'class'] = 'COLOR_CHOP'\n",
    "    df.loc[(df['class'] == 'RANK_1') & df['is1_chop'] |\n",
    "           (df['class'] == 'RANK_2') & df['is2_chop'] |\n",
    "           (df['class'] == 'RANK_3') & df['is3_chop'] |\n",
    "           (df['class'] == 'RANK_4') & df['is4_chop'] |\n",
    "           (df['class'] == 'RANK_5') & df['is5_chop'], 'class'] = 'RANK_CHOP'\n",
    "    df.loc[(df['class'] == 'PLAY_1') & df['Chop_c1'] |\n",
    "           (df['class'] == 'PLAY_2') & df['Chop_c2'] |\n",
    "           (df['class'] == 'PLAY_3') & df['Chop_c3'] |\n",
    "           (df['class'] == 'PLAY_4') & df['Chop_c4'] |\n",
    "           (df['class'] == 'PLAY_5') & df['Chop_c5'], 'class'] = 'PLAY_CHOP' # ignore?\n",
    "    df.loc[(df['class'] == 'DISCARD_1') & df['Chop_c1'] |\n",
    "           (df['class'] == 'DISCARD_2') & df['Chop_c2'] |\n",
    "           (df['class'] == 'DISCARD_3') & df['Chop_c3'] |\n",
    "           (df['class'] == 'DISCARD_4') & df['Chop_c4'] |\n",
    "           (df['class'] == 'DISCARD_5') & df['Chop_c5'], 'class'] = 'DISCARD_CHOP'\n",
    "    return df\n",
    "\n",
    "def includeChop(df):\n",
    "    return chopAction(appendCols(df, chopCols(df)))"
   ]
  },
  {
   "cell_type": "code",
   "execution_count": 59,
   "metadata": {
    "execution": {
     "iopub.execute_input": "2022-04-26T02:21:30.875851Z",
     "iopub.status.busy": "2022-04-26T02:21:30.875579Z",
     "iopub.status.idle": "2022-04-26T02:21:30.905978Z",
     "shell.execute_reply": "2022-04-26T02:21:30.905404Z",
     "shell.execute_reply.started": "2022-04-26T02:21:30.875811Z"
    }
   },
   "outputs": [],
   "source": [
    "import numpy as np\n",
    "\n",
    "def deduceCols(df):\n",
    "    cards = df.columns[df.columns.str.startswith('ds_')].str[3:]\n",
    "    colours = cards.str[0].unique()\n",
    "    ranks = cards.str[1].unique()\n",
    "    hand = df.columns[df.columns.str.startswith('psR_')].str[4:] # 'c1', 'c2', ...\n",
    "    # seen_R1 = ds_R1 + int(isR_c1 & is1_c1)\n",
    "    #                 + int(isR_c2 & is1_c2) ...\n",
    "    seen = pd.DataFrame({f'seen_{c}{r}' : df[f'ds_{c}{r}'] +\n",
    "                         pd.DataFrame(zip(*[\n",
    "                             (df[f'is{c}_{card}'] & df[f'is{r}_{card}']).astype(int)\n",
    "                             for card in hand])).sum(axis=1)\n",
    "                         for c, r in cards}) # deduce visible copies\n",
    "    # card 1 can only be rank 1 if, for some plausible colour of card 1,\n",
    "    # not all rank 1 cards of that colour has been seen (exists C. psC_c1 & seen_C1 < 3)\n",
    "    # dps1_c1 = ps1_c1 & ( psR_c1 & seen_R1 < 3\n",
    "    #                    | psY_c1 & seen_Y1 < 3)\n",
    "    # dpsR_c1 = psR_c1 & ( ps1_c1 & seen_R1 < 3\n",
    "    #                    | ps2_c1 & seen_R2 < 3 ...)\n",
    "    copies = {'1': 3, '2': 2, '3': 2, '4': 2, '5': 1}\n",
    "    dpsC = pd.DataFrame({f'dps{c}_{card}' : df[f'ps{c}_{card}'] &\n",
    "                         pd.DataFrame(zip(*[\n",
    "                             df[f'ps{r}_{card}'] & (seen[f'seen_{c}{r}'] < copies[r])\n",
    "                             for r in ranks])).any(axis=1)\n",
    "                         for card in hand\n",
    "                         for c in colours}) # deduce plausible colours\n",
    "    dpsR = pd.DataFrame({f'dps{r}_{card}' : df[f'ps{r}_{card}'] &\n",
    "                         pd.DataFrame(zip(*[\n",
    "                             df[f'ps{c}_{card}'] & (seen[f'seen_{c}{r}'] < copies[r])\n",
    "                             for c in colours])).any(axis=1)\n",
    "                         for card in hand\n",
    "                         for r in ranks}) # deduce plausible ranks\n",
    "    # dK1_c1 = ps1_c1 & ~(ps2_c1 | ps3_c1 | ps4_c1 | ps5_c1)\n",
    "    # dRnk_c1 = 1*dK1_c1 + 2*dK2_c1 + 3*dK3_c1 + 4*dK4_c1 + 5*dK5_c1 \n",
    "    dRnk = pd.DataFrame({f'dRnk_{card}' : pd.DataFrame(zip(*[\n",
    "                             (dpsR[f'dps{r}_{card}'] &\n",
    "                             ~pd.DataFrame(zip(*[\n",
    "                                 dpsR[f'dps{r1}_{card}']\n",
    "                                 for r1 in ranks if r1 != r])).any(axis=1)).map({True: int(r), False: np.nan})\n",
    "                             for r in ranks])).fillna(method='bfill', axis=1).iloc[:, 0].astype('Int64')\n",
    "                         for card in hand}) # deduce exact ranks\n",
    "    dCol = pd.DataFrame({f'dCol_{card}' : pd.DataFrame(zip(*[\n",
    "                             (dpsC[f'dps{c}_{card}'] &\n",
    "                             ~pd.DataFrame(zip(*[\n",
    "                                 dpsC[f'dps{c1}_{card}']\n",
    "                                 for c1 in colours if c1 != c])).any(axis=1)).map({True: c, False: np.nan})\n",
    "                             for c in colours])).fillna(method='bfill', axis=1).iloc[:, 0].fillna('X') # deduce exact colours\n",
    "                         for card in hand}) # deduce exact colours\n",
    "    # dRnk  = dRnk.join(pd.DataFrame({f'dRnk?_{card}' : dRnk[f'dRnk_{card}'].isna() for card in hand}))\n",
    "    # a card is definitely safe to play if for all plausible colours C, card rank is fw_C+1\n",
    "    sfP  = pd.DataFrame({f'sfP_{card}' : pd.DataFrame(zip(*[\n",
    "                             ~dpsC[f'dps{c}_{card}'] | (dRnk[f'dRnk_{card}'] == df[f'fw_{c}']+1)\n",
    "                             for c in colours])).all(axis=1)\n",
    "                         for card in hand})\n",
    "    # a card is definitely unsafe to play if for all plausible colours C, card rank is not fw_C+1 (lose life)\n",
    "    usfP = pd.DataFrame({f'usfP_{card}' : pd.DataFrame(zip(*[\n",
    "                             ~dpsC[f'dps{c}_{card}'] | (dRnk[f'dRnk_{card}'] != df[f'fw_{c}']+1) & dRnk[f'dRnk_{card}'].notna()\n",
    "                             for c in colours])).all(axis=1)\n",
    "                         for card in hand})\n",
    "    # a card is definitely safe to discard if for all plausible colours C, card rank is < fw_C+1\n",
    "    sfD  = pd.DataFrame({f'sfD_{card}' : pd.DataFrame(zip(*[\n",
    "                             ~dpsC[f'dps{c}_{card}'] | (dRnk[f'dRnk_{card}'] < df[f'fw_{c}']+1)\n",
    "                             for c in colours])).all(axis=1)\n",
    "                         for card in hand})\n",
    "    # a card is definitely unsafe to discard if for all plausible colours C, card rank is >= fw_C+1\n",
    "    usfD = pd.DataFrame({f'usfD_{card}' : pd.DataFrame(zip(*[\n",
    "                             ~dpsC[f'dps{c}_{card}'] | (dRnk[f'dRnk_{card}'] >= df[f'fw_{c}']+1)\n",
    "                             for c in colours])).all(axis=1)\n",
    "                         for card in hand})\n",
    "    dRnk = dRnk.astype(object).fillna('X').astype(str) # all NaN inequalities complete\n",
    "    \n",
    "    dKpsC = pd.DataFrame({f'dKps{c}_{card}' : df[f'Kps{c}_{card}'] &\n",
    "                         pd.DataFrame(zip(*[\n",
    "                             df[f'Kps{r}_{card}'] & (df[f'ds_{c}{r}'] < copies[r])\n",
    "                             for r in ranks])).any(axis=1)\n",
    "                         for card in hand\n",
    "                         for c in colours}) # deduce K plausible colours\n",
    "    dKpsR = pd.DataFrame({f'dKps{r}_{card}' : df[f'Kps{r}_{card}'] &\n",
    "                         pd.DataFrame(zip(*[\n",
    "                             df[f'Kps{c}_{card}'] & (df[f'ds_{c}{r}'] < copies[r])\n",
    "                             for c in colours])).any(axis=1)\n",
    "                         for card in hand\n",
    "                         for r in ranks}) # deduce K plausible ranks\n",
    "    dKRnk = pd.DataFrame({f'dKRnk_{card}' : pd.DataFrame(zip(*[\n",
    "                             (dKpsR[f'dKps{r}_{card}'] &\n",
    "                             ~pd.DataFrame(zip(*[\n",
    "                                 dKpsR[f'dKps{r1}_{card}']\n",
    "                                 for r1 in ranks if r1 != r])).any(axis=1)).map({True: int(r), False: np.nan})\n",
    "                             for r in ranks])).fillna(method='bfill', axis=1).iloc[:, 0].astype('Int64')\n",
    "                         for card in hand}) # deduce exact ranks\n",
    "    dKCol = pd.DataFrame({f'dKCol_{card}' : pd.DataFrame(zip(*[\n",
    "                             (dKpsC[f'dKps{c}_{card}'] &\n",
    "                             ~pd.DataFrame(zip(*[\n",
    "                                 dKpsC[f'dKps{c1}_{card}']\n",
    "                                 for c1 in colours if c1 != c])).any(axis=1)).map({True: c, False: np.nan})\n",
    "                             for c in colours])).fillna(method='bfill', axis=1).iloc[:, 0].fillna('X') # deduce exact colours\n",
    "                         for card in hand}) # deduce exact colours\n",
    "    # a card is definitely safe to play if for all plausible colours C, card rank is fw_C+1\n",
    "    KsfP  = pd.DataFrame({f'KsfP_{card}' : pd.DataFrame(zip(*[\n",
    "                             ~dKpsC[f'dKps{c}_{card}'] | (dKRnk[f'dKRnk_{card}'] == df[f'fw_{c}']+1)\n",
    "                             for c in colours])).all(axis=1)\n",
    "                         for card in hand})\n",
    "    # a card is definitely unsafe to play if for all plausible colours C, card rank is not fw_C+1 (lose life)\n",
    "    KusfP = pd.DataFrame({f'KusfP_{card}' : pd.DataFrame(zip(*[\n",
    "                             ~dKpsC[f'dKps{c}_{card}'] | (dKRnk[f'dKRnk_{card}'] != df[f'fw_{c}']+1) & dKRnk[f'dKRnk_{card}'].notna()\n",
    "                             for c in colours])).all(axis=1)\n",
    "                         for card in hand})\n",
    "    # a card is definitely safe to discard if for all plausible colours C, card rank is < fw_C+1\n",
    "    KsfD  = pd.DataFrame({f'KsfD_{card}' : pd.DataFrame(zip(*[\n",
    "                             ~dKpsC[f'dKps{c}_{card}'] | (dKRnk[f'dKRnk_{card}'] < df[f'fw_{c}']+1)\n",
    "                             for c in colours])).all(axis=1)\n",
    "                         for card in hand})\n",
    "    # a card is definitely unsafe to discard if for all plausible colours C, card rank is >= fw_C+1\n",
    "    KusfD = pd.DataFrame({f'KusfD_{card}' : pd.DataFrame(zip(*[\n",
    "                             ~dKpsC[f'dKps{c}_{card}'] | (dKRnk[f'dKRnk_{card}'] >= df[f'fw_{c}']+1)\n",
    "                             for c in colours])).all(axis=1)\n",
    "                         for card in hand})\n",
    "    dKRnk = dKRnk.astype(object).fillna('X').astype(str) # all NaN inequalities complete\n",
    "    \n",
    "    df = dpsC.join(dpsR).join(dCol).join(dRnk).join(sfP).join(usfP).join(sfD).join(usfD)\n",
    "    df = df.join(dKpsC).join(dKpsR).join(dKCol).join(dKRnk).join(KsfP).join(KusfP).join(KsfD).join(KusfD)\n",
    "    \n",
    "    # remove 'd' prefix\n",
    "    return df.rename(columns={col : col[1:] for col in df.columns[df.columns.str.startswith('d')]})\n",
    "\n",
    "def appendDeduceCols(df):\n",
    "    # remove old KR/KY cols\n",
    "    return appendCols(df.drop(columns=df.columns[df.columns.str.match('K._')]), deduceCols(df))\n",
    "\n",
    "def dropBelief(df):\n",
    "    # remove K* cols\n",
    "    return df.drop(columns=df.columns[df.columns.str.match('K.')])"
   ]
  },
  {
   "cell_type": "markdown",
   "metadata": {},
   "source": [
    "## Transform datasets for BioHEL\n",
    "\n",
    "* Datasets exported to the BioHEL-compatibile ARFF file format"
   ]
  },
  {
   "cell_type": "code",
   "execution_count": 20,
   "metadata": {
    "execution": {
     "iopub.execute_input": "2022-04-26T01:34:32.726945Z",
     "iopub.status.busy": "2022-04-26T01:34:32.726667Z",
     "iopub.status.idle": "2022-04-26T01:34:32.735534Z",
     "shell.execute_reply": "2022-04-26T01:34:32.734841Z",
     "shell.execute_reply.started": "2022-04-26T01:34:32.726902Z"
    },
    "gradient": {
     "editing": false,
     "id": "ff802be5-3b7c-4217-a407-ad0d1ddea552",
     "kernelId": "45d7d3ba-2e93-4fa3-9801-4228e2d66dd7",
     "source_hidden": false
    }
   },
   "outputs": [],
   "source": [
    "import csv\n",
    "import numpy as np\n",
    "\n",
    "def exportDataset(df, filename, chunk_size=500):\n",
    "    type_map = {\n",
    "        np.dtype(bool): '{0,1}',\n",
    "        np.dtype(np.float64): 'NUMERIC',\n",
    "        np.dtype(np.int64): 'NUMERIC',\n",
    "        pd.Int64Dtype(): 'NUMERIC'\n",
    "    }\n",
    "    with open('%s.txt' % filename, 'w') as f:\n",
    "        f.write('@relation %s\\n' % filename)\n",
    "        # write attribute data\n",
    "        for attribute in df.columns:\n",
    "            dtype = df[attribute].dtype\n",
    "            if dtype in type_map:\n",
    "                atype = type_map[dtype]\n",
    "            else:\n",
    "                atype = '{%s}' % ','.join(sorted(df[attribute].unique()))\n",
    "            f.write('@attribute %s %s\\n' % (attribute, atype))\n",
    "        # write dataset in chunks\n",
    "        f.write('@data\\n')\n",
    "        chunks = [df[i:i+chunk_size] for i in range(0, df.shape[0], chunk_size)]\n",
    "        for chunk in chunks:\n",
    "            (chunk*1).to_csv(f, header=False, index=False, mode='a', na_rep='?')\n",
    "\n",
    "def appendCols(df, cols):\n",
    "    old_cols = df.columns.tolist()\n",
    "    add_cols = cols.columns.difference(df.columns).tolist()\n",
    "    print('overwriting columns:', cols.columns.intersection(df.columns).tolist())\n",
    "    df = df.reindex(columns=old_cols[:-1] + add_cols + old_cols[-1:])\n",
    "    df.loc[cols.index, cols.columns] = cols\n",
    "    return df"
   ]
  },
  {
   "cell_type": "code",
   "execution_count": 57,
   "metadata": {
    "collapsed": false,
    "execution": {
     "iopub.execute_input": "2022-04-26T02:20:50.117028Z",
     "iopub.status.busy": "2022-04-26T02:20:50.116749Z",
     "iopub.status.idle": "2022-04-26T02:20:50.121743Z",
     "shell.execute_reply": "2022-04-26T02:20:50.121191Z",
     "shell.execute_reply.started": "2022-04-26T02:20:50.116988Z"
    },
    "gradient": {
     "editing": false,
     "id": "16deb744-5fd8-421c-912e-0167704d8aad",
     "kernelId": "45d7d3ba-2e93-4fa3-9801-4228e2d66dd7",
     "source_hidden": false
    },
    "jupyter": {
     "outputs_hidden": false
    }
   },
   "outputs": [
    {
     "name": "stdout",
     "output_type": "stream",
     "text": [
      "/notebooks/BioHEL-demo/BioHEL-cuda/Datasets\n"
     ]
    }
   ],
   "source": [
    "%cd /notebooks/BioHEL-demo/BioHEL-cuda/Datasets"
   ]
  },
  {
   "cell_type": "code",
   "execution_count": null,
   "metadata": {},
   "outputs": [],
   "source": [
    "# Belief\n",
    "exportDataset(test,  'belief_test')\n",
    "exportDataset(train, 'belief_train')"
   ]
  },
  {
   "cell_type": "code",
   "execution_count": 9,
   "metadata": {
    "execution": {
     "iopub.execute_input": "2022-04-18T13:45:25.522136Z",
     "iopub.status.busy": "2022-04-18T13:45:25.521693Z",
     "iopub.status.idle": "2022-04-18T13:45:50.550686Z",
     "shell.execute_reply": "2022-04-18T13:45:50.549949Z",
     "shell.execute_reply.started": "2022-04-18T13:45:25.522084Z"
    }
   },
   "outputs": [],
   "source": [
    "# Base\n",
    "exportDataset(dropBelief(dropCritical(test)),  'test')\n",
    "exportDataset(dropBelief(dropCritical(train)), 'train')"
   ]
  },
  {
   "cell_type": "code",
   "execution_count": 19,
   "metadata": {
    "execution": {
     "iopub.execute_input": "2022-04-18T13:25:55.734350Z",
     "iopub.status.busy": "2022-04-18T13:25:55.734077Z",
     "iopub.status.idle": "2022-04-18T13:27:05.315412Z",
     "shell.execute_reply": "2022-04-18T13:27:05.314599Z",
     "shell.execute_reply.started": "2022-04-18T13:25:55.734312Z"
    }
   },
   "outputs": [
    {
     "name": "stdout",
     "output_type": "stream",
     "text": [
      "overwriting columns: ['psR_c1', 'psY_c1', 'psG_c1', 'psW_c1', 'psB_c1', 'psR_c2', 'psY_c2', 'psG_c2', 'psW_c2', 'psB_c2', 'psR_c3', 'psY_c3', 'psG_c3', 'psW_c3', 'psB_c3', 'psR_c4', 'psY_c4', 'psG_c4', 'psW_c4', 'psB_c4', 'psR_c5', 'psY_c5', 'psG_c5', 'psW_c5', 'psB_c5', 'ps1_c1', 'ps2_c1', 'ps3_c1', 'ps4_c1', 'ps5_c1', 'ps1_c2', 'ps2_c2', 'ps3_c2', 'ps4_c2', 'ps5_c2', 'ps1_c3', 'ps2_c3', 'ps3_c3', 'ps4_c3', 'ps5_c3', 'ps1_c4', 'ps2_c4', 'ps3_c4', 'ps4_c4', 'ps5_c4', 'ps1_c5', 'ps2_c5', 'ps3_c5', 'ps4_c5', 'ps5_c5', 'Col_c1', 'Col_c2', 'Col_c3', 'Col_c4', 'Col_c5', 'Rnk_c1', 'Rnk_c2', 'Rnk_c3', 'Rnk_c4', 'Rnk_c5', 'KpsR_c1', 'KpsY_c1', 'KpsG_c1', 'KpsW_c1', 'KpsB_c1', 'KpsR_c2', 'KpsY_c2', 'KpsG_c2', 'KpsW_c2', 'KpsB_c2', 'KpsR_c3', 'KpsY_c3', 'KpsG_c3', 'KpsW_c3', 'KpsB_c3', 'KpsR_c4', 'KpsY_c4', 'KpsG_c4', 'KpsW_c4', 'KpsB_c4', 'KpsR_c5', 'KpsY_c5', 'KpsG_c5', 'KpsW_c5', 'KpsB_c5', 'Kps1_c1', 'Kps2_c1', 'Kps3_c1', 'Kps4_c1', 'Kps5_c1', 'Kps1_c2', 'Kps2_c2', 'Kps3_c2', 'Kps4_c2', 'Kps5_c2', 'Kps1_c3', 'Kps2_c3', 'Kps3_c3', 'Kps4_c3', 'Kps5_c3', 'Kps1_c4', 'Kps2_c4', 'Kps3_c4', 'Kps4_c4', 'Kps5_c4', 'Kps1_c5', 'Kps2_c5', 'Kps3_c5', 'Kps4_c5', 'Kps5_c5', 'KCol_c1', 'KCol_c2', 'KCol_c3', 'KCol_c4', 'KCol_c5', 'KRnk_c1', 'KRnk_c2', 'KRnk_c3', 'KRnk_c4', 'KRnk_c5']\n",
      "overwriting columns: ['psR_c1', 'psY_c1', 'psG_c1', 'psW_c1', 'psB_c1', 'psR_c2', 'psY_c2', 'psG_c2', 'psW_c2', 'psB_c2', 'psR_c3', 'psY_c3', 'psG_c3', 'psW_c3', 'psB_c3', 'psR_c4', 'psY_c4', 'psG_c4', 'psW_c4', 'psB_c4', 'psR_c5', 'psY_c5', 'psG_c5', 'psW_c5', 'psB_c5', 'ps1_c1', 'ps2_c1', 'ps3_c1', 'ps4_c1', 'ps5_c1', 'ps1_c2', 'ps2_c2', 'ps3_c2', 'ps4_c2', 'ps5_c2', 'ps1_c3', 'ps2_c3', 'ps3_c3', 'ps4_c3', 'ps5_c3', 'ps1_c4', 'ps2_c4', 'ps3_c4', 'ps4_c4', 'ps5_c4', 'ps1_c5', 'ps2_c5', 'ps3_c5', 'ps4_c5', 'ps5_c5', 'Col_c1', 'Col_c2', 'Col_c3', 'Col_c4', 'Col_c5', 'Rnk_c1', 'Rnk_c2', 'Rnk_c3', 'Rnk_c4', 'Rnk_c5', 'KpsR_c1', 'KpsY_c1', 'KpsG_c1', 'KpsW_c1', 'KpsB_c1', 'KpsR_c2', 'KpsY_c2', 'KpsG_c2', 'KpsW_c2', 'KpsB_c2', 'KpsR_c3', 'KpsY_c3', 'KpsG_c3', 'KpsW_c3', 'KpsB_c3', 'KpsR_c4', 'KpsY_c4', 'KpsG_c4', 'KpsW_c4', 'KpsB_c4', 'KpsR_c5', 'KpsY_c5', 'KpsG_c5', 'KpsW_c5', 'KpsB_c5', 'Kps1_c1', 'Kps2_c1', 'Kps3_c1', 'Kps4_c1', 'Kps5_c1', 'Kps1_c2', 'Kps2_c2', 'Kps3_c2', 'Kps4_c2', 'Kps5_c2', 'Kps1_c3', 'Kps2_c3', 'Kps3_c3', 'Kps4_c3', 'Kps5_c3', 'Kps1_c4', 'Kps2_c4', 'Kps3_c4', 'Kps4_c4', 'Kps5_c4', 'Kps1_c5', 'Kps2_c5', 'Kps3_c5', 'Kps4_c5', 'Kps5_c5', 'KCol_c1', 'KCol_c2', 'KCol_c3', 'KCol_c4', 'KCol_c5', 'KRnk_c1', 'KRnk_c2', 'KRnk_c3', 'KRnk_c4', 'KRnk_c5']\n"
     ]
    }
   ],
   "source": [
    "# Belief + deductions\n",
    "exportDataset(appendDeduceCols(test),  'belief_deduce_test')\n",
    "exportDataset(appendDeduceCols(train), 'belief_deduce_train')"
   ]
  },
  {
   "cell_type": "code",
   "execution_count": 11,
   "metadata": {
    "execution": {
     "iopub.execute_input": "2022-04-18T13:47:34.945980Z",
     "iopub.status.busy": "2022-04-18T13:47:34.945586Z",
     "iopub.status.idle": "2022-04-18T13:48:18.785640Z",
     "shell.execute_reply": "2022-04-18T13:48:18.784892Z",
     "shell.execute_reply.started": "2022-04-18T13:47:34.945924Z"
    }
   },
   "outputs": [
    {
     "name": "stdout",
     "output_type": "stream",
     "text": [
      "overwriting columns: ['psR_c1', 'psY_c1', 'psG_c1', 'psW_c1', 'psB_c1', 'psR_c2', 'psY_c2', 'psG_c2', 'psW_c2', 'psB_c2', 'psR_c3', 'psY_c3', 'psG_c3', 'psW_c3', 'psB_c3', 'psR_c4', 'psY_c4', 'psG_c4', 'psW_c4', 'psB_c4', 'psR_c5', 'psY_c5', 'psG_c5', 'psW_c5', 'psB_c5', 'ps1_c1', 'ps2_c1', 'ps3_c1', 'ps4_c1', 'ps5_c1', 'ps1_c2', 'ps2_c2', 'ps3_c2', 'ps4_c2', 'ps5_c2', 'ps1_c3', 'ps2_c3', 'ps3_c3', 'ps4_c3', 'ps5_c3', 'ps1_c4', 'ps2_c4', 'ps3_c4', 'ps4_c4', 'ps5_c4', 'ps1_c5', 'ps2_c5', 'ps3_c5', 'ps4_c5', 'ps5_c5', 'Col_c1', 'Col_c2', 'Col_c3', 'Col_c4', 'Col_c5', 'Rnk_c1', 'Rnk_c2', 'Rnk_c3', 'Rnk_c4', 'Rnk_c5']\n",
      "overwriting columns: ['psR_c1', 'psY_c1', 'psG_c1', 'psW_c1', 'psB_c1', 'psR_c2', 'psY_c2', 'psG_c2', 'psW_c2', 'psB_c2', 'psR_c3', 'psY_c3', 'psG_c3', 'psW_c3', 'psB_c3', 'psR_c4', 'psY_c4', 'psG_c4', 'psW_c4', 'psB_c4', 'psR_c5', 'psY_c5', 'psG_c5', 'psW_c5', 'psB_c5', 'ps1_c1', 'ps2_c1', 'ps3_c1', 'ps4_c1', 'ps5_c1', 'ps1_c2', 'ps2_c2', 'ps3_c2', 'ps4_c2', 'ps5_c2', 'ps1_c3', 'ps2_c3', 'ps3_c3', 'ps4_c3', 'ps5_c3', 'ps1_c4', 'ps2_c4', 'ps3_c4', 'ps4_c4', 'ps5_c4', 'ps1_c5', 'ps2_c5', 'ps3_c5', 'ps4_c5', 'ps5_c5', 'Col_c1', 'Col_c2', 'Col_c3', 'Col_c4', 'Col_c5', 'Rnk_c1', 'Rnk_c2', 'Rnk_c3', 'Rnk_c4', 'Rnk_c5']\n"
     ]
    }
   ],
   "source": [
    "# Base + deductions\n",
    "exportDataset(appendDeduceCols(dropBelief(dropCritical(test))),  'deduce_test')\n",
    "exportDataset(appendDeduceCols(dropBelief(dropCritical(train))), 'deduce_train')"
   ]
  },
  {
   "cell_type": "code",
   "execution_count": 61,
   "metadata": {
    "execution": {
     "iopub.execute_input": "2022-04-26T02:22:59.953105Z",
     "iopub.status.busy": "2022-04-26T02:22:59.952901Z",
     "iopub.status.idle": "2022-04-26T02:23:44.112388Z",
     "shell.execute_reply": "2022-04-26T02:23:44.111724Z",
     "shell.execute_reply.started": "2022-04-26T02:22:59.953071Z"
    }
   },
   "outputs": [
    {
     "name": "stdout",
     "output_type": "stream",
     "text": [
      "overwriting columns: []\n",
      "overwriting columns: []\n"
     ]
    }
   ],
   "source": [
    "# Belief + chop\n",
    "exportDataset(includeChop(test),  'belief_chop_test')\n",
    "exportDataset(includeChop(train), 'belief_chop_train')"
   ]
  },
  {
   "cell_type": "code",
   "execution_count": 60,
   "metadata": {
    "execution": {
     "iopub.execute_input": "2022-04-26T02:21:38.739588Z",
     "iopub.status.busy": "2022-04-26T02:21:38.739312Z",
     "iopub.status.idle": "2022-04-26T02:22:59.951468Z",
     "shell.execute_reply": "2022-04-26T02:22:59.950394Z",
     "shell.execute_reply.started": "2022-04-26T02:21:38.739548Z"
    }
   },
   "outputs": [
    {
     "name": "stdout",
     "output_type": "stream",
     "text": [
      "overwriting columns: []\n",
      "overwriting columns: ['psR_c1', 'psY_c1', 'psG_c1', 'psW_c1', 'psB_c1', 'psR_c2', 'psY_c2', 'psG_c2', 'psW_c2', 'psB_c2', 'psR_c3', 'psY_c3', 'psG_c3', 'psW_c3', 'psB_c3', 'psR_c4', 'psY_c4', 'psG_c4', 'psW_c4', 'psB_c4', 'psR_c5', 'psY_c5', 'psG_c5', 'psW_c5', 'psB_c5', 'ps1_c1', 'ps2_c1', 'ps3_c1', 'ps4_c1', 'ps5_c1', 'ps1_c2', 'ps2_c2', 'ps3_c2', 'ps4_c2', 'ps5_c2', 'ps1_c3', 'ps2_c3', 'ps3_c3', 'ps4_c3', 'ps5_c3', 'ps1_c4', 'ps2_c4', 'ps3_c4', 'ps4_c4', 'ps5_c4', 'ps1_c5', 'ps2_c5', 'ps3_c5', 'ps4_c5', 'ps5_c5', 'Col_c1', 'Col_c2', 'Col_c3', 'Col_c4', 'Col_c5', 'Rnk_c1', 'Rnk_c2', 'Rnk_c3', 'Rnk_c4', 'Rnk_c5', 'KpsR_c1', 'KpsY_c1', 'KpsG_c1', 'KpsW_c1', 'KpsB_c1', 'KpsR_c2', 'KpsY_c2', 'KpsG_c2', 'KpsW_c2', 'KpsB_c2', 'KpsR_c3', 'KpsY_c3', 'KpsG_c3', 'KpsW_c3', 'KpsB_c3', 'KpsR_c4', 'KpsY_c4', 'KpsG_c4', 'KpsW_c4', 'KpsB_c4', 'KpsR_c5', 'KpsY_c5', 'KpsG_c5', 'KpsW_c5', 'KpsB_c5', 'Kps1_c1', 'Kps2_c1', 'Kps3_c1', 'Kps4_c1', 'Kps5_c1', 'Kps1_c2', 'Kps2_c2', 'Kps3_c2', 'Kps4_c2', 'Kps5_c2', 'Kps1_c3', 'Kps2_c3', 'Kps3_c3', 'Kps4_c3', 'Kps5_c3', 'Kps1_c4', 'Kps2_c4', 'Kps3_c4', 'Kps4_c4', 'Kps5_c4', 'Kps1_c5', 'Kps2_c5', 'Kps3_c5', 'Kps4_c5', 'Kps5_c5', 'KCol_c1', 'KCol_c2', 'KCol_c3', 'KCol_c4', 'KCol_c5', 'KRnk_c1', 'KRnk_c2', 'KRnk_c3', 'KRnk_c4', 'KRnk_c5']\n",
      "overwriting columns: []\n",
      "overwriting columns: ['psR_c1', 'psY_c1', 'psG_c1', 'psW_c1', 'psB_c1', 'psR_c2', 'psY_c2', 'psG_c2', 'psW_c2', 'psB_c2', 'psR_c3', 'psY_c3', 'psG_c3', 'psW_c3', 'psB_c3', 'psR_c4', 'psY_c4', 'psG_c4', 'psW_c4', 'psB_c4', 'psR_c5', 'psY_c5', 'psG_c5', 'psW_c5', 'psB_c5', 'ps1_c1', 'ps2_c1', 'ps3_c1', 'ps4_c1', 'ps5_c1', 'ps1_c2', 'ps2_c2', 'ps3_c2', 'ps4_c2', 'ps5_c2', 'ps1_c3', 'ps2_c3', 'ps3_c3', 'ps4_c3', 'ps5_c3', 'ps1_c4', 'ps2_c4', 'ps3_c4', 'ps4_c4', 'ps5_c4', 'ps1_c5', 'ps2_c5', 'ps3_c5', 'ps4_c5', 'ps5_c5', 'Col_c1', 'Col_c2', 'Col_c3', 'Col_c4', 'Col_c5', 'Rnk_c1', 'Rnk_c2', 'Rnk_c3', 'Rnk_c4', 'Rnk_c5', 'KpsR_c1', 'KpsY_c1', 'KpsG_c1', 'KpsW_c1', 'KpsB_c1', 'KpsR_c2', 'KpsY_c2', 'KpsG_c2', 'KpsW_c2', 'KpsB_c2', 'KpsR_c3', 'KpsY_c3', 'KpsG_c3', 'KpsW_c3', 'KpsB_c3', 'KpsR_c4', 'KpsY_c4', 'KpsG_c4', 'KpsW_c4', 'KpsB_c4', 'KpsR_c5', 'KpsY_c5', 'KpsG_c5', 'KpsW_c5', 'KpsB_c5', 'Kps1_c1', 'Kps2_c1', 'Kps3_c1', 'Kps4_c1', 'Kps5_c1', 'Kps1_c2', 'Kps2_c2', 'Kps3_c2', 'Kps4_c2', 'Kps5_c2', 'Kps1_c3', 'Kps2_c3', 'Kps3_c3', 'Kps4_c3', 'Kps5_c3', 'Kps1_c4', 'Kps2_c4', 'Kps3_c4', 'Kps4_c4', 'Kps5_c4', 'Kps1_c5', 'Kps2_c5', 'Kps3_c5', 'Kps4_c5', 'Kps5_c5', 'KCol_c1', 'KCol_c2', 'KCol_c3', 'KCol_c4', 'KCol_c5', 'KRnk_c1', 'KRnk_c2', 'KRnk_c3', 'KRnk_c4', 'KRnk_c5']\n"
     ]
    }
   ],
   "source": [
    "# Belief + chop + deductions\n",
    "exportDataset(appendDeduceCols(includeChop(test)),  'belief_deduce_chop_test')\n",
    "exportDataset(appendDeduceCols(includeChop(train)), 'belief_deduce_chop_train')"
   ]
  },
  {
   "cell_type": "markdown",
   "metadata": {},
   "source": [
    "## Export datasets after filtering"
   ]
  },
  {
   "cell_type": "code",
   "execution_count": null,
   "metadata": {
    "collapsed": false,
    "gradient": {
     "editing": false,
     "id": "4d0d749d-5628-4572-a71b-15ca4b52351a",
     "kernelId": "45d7d3ba-2e93-4fa3-9801-4228e2d66dd7",
     "source_hidden": false
    },
    "jupyter": {
     "outputs_hidden": false
    }
   },
   "outputs": [],
   "source": [
    "from sklearn.feature_selection import SelectKBest, chi2, mutual_info_classif\n",
    "\n",
    "def selectBest(df, k=55, preserve=0):\n",
    "    print('selecting')\n",
    "    selector = SelectKBest(mutual_info_classif, k=k)\n",
    "    print('fitting')\n",
    "    selector.fit(df.iloc[:, preserve:-1], df.iloc[:, -1])\n",
    "    print('done fitting')\n",
    "    cols = selector.get_support(indices=True)\n",
    "    return df.iloc[:, :preserve].join(df.iloc[:, cols]).join(df.iloc[:, -1])"
   ]
  },
  {
   "cell_type": "code",
   "execution_count": null,
   "metadata": {
    "collapsed": false,
    "gradient": {
     "editing": false,
     "id": "4f66e0c9-1d20-4792-8461-38916aae855e",
     "kernelId": "45d7d3ba-2e93-4fa3-9801-4228e2d66dd7",
     "source_hidden": false
    },
    "jupyter": {
     "outputs_hidden": false
    }
   },
   "outputs": [
    {
     "name": "stdout",
     "output_type": "stream",
     "text": [
      "selecting\n",
      "fitting\n",
      "done fitting\n"
     ]
    }
   ],
   "source": [
    "# train_new = selectBest(appendCols(train, disjunctionCols(train)))\n",
    "train_new = selectBest(appendCols(train, disjunctionCols(train)), 45, 55)"
   ]
  },
  {
   "cell_type": "code",
   "execution_count": null,
   "metadata": {
    "collapsed": false,
    "gradient": {
     "editing": false,
     "id": "e6909d8b-b76d-48b7-bc29-7ad3ba070772",
     "kernelId": "45d7d3ba-2e93-4fa3-9801-4228e2d66dd7",
     "source_hidden": false
    },
    "jupyter": {
     "outputs_hidden": false
    }
   },
   "outputs": [
    {
     "name": "stdout",
     "output_type": "stream",
     "text": [
      "101\n",
      "['isR_c1', 'isY_c1', 'is1_c1', 'is2_c1', 'is3_c1', 'is4_c1', 'is5_c1', 'isR_c2', 'isY_c2', 'is1_c2', 'is2_c2', 'is3_c2', 'is4_c2', 'is5_c2', 'psR_c1', 'psY_c1', 'ps1_c1', 'ps2_c1', 'ps3_c1', 'ps4_c1', 'ps5_c1', 'psR_c2', 'psY_c2', 'ps1_c2', 'ps2_c2', 'ps3_c2', 'ps4_c2', 'ps5_c2', 'KR_c1', 'KY_c1', 'K1_c1', 'K2_c1', 'K3_c1', 'K4_c1', 'K5_c1', 'KR_c2', 'KY_c2', 'K1_c2', 'K2_c2', 'K3_c2', 'K4_c2', 'K5_c2', 'KKC_c1', 'KKR_c1', 'KKC_c2', 'KKR_c2', 'fw_R', 'fw_Y', 'COLOR', 'RANK', 'DISCARD', 'PLAY', 'NONE', 'life', 'info', 'isY_c1|is1_c1', 'isY_c1|ps5_c1', 'isY_c1|NONE', 'is3_c1|ps2_c1', 'is4_c1|ps1_c1', 'isY_c2|K4_c1', 'is1_c2|is4_c2', 'is2_c2|is3_c2', 'is3_c2|RANK', 'ps1_c2|RANK', 'ps2_c2|KR_c1', 'ps2_c2|KY_c1', 'ps2_c2|K1_c1', 'ps2_c2|K5_c1', 'ps2_c2|KR_c2', 'ps2_c2|K4_c2', 'ps2_c2|KKC_c1', 'ps2_c2|KKR_c1', 'ps2_c2|KKC_c2', 'ps2_c2|KKR_c2', 'ps2_c2|COLOR', 'ps2_c2|RANK', 'ps2_c2|DISCARD', 'ps2_c2|PLAY', 'ps2_c2|NONE', 'ps3_c2|ps4_c2', 'ps3_c2|ps5_c2', 'ps3_c2|KR_c1', 'ps3_c2|K3_c1', 'ps3_c2|K4_c1', 'ps3_c2|K5_c1', 'ps3_c2|KY_c2', 'ps3_c2|K1_c2', 'ps3_c2|K2_c2', 'ps3_c2|K4_c2', 'ps3_c2|K5_c2', 'ps3_c2|KKC_c1', 'K3_c1|K4_c2', 'K4_c1|NONE', 'K5_c1|COLOR', 'K1_c2|PLAY', 'K2_c2|KKR_c1', 'K2_c2|DISCARD', 'K3_c2|K5_c2', 'K3_c2|PLAY', 'class']\n"
     ]
    }
   ],
   "source": [
    "print(len(train_new.columns))\n",
    "print([c for c in train_new.columns])"
   ]
  },
  {
   "cell_type": "code",
   "execution_count": null,
   "metadata": {
    "collapsed": false,
    "gradient": {
     "editing": false,
     "id": "7de52f60-e39b-41dd-a9f8-4e73ef889ce7",
     "kernelId": "45d7d3ba-2e93-4fa3-9801-4228e2d66dd7",
     "source_hidden": false
    },
    "jupyter": {
     "outputs_hidden": false
    }
   },
   "outputs": [],
   "source": [
    "test_new  = appendCols(test,  disjunctionCols(test))[train_new.columns]"
   ]
  },
  {
   "cell_type": "code",
   "execution_count": null,
   "metadata": {
    "collapsed": false,
    "gradient": {
     "editing": false,
     "id": "c462ada1-820a-4256-803e-f5442c47008b",
     "kernelId": "45d7d3ba-2e93-4fa3-9801-4228e2d66dd7",
     "source_hidden": false
    },
    "jupyter": {
     "outputs_hidden": false
    }
   },
   "outputs": [],
   "source": [
    "exportDataset(test_new,  'small_disj_mi_100_test')\n",
    "exportDataset(train_new, 'small_disj_mi_100_train')"
   ]
  }
 ],
 "metadata": {
  "kernelspec": {
   "display_name": "Python 3",
   "language": "python",
   "name": "python3"
  },
  "language_info": {
   "codemirror_mode": {
    "name": "ipython",
    "version": 3
   },
   "file_extension": ".py",
   "mimetype": "text/x-python",
   "name": "python",
   "nbconvert_exporter": "python",
   "pygments_lexer": "ipython3",
   "version": "3.6.8"
  }
 },
 "nbformat": 4,
 "nbformat_minor": 4
}
